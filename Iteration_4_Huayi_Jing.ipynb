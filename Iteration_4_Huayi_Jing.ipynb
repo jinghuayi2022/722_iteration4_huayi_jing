{
 "cells": [
  {
   "cell_type": "code",
   "execution_count": 5,
   "id": "47d82085",
   "metadata": {},
   "outputs": [
    {
     "name": "stderr",
     "output_type": "stream",
     "text": [
      "WARNING: An illegal reflective access operation has occurred\n",
      "WARNING: Illegal reflective access by org.apache.spark.unsafe.Platform (file:/home/ubuntu/spark-3.2.1-bin-hadoop2.7/jars/spark-unsafe_2.12-3.2.1.jar) to constructor java.nio.DirectByteBuffer(long,int)\n",
      "WARNING: Please consider reporting this to the maintainers of org.apache.spark.unsafe.Platform\n",
      "WARNING: Use --illegal-access=warn to enable warnings of further illegal reflective access operations\n",
      "WARNING: All illegal access operations will be denied in a future release\n",
      "Using Spark's default log4j profile: org/apache/spark/log4j-defaults.properties\n",
      "Setting default log level to \"WARN\".\n",
      "To adjust logging level use sc.setLogLevel(newLevel). For SparkR, use setLogLevel(newLevel).\n",
      "22/10/03 08:52:15 WARN NativeCodeLoader: Unable to load native-hadoop library for your platform... using builtin-java classes where applicable\n"
     ]
    }
   ],
   "source": [
    "# Must be included at the beginning of each new notebook. Remember to change the app name.\n",
    "import findspark\n",
    "findspark.init('/home/ubuntu/spark-3.2.1-bin-hadoop2.7')\n",
    "import pyspark\n",
    "from pyspark.sql import SparkSession\n",
    "spark = SparkSession.builder.appName('logistic_regression_docs').getOrCreate()\n",
    "\n",
    "# If you're getting an error with numpy, please type 'sudo pip install numpy --user' into the EC2 console.\n",
    "from pyspark.ml.classification import LogisticRegression"
   ]
  },
  {
   "cell_type": "code",
   "execution_count": 6,
   "id": "20cf8d2a",
   "metadata": {},
   "outputs": [],
   "source": [
    "# Use Spark to read in the Ecommerce Customers csv file. You can infer csv schemas. \n",
    "df = (spark.read\n",
    "      .option(\"multiline\", \"true\")\n",
    "      .option(\"quote\", '\"')\n",
    "      .option(\"header\", \"true\")\n",
    "      .option(\"escape\", \"\\\\\")\n",
    "      .option(\"escape\", '\"')\n",
    "      .csv('data_unprocessed_2017_2018.csv')\n",
    ")"
   ]
  },
  {
   "cell_type": "code",
   "execution_count": 7,
   "id": "81339a9c",
   "metadata": {
    "scrolled": true
   },
   "outputs": [
    {
     "name": "stdout",
     "output_type": "stream",
     "text": [
      "root\n",
      " |-- ID: string (nullable = true)\n",
      " |-- age: string (nullable = true)\n",
      " |-- gender: string (nullable = true)\n",
      " |-- country_live: string (nullable = true)\n",
      " |-- country_work: string (nullable = true)\n",
      " |-- race: string (nullable = true)\n",
      " |-- self_employed: string (nullable = true)\n",
      " |-- num_employees: string (nullable = true)\n",
      " |-- tech_company: string (nullable = true)\n",
      " |-- tech_role: string (nullable = true)\n",
      " |-- benefits: string (nullable = true)\n",
      " |-- care_options: string (nullable = true)\n",
      " |-- wellness_program: string (nullable = true)\n",
      " |-- seek_help_resources: string (nullable = true)\n",
      " |-- anonymity: string (nullable = true)\n",
      " |-- leave_difficulty: string (nullable = true)\n",
      " |-- phys_vs_mental: string (nullable = true)\n",
      " |-- supervisor_willingness: string (nullable = true)\n",
      " |-- supervisor_experience: string (nullable = true)\n",
      " |-- supervisor_description: string (nullable = true)\n",
      " |-- coworkers_willingness: string (nullable = true)\n",
      " |-- coworkers_experience: string (nullable = true)\n",
      " |-- coworkers_description: string (nullable = true)\n",
      " |-- phys_health_importance: string (nullable = true)\n",
      " |-- mental_health_importance: string (nullable = true)\n",
      " |-- mental_health_coverage: string (nullable = true)\n",
      " |-- tell_others_experience: string (nullable = true)\n",
      " |-- tell_others_consequence: string (nullable = true)\n",
      " |-- scope_productivity: string (nullable = true)\n",
      " |-- prev_employer: string (nullable = true)\n",
      " |-- prev_tech_company: string (nullable = true)\n",
      " |-- prev_benefits: string (nullable = true)\n",
      " |-- prev_care_options: string (nullable = true)\n",
      " |-- prev_wellness_program: string (nullable = true)\n",
      " |-- prev_seek_help_resources: string (nullable = true)\n",
      " |-- prev_anonymity: string (nullable = true)\n",
      " |-- prev_phys_vs_mental: string (nullable = true)\n",
      " |-- prev_supervisor_willingness: string (nullable = true)\n",
      " |-- prev_supervisor_experience: string (nullable = true)\n",
      " |-- prev_supervisor_description: string (nullable = true)\n",
      " |-- prev_coworkers_willingness: string (nullable = true)\n",
      " |-- prev_coworkers_experience: string (nullable = true)\n",
      " |-- prev_coworkers_description: string (nullable = true)\n",
      " |-- prev_phys_health_importance: string (nullable = true)\n",
      " |-- prev_mental_health_importance: string (nullable = true)\n",
      " |-- mh_disorder: string (nullable = true)\n",
      " |-- mh_diagnosis: string (nullable = true)\n",
      " |-- mh_past: string (nullable = true)\n",
      " |-- mh_treatment: string (nullable = true)\n",
      " |-- mh_family_history: string (nullable = true)\n",
      " |-- work_interfere_treated: string (nullable = true)\n",
      " |-- experience_deterrence: string (nullable = true)\n",
      " |-- friends_fam_willingness: string (nullable = true)\n",
      " |-- phys_interview: string (nullable = true)\n",
      " |-- phys_interview_description: string (nullable = true)\n",
      " |-- mental_interview: string (nullable = true)\n",
      " |-- mental_interview_description: string (nullable = true)\n",
      " |-- do_people_know: string (nullable = true)\n",
      " |-- team_reaction: string (nullable = true)\n",
      " |-- witness_unsupportive: string (nullable = true)\n",
      " |-- unsupportive_description: string (nullable = true)\n",
      " |-- witness_supportive: string (nullable = true)\n",
      " |-- supportive_description: string (nullable = true)\n",
      " |-- tech_ind_support: string (nullable = true)\n",
      "\n"
     ]
    }
   ],
   "source": [
    "df.printSchema()"
   ]
  },
  {
   "cell_type": "code",
   "execution_count": 8,
   "id": "37f66075",
   "metadata": {
    "scrolled": true
   },
   "outputs": [
    {
     "name": "stderr",
     "output_type": "stream",
     "text": [
      "22/10/03 08:52:23 WARN package: Truncated the string representation of a plan since it was too large. This behavior can be adjusted by setting 'spark.sql.debug.maxToStringFields'.\n",
      "                                                                                \r"
     ]
    },
    {
     "data": {
      "text/plain": [
       "Row(ID='0', age='27', gender='Female', country_live='United Kingdom', country_work='United Kingdom', race='I prefer not to answer', self_employed='0', num_employees='100-500', tech_company='1', tech_role='1', benefits='No', care_options='Yes', wellness_program='No', seek_help_resources=\"I don't know\", anonymity=\"I don't know\", leave_difficulty=\"I don't know\", phys_vs_mental='Same level of comfort for each', supervisor_willingness='Yes', supervisor_experience='0', supervisor_description=None, coworkers_willingness='Yes', coworkers_experience='1', coworkers_description='Spoke about my anxiety they were very supportive', phys_health_importance='6', mental_health_importance='0', mental_health_coverage=None, tell_others_experience=None, tell_others_consequence=None, scope_productivity=None, prev_employer='1', prev_tech_company='0', prev_benefits=\"I don't know\", prev_care_options='N/A (was not aware)', prev_wellness_program='Some did', prev_seek_help_resources='Some did', prev_anonymity='Yes, always', prev_phys_vs_mental='Physical health', prev_supervisor_willingness='Yes, all of my previous supervisors', prev_supervisor_experience='0', prev_supervisor_description=None, prev_coworkers_willingness='No, at none of my previous employers', prev_coworkers_experience='0', prev_coworkers_description=None, prev_phys_health_importance='3', prev_mental_health_importance='3', mh_disorder='Possibly', mh_diagnosis=None, mh_past='Possibly', mh_treatment='1', mh_family_history='No', work_interfere_treated='Sometimes', experience_deterrence='No', friends_fam_willingness='5', phys_interview='Yes', phys_interview_description=None, mental_interview='No', mental_interview_description=\"I'd be worried they wouldn't hire me \", do_people_know='0', team_reaction='10', witness_unsupportive='Yes, I experienced', unsupportive_description=None, witness_supportive='Yes, I experienced', supportive_description=None, tech_ind_support='1')"
      ]
     },
     "execution_count": 8,
     "metadata": {},
     "output_type": "execute_result"
    }
   ],
   "source": [
    "df.head()"
   ]
  },
  {
   "cell_type": "code",
   "execution_count": 9,
   "id": "53467ec2",
   "metadata": {
    "scrolled": true
   },
   "outputs": [
    {
     "name": "stdout",
     "output_type": "stream",
     "text": [
      "0\n",
      "27\n",
      "Female\n",
      "United Kingdom\n",
      "United Kingdom\n",
      "I prefer not to answer\n",
      "0\n",
      "100-500\n",
      "1\n",
      "1\n",
      "No\n",
      "Yes\n",
      "No\n",
      "I don't know\n",
      "I don't know\n",
      "I don't know\n",
      "Same level of comfort for each\n",
      "Yes\n",
      "0\n",
      "None\n",
      "Yes\n",
      "1\n",
      "Spoke about my anxiety they were very supportive\n",
      "6\n",
      "0\n",
      "None\n",
      "None\n",
      "None\n",
      "None\n",
      "1\n",
      "0\n",
      "I don't know\n",
      "N/A (was not aware)\n",
      "Some did\n",
      "Some did\n",
      "Yes, always\n",
      "Physical health\n",
      "Yes, all of my previous supervisors\n",
      "0\n",
      "None\n",
      "No, at none of my previous employers\n",
      "0\n",
      "None\n",
      "3\n",
      "3\n",
      "Possibly\n",
      "None\n",
      "Possibly\n",
      "1\n",
      "No\n",
      "Sometimes\n",
      "No\n",
      "5\n",
      "Yes\n",
      "None\n",
      "No\n",
      "I'd be worried they wouldn't hire me \n",
      "0\n",
      "10\n",
      "Yes, I experienced\n",
      "None\n",
      "Yes, I experienced\n",
      "None\n",
      "1\n"
     ]
    }
   ],
   "source": [
    "for item in df.head():\n",
    "    print(item)"
   ]
  },
  {
   "cell_type": "code",
   "execution_count": 10,
   "id": "5ed3b14c",
   "metadata": {},
   "outputs": [
    {
     "data": {
      "text/plain": [
       "[Row(avg(age)=35.375)]"
      ]
     },
     "execution_count": 10,
     "metadata": {},
     "output_type": "execute_result"
    }
   ],
   "source": [
    "from pyspark.sql.functions import col, avg\n",
    "df.select(avg('age')).collect()"
   ]
  },
  {
   "cell_type": "code",
   "execution_count": 11,
   "id": "7af53f5c",
   "metadata": {
    "scrolled": true
   },
   "outputs": [
    {
     "data": {
      "text/plain": [
       "[Row(gender='female (cisgender)'),\n",
       " Row(gender='femalw'),\n",
       " Row(gender='Cis-Female'),\n",
       " Row(gender='transgender'),\n",
       " Row(gender='cis-male'),\n",
       " Row(gender='genderfluid'),\n",
       " Row(gender='My sex is female.'),\n",
       " Row(gender='non-binary'),\n",
       " Row(gender='F'),\n",
       " Row(gender='None'),\n",
       " Row(gender='Genderqueer'),\n",
       " Row(gender='Demiguy'),\n",
       " Row(gender='God King of the Valajar'),\n",
       " Row(gender='man'),\n",
       " Row(gender='none'),\n",
       " Row(gender='Man'),\n",
       " Row(gender='gender non-conforming woman'),\n",
       " Row(gender='Cis male'),\n",
       " Row(gender='Female '),\n",
       " Row(gender='m'),\n",
       " Row(gender=None),\n",
       " Row(gender='Agender'),\n",
       " Row(gender='Male (cis)'),\n",
       " Row(gender='f'),\n",
       " Row(gender='dude'),\n",
       " Row(gender='woman'),\n",
       " Row(gender='Cis woman'),\n",
       " Row(gender='Female'),\n",
       " Row(gender='Cisgender male'),\n",
       " Row(gender='Cis female '),\n",
       " Row(gender='Male (or female, or both)'),\n",
       " Row(gender='cis-Female'),\n",
       " Row(gender='female'),\n",
       " Row(gender='Agender/genderfluid'),\n",
       " Row(gender='trans woman'),\n",
       " Row(gender='M'),\n",
       " Row(gender='SWM'),\n",
       " Row(gender='Woman-identified'),\n",
       " Row(gender='non binary'),\n",
       " Row(gender='Other'),\n",
       " Row(gender='Nonbinary/femme'),\n",
       " Row(gender='femail'),\n",
       " Row(gender='Male, cis'),\n",
       " Row(gender='Mail'),\n",
       " Row(gender='cis hetero male'),\n",
       " Row(gender='Trans woman'),\n",
       " Row(gender='Cisgendered woman'),\n",
       " Row(gender='Female (cis) '),\n",
       " Row(gender='Contextual'),\n",
       " Row(gender='Trans female'),\n",
       " Row(gender='Male-ish'),\n",
       " Row(gender='Cis-male'),\n",
       " Row(gender='MALE'),\n",
       " Row(gender='sometimes'),\n",
       " Row(gender='cis male'),\n",
       " Row(gender='Female-ish'),\n",
       " Row(gender='\\\\-'),\n",
       " Row(gender='Ostensibly Male'),\n",
       " Row(gender='cis female'),\n",
       " Row(gender='uhhhhhhhhh fem genderqueer?'),\n",
       " Row(gender='Malel'),\n",
       " Row(gender='I identify as female'),\n",
       " Row(gender='Woman'),\n",
       " Row(gender='male'),\n",
       " Row(gender='Female (cisgender)'),\n",
       " Row(gender='cis male '),\n",
       " Row(gender='Non binary'),\n",
       " Row(gender='female (cis)'),\n",
       " Row(gender='Transfeminine'),\n",
       " Row(gender='Non-binary'),\n",
       " Row(gender='She/her/they/them'),\n",
       " Row(gender='nonbinary'),\n",
       " Row(gender='Female/gender non-binary.'),\n",
       " Row(gender='Nonbinary'),\n",
       " Row(gender='F, cisgender'),\n",
       " Row(gender='Genderqueer/non-binary'),\n",
       " Row(gender='Male'),\n",
       " Row(gender='male/androgynous '),\n",
       " Row(gender='Genderqueer demigirl'),\n",
       " Row(gender='Cis Male'),\n",
       " Row(gender='*shrug emoji* (F)'),\n",
       " Row(gender='male, born with xy chromosoms'),\n",
       " Row(gender='NB'),\n",
       " Row(gender='cisgender female'),\n",
       " Row(gender='Genderfluid'),\n",
       " Row(gender=\"male (hey this is the tech industry you're talking about)\"),\n",
       " Row(gender='Male '),\n",
       " Row(gender='Trans man')]"
      ]
     },
     "execution_count": 11,
     "metadata": {},
     "output_type": "execute_result"
    }
   ],
   "source": [
    "df.select('gender').distinct().collect()"
   ]
  },
  {
   "cell_type": "code",
   "execution_count": 12,
   "id": "1ef3e176",
   "metadata": {},
   "outputs": [
    {
     "data": {
      "text/plain": [
       "[Row(unsupportive_description='Mostly burn outs totaly unhandled by hierarchy or hr.'),\n",
       " Row(unsupportive_description='Previous job worked me for 60+ days in a row until I had a mental breakdown to which I got told to \"suck it up and deal with it\" or else I would be fired.'),\n",
       " Row(unsupportive_description='Coworker transitioned mtf and was treated poorly by coworkers and management'),\n",
       " Row(unsupportive_description='Too many to list.'),\n",
       " Row(unsupportive_description='Addiction and how it was handled'),\n",
       " Row(unsupportive_description='To pick one example, treating anxiety and depression as \"not our problem, get your work done\"'),\n",
       " Row(unsupportive_description='A former colleague at a former position was having severe issues that may have been anxiety or depression.  My boss was not supportive at all and my teammates and I did not know what to do other than try to be supportive and refer him to EAP.  He ended up having an episode at work that led to him being put on medical leave and eventually let go.'),\n",
       " Row(unsupportive_description=\"I attempted suicide, got hospitalised to seek help for about two weeks, and when returned to the office it was to a meeting about how 'my issues' have costed the company - I resigned immediately as this response was far from the support I needed at the time.\"),\n",
       " Row(unsupportive_description='I know an employee who was fired over behavior related to autism spectrum disorder, and employee who was fired due to diabetic-induced memory loss, and I was personally bullied for ADHD-related behavior at work.'),\n",
       " Row(unsupportive_description=\"I worked for a company that had a very aggressive, faced paced culture. Any health issues were viewed very negatively. I had more than one manager tell me I didn't have a future with the company.\"),\n",
       " Row(unsupportive_description='largely down to misunderstanding and common stigma associated with particular conditions'),\n",
       " Row(unsupportive_description='I\\'ve seen coworkers dismissive of mental health disorders, claiming people were \"making them up to get out of doing their job\".'),\n",
       " Row(unsupportive_description='co-worker was asking for support, was instead stressed more, and was laid-off and committed suicide at work. '),\n",
       " Row(unsupportive_description='they told iresposible'),\n",
       " Row(unsupportive_description='Gossip and eventual firing of the employee'),\n",
       " Row(unsupportive_description='Person was let go.'),\n",
       " Row(unsupportive_description='previous coworker had a burnout, some other coworkers talked about \"she is just chilling at home, she could work more\"'),\n",
       " Row(unsupportive_description=\"My supervisor is old-fashioned and sways towards conservative beliefs. After I revealed that I was diagnosed with ADHD and was receiving treatment, I think she expected that I would become a stereotypical, normal employee who did not have a mental disorder. I would still make the same mistakes that I had before receiving treatment, though to a lesser frequency, however I feel that I received a harsher reaction/consequence than before. I made an effort to educate what my supervisor could expect of me, and discussed with her things that she would still expect of me. Between therapy and developing some coping mechanisms, I like to think I've become a successful employee.\"),\n",
       " Row(unsupportive_description='person was not given any support by peers and left profession'),\n",
       " Row(unsupportive_description='My colleague was experiencing work burnout due to a number of factors (we had very high expectations when it came to work output, and the job demanded a fair amount of travel). When she expressed this feeling of burnout, her options to mitigate the problem were pretty limited - take on less work (and get paid less, since we were contractors), or forfeit her contract, neither of which were viable options considering she was the sole breadwinner between her and her husband. She ended up grinning and bearing with it at a comparably intense level, then became pregnant and eventually quit the job. I suspect that had she received proper support, she would have stayed with the company even during her pregnancy. '),\n",
       " Row(unsupportive_description=\"there was a person that had some kind of dementia or memory issues. they fired 'em.\"),\n",
       " Row(unsupportive_description='Supervisor actively made the problem worse by claiming I never reported things I had to report.'),\n",
       " Row(unsupportive_description='My previous employer was very demanding and saw any request for taking personal time as not being able to handle the pressures of the industry (film/TV). '),\n",
       " Row(unsupportive_description='Burnouts at my former workplace where kind of casual'),\n",
       " Row(unsupportive_description='Employees being bullied to the point of start skipping job, but employer did not care '),\n",
       " Row(unsupportive_description='I saw people who were on “stress” leave ridiculed, or talked about as thought they were it feeling the truth, or just wanted time off'),\n",
       " Row(unsupportive_description='After disclosing my mental illness to an employer, the immediate response was for them to yell \"I don\\'t want to hear any excuses!\" and dismiss the idea of any accommodations outright. They let me go shortly thereafter.'),\n",
       " Row(unsupportive_description='see above re: earlier supervisor. it was a really weird response'),\n",
       " Row(unsupportive_description=\"Saying no to an activity being ignored, until forced to disclose to justify saying no.  Then still coerced into doing the activity or told they didn't understand why not still.\"),\n",
       " Row(unsupportive_description='Causing stress responses in other people'),\n",
       " Row(unsupportive_description=\"This was at a previous employer. In retrospect, I think I suffered from some post-partum anxiety and post-partum depression after the birth of my first child. My leave was pretty short (6 weeks) and after 10 weeks when I would literally be crying at standup half the time, I was told I wasn't ramping up fast enough. I was the first woman on the team and the only mom that had ever been on the team, and honestly, because it was my first, I did not fully realize the extent of the post-partum issues, but there was also no support or recognition for them and, in fact, the additional pressure placed on me probably drove me into a worse spot for a little less than a year before I could think more clearly, recognize what was happening, etc.\"),\n",
       " Row(unsupportive_description=\"I have observed coworkers on dysfunctional teams whose mental illnesses compounded other issues. It's a matter of consistency across the org.\"),\n",
       " Row(unsupportive_description=\"I have been told by HR to never disclose it with anyone. I have also been bullied by another boss and a manager at a small transportation company, Riolo Transportation (based in Carlsbad, CA) where they told me that since I had PTSD, they were unsure if they could trust me to do work. I don't see how either of those things correspond to each other, especially how I was a great worker and never caused any issues (if I made a mistake, I owned up to it and fixed it). I quit on the spot and they cussed me out.\"),\n",
       " Row(unsupportive_description='A coworker was threatening self-harm in her office; the campus police were called in; she was removed, and then dismissed. She became the subject of rumors and gossip, and eventually left. '),\n",
       " Row(unsupportive_description='Anonymity was not respected.'),\n",
       " Row(unsupportive_description='At a previous job employees were not reprimanded for calling out or making fun of mental health disorders.'),\n",
       " Row(unsupportive_description='there was name calling and belittling '),\n",
       " Row(unsupportive_description='Employer does not handle accommodations related to anxiety /workplace design/PTSD well.'),\n",
       " Row(unsupportive_description='Team lead turned down a potential new hire that was very transparent about their issues.'),\n",
       " Row(unsupportive_description='Discussion about how the person might not be able to handle the load or stress due to perceptions of their condition '),\n",
       " Row(unsupportive_description='As previously mentioned, my coworker, who was more senior, used this as an opportunity to isolate me from the rest of the team, negatively impact my performance reviews, and abuse me in a relationship.'),\n",
       " Row(unsupportive_description=\"My supervisor made multiple requests for small accommodations that weren't only denied but ignored completely.\\nMy VP of Engineering called me out in the team Slack for having problems with noise, then in person in the office.\"),\n",
       " Row(unsupportive_description='Previous: Someone was overworked by constant changes to requirements that they had a mental breakdown and got almost violent, and cursed a lot, for ten minutes until the manager felt safe enough to stop them. While I felt unsafe the entire time even after.'),\n",
       " Row(unsupportive_description='Employees at previous job were made to feel guilty if the stressful work was too much for them.'),\n",
       " Row(unsupportive_description='One of the department chairs interacts with me less and is less pleasant to deal with since he has learned about my mental health issues.'),\n",
       " Row(unsupportive_description='Noticed those people dont seem to move up'),\n",
       " Row(unsupportive_description='my boss tried to use it against me, hoping to make me quit'),\n",
       " Row(unsupportive_description='Coworkers tend to discriminate people with any kind of mental illness. Everybody should be fit, because we work with our brain.'),\n",
       " Row(unsupportive_description='Person was included in a layoff after being identified as having an issue'),\n",
       " Row(unsupportive_description='There was no support for my issues'),\n",
       " Row(unsupportive_description='Manager told me to work harder or find another job.'),\n",
       " Row(unsupportive_description=\"At a past job, when I needed a referral to see a psychiatrist to attain medication for bipolar disorder, the doctor (who worked at a clinic run by my employer's company) tried to send me to rehab for alcohol.  (When I did not have a drinking problem, I had bipolar symptoms.)\"),\n",
       " Row(unsupportive_description='Again, in the case of the past coworker who had committed suicide. It was handled poorly before and after the incident.'),\n",
       " Row(unsupportive_description='Victim blaming. Removing responsibility from the person.'),\n",
       " Row(unsupportive_description=None),\n",
       " Row(unsupportive_description='feel it contributed to a perception that i was unstable and led to me being fired.'),\n",
       " Row(unsupportive_description='myself. There was a continuous active attempt to fire me for poor performance after I went through burn out working for several months at 80+ hours a week. I was labelled as not a fit and my reviews became more and more negative without proper reasoning until eventually I left since it was getting too mentlu abusive.'),\n",
       " Row(unsupportive_description=\"A friend of mine committed suicide and when I quit my job right after, my former boss said that I was going to do the same. I like that this question is framed in the singular, that's the response that sticks out but I'm sure there's others.  \"),\n",
       " Row(unsupportive_description='It was coming up in conversation more often than necessary and was usually pointed out as the reason for almost every problem that had nothing to do with it.'),\n",
       " Row(unsupportive_description='Stress for work was causing panic attacks. Rather than help me or extend deadlines, my supervisor tightened the screws.'),\n",
       " Row(unsupportive_description='Burnout and severe depression being not just ignored but with additional work added'),\n",
       " Row(unsupportive_description='I already did. I was fired for poor performance after a perfect review and a 10% raise.'),\n",
       " Row(unsupportive_description=\"(This story is more complicated than this) I cofounded a company. At one point I encountered the woman who drugged and raped me (I'm a man) a year ago in the street and that sent me in to shock that I couldn't get out of for days, my female cofounder told me that this was unacceptable and we split\"),\n",
       " Row(unsupportive_description='Manager/CEO talking down and negatively about co-worker, showing no signs of understanding, sympathy, or empathy when co-worker repeatedly needed to stay home. '),\n",
       " Row(unsupportive_description='A new hire exhibited symptoms and was summarily fired...\"Just get them out of here\"'),\n",
       " Row(unsupportive_description='Psychological abuse by the manager. Clear symptoms of depressions in staff mocked. Staff that had been ongoing and very efficient had become withdrawn and seemingly incompetent. Blame set on them. Abuse ignored. 12 staff left in 3 months. Ignored by direction. '),\n",
       " Row(unsupportive_description='Blaming the victim. Reducing responsibilities in a way that reduces respect and influence.'),\n",
       " Row(unsupportive_description='Not fully informed of accommodations and benefits I was entitled to, pressure to come back to work before ready'),\n",
       " Row(unsupportive_description='Was compartmentalized then fired.'),\n",
       " Row(unsupportive_description='Coworkers were derogatory towards people and received no reprimand'),\n",
       " Row(unsupportive_description=\"I think people just try to use it as an excuse to gossip about other people and try to demean them. They don't need to make allowances necessarily, but they should respect that other person regardless and understand their perspective. Often, comments about others' mental health comes from a lack of emotion in the work place in general.\"),\n",
       " Row(unsupportive_description='Already did'),\n",
       " Row(unsupportive_description='In a badly managed and supported team I was told that as I\\'m so influencing, I need to watch my \"mood\" because it runs off on the team'),\n",
       " Row(unsupportive_description='A coworker recently took a leave of absence for mental health issues and management told the entire workforce this was happening.  There was a meeting with this coworker that was not private and observed by other employees and it was a heated meeting with raised voices and discussion.'),\n",
       " Row(unsupportive_description='It caused much walking on eggshells'),\n",
       " Row(unsupportive_description='Mocking people for suffering from ptsd, disbelief of symptoms, telling people to \"get over it\"'),\n",
       " Row(unsupportive_description='Someone has been let go for their depression meaning they had to take more time off work'),\n",
       " Row(unsupportive_description='The aforementioned coworker who was subject to panic attacks experienced such an event while at work. They were unable to step away from their duties to cope with it.'),\n",
       " Row(unsupportive_description='People reported a male for escaping to the employee \"wellness room\" during a panic attack so he could take care of himself. The reporters said that only breastfeeding mothers could use that room and scolded him because \"males aren\\'t allowed in rooms without windows\".'),\n",
       " Row(unsupportive_description='No comment. I will say it was harsh.'),\n",
       " Row(unsupportive_description='I watched someone with a panic attack become ostracized by co-workers until they quit. '),\n",
       " Row(unsupportive_description='I was overwhelmed and over reacted, my reaction resulted in termination.'),\n",
       " Row(unsupportive_description='At a previous job a coworker had what could only be called a nervous breakdown in the middle of the office. She was very vocal, loud and largely incoherent. She was mocked privately by many other coworkers after the fact. '),\n",
       " Row(unsupportive_description='Requiring counseling, not directing him to appropriate services, poor and possibly racist followup'),\n",
       " Row(unsupportive_description='Actionable workplace abuse'),\n",
       " Row(unsupportive_description='I have seen some unsupportive managers in the past who lacked empathy for mental health issues.'),\n",
       " Row(unsupportive_description='A manager failed to apprise an employee of the availability of medical leave when the employee  was experiencing an extended depressive episode resulting from medication changes. This, combined with the manager switching him from project to project rapidly and not being able to demonstrate execution of work tasks effectively, resulted in that manager firing the employee because of underperformance and erratic behavior instead of a more proper approach: take some time off.'),\n",
       " Row(unsupportive_description='I was suffering depression and I was open about that, that is why my numbers fell, but then I started drinking too much and admitted myself into a detox/psych facility to get better... 5 days later I get out to find myself fired'),\n",
       " Row(unsupportive_description='The responsibilities assigned to the person with the mental health issue were reduced and eventually the person was fired because the person was not “performing well” '),\n",
       " Row(unsupportive_description=\"Don't take issue into account\"),\n",
       " Row(unsupportive_description=\"I can't answer\"),\n",
       " Row(unsupportive_description='They treated the situation as though the person was an outsider. '),\n",
       " Row(unsupportive_description='Issues were shut down and minimized. Thus people quit. '),\n",
       " Row(unsupportive_description=\"Several times I've seen people with depression or other mental problems be fired rather then the employer be supportive and try to deal with/help that person. \"),\n",
       " Row(unsupportive_description='Previous workplace: not being checked in with when red flags come up, not being allowed to take mental wellness days, mocked for bringing the idea up and seen as unable to deal with stress.'),\n",
       " Row(unsupportive_description='In mental health issue, people think it negatively. they think this wont be cured and the person who affected with it he/she wont be able to have regular  work again.'),\n",
       " Row(unsupportive_description=\"I work for a college, and I know some staff have been dismissive of current students' mental health issues or been inclined to deny them admission, claiming that we might not have the resources to support students with certain mental health issues.\"),\n",
       " Row(unsupportive_description='Mocking, criticism, and complaints about that person'),\n",
       " Row(unsupportive_description=\"I've seen managers treat employees with more prejudice about the intent or cause of an employee's actions, thinking less of them. \"),\n",
       " Row(unsupportive_description='In my last workplace it was obvious that a fellow employee was under serious emotional duress however her direct supervisor chose to punish and humiliate her.'),\n",
       " Row(unsupportive_description=\"The environment aggravated my stress and anxiety. The employer refused to do anything about it. It wasn't just me - many of my co-workers quit for the same reason.\"),\n",
       " Row(unsupportive_description='A co-workers contract was not renewed.'),\n",
       " Row(unsupportive_description='A supervisor of another team spoke of a former coworker (at another company) who may have had a mental health issue and said supervisor was very disparaging about the incident and the coworker.'),\n",
       " Row(unsupportive_description=\"A coworker that doesn't get along with me has used my illness and medication as a reason that I couldn't work through issues with them\"),\n",
       " Row(unsupportive_description=\"I had a coworker who was trying to be more prepared regarding their mental health issue by asking questions about the leave policy, and that coworker's questions were basically ignored, which came across as being unimportant.\"),\n",
       " Row(unsupportive_description='Lack of empathy and understanding. Minimizing and questioning the validity.'),\n",
       " Row(unsupportive_description='Coworker with impending burnout was not given room to recover. They quit instead.'),\n",
       " Row(unsupportive_description='employee was let go when should probably have been offered help with anxiety issues'),\n",
       " Row(unsupportive_description='Anxiety was mocked in a woman who needed support.'),\n",
       " Row(unsupportive_description='I was openly mocked and embarrassed in front of members of my team.'),\n",
       " Row(unsupportive_description='At a previous employer an alcoholic coworker was fired on the spot when they came to work intoxicated. '),\n",
       " Row(unsupportive_description='Between co-workers they didn\\'t support a coworker that has issues and they laugh at him. Even the boss makes jokes about \" he forgot to take the pill today \"'),\n",
       " Row(unsupportive_description=\"Not addressing someone's major depression and anxiety disorder led them to be very sick.\"),\n",
       " Row(unsupportive_description='After I returned from my medical leave to attend PHP, I was shunned by pretty much every staff member at my site. No one would talk with me or even make eye contact with me. I needed support more than ever and my extended team isolated me, increasing the intensity of my symptoms.'),\n",
       " Row(unsupportive_description='Manager in previous workplace told me women are mental and stress is just people being lazy and too weak to hack it'),\n",
       " Row(unsupportive_description='Humans are vicious and will use mental health to slur others behind their backs.'),\n",
       " Row(unsupportive_description=\"My manager basically told me that I'm acting very naive and immature, and that all management roles are stressful, that I just need to man up.\"),\n",
       " Row(unsupportive_description='ok'),\n",
       " Row(unsupportive_description=\"That was about 15 years ago, so take this info with some grand assault. Back in Brazil, 15 years ago, having depression was considered not to be a health issue but mainly a spoiled kid issue. So co-workers would treat bad who had it and who had it wouldn't say because of it. All of this changed now. Mental Health issue is treated with a lot respect in all levels back in Brazil.\"),\n",
       " Row(unsupportive_description=\"reported from a stalker coworker, people didn't understood anything about health issue and just asked to change, no help, nothing, also my superior at this time used that to make pressure on me to try to fire me.\"),\n",
       " Row(unsupportive_description='The only event that comes to mind is a previous co-worker talking about their inability to believe that depression is a thing. It was hard for me to understand their stance. \\n\\nThere may have been other circumstances but I do not recall them at this time.'),\n",
       " Row(unsupportive_description='I would prefer not to comment.'),\n",
       " Row(unsupportive_description='I have become the scapegoat and was seen as incompetent.'),\n",
       " Row(unsupportive_description='As mentioned earlier, my supervisor has Anxiety and ADHD.  She is sometimes made the butt of jokes because of this.  Older coworkers, particularly, will openly proclaim that they do not understand why she is the way she is. '),\n",
       " Row(unsupportive_description='I disclosed my condition and was fired two weeks later. This happened at two previous employers.'),\n",
       " Row(unsupportive_description='One of my similarly affected colleagues needed time off as he reached a breaking point. He was harangued for being needy and shuffled around to other groups instead of being given the time needed to heal. '),\n",
       " Row(unsupportive_description='In at least one case, a former coworker was having a panic attack and my former teammates did nothing to be supportive. Afterward, they viewed this person more negatively.'),\n",
       " Row(unsupportive_description='I was fired after attempting suicide twice in 4 months. I had been relocated but my relocation pay was never deposited and I was sleeping in the back of a stranger\\'s van and in hostels. The process for firing was supposed to be a 3 strikes kind of deal: chat with person above you, written notice you can reply to, firing action. Someone had a chat with me that was positive and talked about me levelling up. The next Monday after that, the head of HR and the head of the head of the whole department were on a surprise Skype call with me at 5 am their time to fire me, because I \"didn\\'t appear happy\". When pressed by lawyers they said they didn\\'t have to provide a reason. If they had done the written bit of their procedure, I could have submitted doctors\\' notes that I was going through stuff. But I wasn\\'t going to just put that on the table when someone is having a \"casual chat\" about pathways and corrections and stuff, a first time chat. '),\n",
       " Row(unsupportive_description='I had a manager who knew about my mental health issues, yet he remained unsupportive and bullying in his interactions with me (despite my requests for a degree of understanding and patience).'),\n",
       " Row(unsupportive_description='nah'),\n",
       " Row(unsupportive_description='Responsibilities being taken away from someone after they admitted to struggling with depression.'),\n",
       " Row(unsupportive_description='My depression and ADHD led me to be put on a performance improvement plan'),\n",
       " Row(unsupportive_description='from my manager, he recommended me to be a more friendly person, is not easy to me honestly'),\n",
       " Row(unsupportive_description=\"I don't feel comfortable sharing it, but it was at a previous job not in IT.\"),\n",
       " Row(unsupportive_description='mobbing'),\n",
       " Row(unsupportive_description='Treated differently to others'),\n",
       " Row(unsupportive_description='The person was very limited in their career after they discussed .'),\n",
       " Row(unsupportive_description='Fired after lack of support and increased stress.'),\n",
       " Row(unsupportive_description='A former colleague & friend was having trouble coping with insecurities/doubt, which were compounded by the ellitist and sexist attitude of one of our managers. They literally took no action when she ended up leaving a meeting in tears, not even allowing time for us to do “damage control”.'),\n",
       " Row(unsupportive_description='Employee with addiction issue was let go abruptly and judgmental comments were made about them after they were let go'),\n",
       " Row(unsupportive_description='After therapy a coworker was put immediately under pressure again'),\n",
       " Row(unsupportive_description='Someone was suffering from depression. They disclosed to their manager. The manager thought they were suicidal and called the police on the person. The person was put on a Performance Improvement Plan (despite having good performance). They were eventually let go.'),\n",
       " Row(unsupportive_description='Hostility, bullying'),\n",
       " Row(unsupportive_description='During a discussion about \"mental health first aider\" at work, a coworker dismissed the whole idea, saying that \"no one here suffers from Mental Health Disorder\"'),\n",
       " Row(unsupportive_description='Poorly handled reactions to suicide and how to prevent it.'),\n",
       " Row(unsupportive_description='Was told I wasn\\'t a \"real alcoholic\", company would not make accommodations regarding required happy hour outings.'),\n",
       " Row(unsupportive_description='Politely - go away and deal with this elsewhere.'),\n",
       " Row(unsupportive_description=\"In a previous job, I was fired for it. In other jobs, I left because of unsupportive and/or abusive bosses. Some past jobs were okay or it didn't come up much or at all.\"),\n",
       " Row(unsupportive_description='Someone was more timid than others as a result of some social anxiety. This person was male and ridiculed relentlessly.'),\n",
       " Row(unsupportive_description='See above, about employee who was previously institutionalized. Her supervisor was the one gossiping.'),\n",
       " Row(unsupportive_description='A possibly depressive former coworker, was let go for basically unspecified reasons after kind of spiraling down for several months.'),\n",
       " Row(unsupportive_description='Joking about suicide.'),\n",
       " Row(unsupportive_description='Difficult to explain in a limited capacity like this.'),\n",
       " Row(unsupportive_description='Although my previous employer had very supportive policies when it came to workers dealing with mental health issues, I observed conversations amongst the managers of these people that suggested the managers did not always believe the individual was honest. '),\n",
       " Row(unsupportive_description='Current employer is tasking me with returning to work with job descriptions for whatever I will do next. Am returning from a breakdown, have no idea how to remake my career right now. Need them to help actively, not give me all the responsibility for pitching my career arc. Need options to choose from, not vague \"what do you want to do next\". Blank canvas = horrible anxiety about choosing wrong, pitching a job they won\\'t support'),\n",
       " Row(unsupportive_description='I was terminated. '),\n",
       " Row(unsupportive_description='They don’t care'),\n",
       " Row(unsupportive_description='A past employer was upset I was disorganized and forgetting things. I explained my ADHD and that I need help. I was told it was 100% up to me to manage my work.'),\n",
       " Row(unsupportive_description=\"I've know a few people who became depressed, their work suffered, and then they eventually were fired.\"),\n",
       " Row(unsupportive_description=\"Awkwardness, pretending it didn't exist, encouraging unhealthy behaviors despite knowing that wasn't supportive.\"),\n",
       " Row(unsupportive_description='Managers telling employees to \"suck it up\" or \"leave your personal life at home\", or just sending them home without pay.'),\n",
       " Row(unsupportive_description='Comments about mentally ill people'),\n",
       " Row(unsupportive_description='comments about others\\' behavior/ health as a negative. mental health as a pejorative (a crazy person) and my biggest annoyance - confusing bipolar / multiple personalities with \"Schizo\" '),\n",
       " Row(unsupportive_description=\"Someone said they had been diagnosed with anxiety or deoression. One person said we've all been there. Another started viewing that employee differently and didn't trust them to be capable of handling hard tasks. It affected their raise at the end if the year.\"),\n",
       " Row(unsupportive_description='It was overlooked while I was meeting the expectations, when I had bad period it was mentioned on private meetings. ( Attitude and motivation point of view )'),\n",
       " Row(unsupportive_description='Was told it does not matter.  '),\n",
       " Row(unsupportive_description='person was ridiculed behind their back, not given raises, eventually stressed out of the job '),\n",
       " Row(unsupportive_description='Not 100% sure but I think it was a case of untreated depressing and a particularly unempathetic boss.'),\n",
       " Row(unsupportive_description='i dont think i handled it any better than they did, in all fairness. i believe behaviors related to my mental illness to have gotten me fired at least once.  '),\n",
       " Row(unsupportive_description='I was told to take medical leave for mental health issues '),\n",
       " Row(unsupportive_description=\"Coworker was told to take time off though she didn't want to after she was recovering from a stay in a mental hospital. This was a big point of conflict between herself and her supervisor. \"),\n",
       " Row(unsupportive_description='I had a manager who acted as though he was burdened by my therapy schedule.  Eventually I was let go.  I have no way of proving that was why but I have my suspicions.'),\n",
       " Row(unsupportive_description='Allowing substance abuse problems to escalate to the point the only option was to fire the person when everyone knew.'),\n",
       " Row(unsupportive_description='The manager was abusive in general and attempts to explain mental health issues resulted in essentially plugged ears and \"la la la, I\\'m not listening\"'),\n",
       " Row(unsupportive_description='I basically got fired because oncall work was making me psychotic.'),\n",
       " Row(unsupportive_description='Witnesed extreme anxiety over multiple, sudden changes in team make-up and in the management structure; senior leaders ignored repeated warnings and shut down conversations.'),\n",
       " Row(unsupportive_description=\"out the door you go - not a 'team player'\"),\n",
       " Row(unsupportive_description='as above'),\n",
       " Row(unsupportive_description='I have been brought up on performance review for mental health related absence. I was told to keep my job I had to go to therapy. I was sidelined and removed from a position after having a breakdown and being absent for 2 weeks.'),\n",
       " Row(unsupportive_description='Manager was unaware person was showing symptoms of severe depression. Person eventually left after feeling unsupported.'),\n",
       " Row(unsupportive_description=\"Primarily people act very supportive to the person's face but make it difficult for them to take time off, criticize the person's work quality, and leave that person out of group activities after.\"),\n",
       " Row(unsupportive_description='Someone with depression and anxiety got an accommodation to work at a position with fewer responsibilities, but then was treated as a very junior employee (having been the manager). He left in anger and frustration. '),\n",
       " Row(unsupportive_description='Bi-Polar team mate was treated very poorly at times when her meds impacted her ability to stay awake at her desk'),\n",
       " Row(unsupportive_description='Constant background chatter about how a person \"just needed to buck up\" or \"was scamming the system to do less work\"'),\n",
       " Row(unsupportive_description='New manager responded to me needing a few days off by trying to put me on a performance improvement plan after months of excellent reviews'),\n",
       " Row(unsupportive_description='New employee with mental health issues that needed a support animal was let go because he no longer had the 14-year old note from his doctor for his service dog (dog was 14 years old) and his doctor was three states away.'),\n",
       " Row(unsupportive_description='They would sneer and being condescending in general towards the affected person. '),\n",
       " Row(unsupportive_description='Person got fired'),\n",
       " Row(unsupportive_description='There was a former coworker who lost a baby and was likely suffering from PTSD and my employer did not handle her suffering or mental health status well.'),\n",
       " Row(unsupportive_description='no care'),\n",
       " Row(unsupportive_description='People, not working here, are often mocked for being weak when they are struggling with mental health problems. '),\n",
       " Row(unsupportive_description='Silence about the issue.'),\n",
       " Row(unsupportive_description='misunderstandings and lack of empathy from management'),\n",
       " Row(unsupportive_description='Admitted depression led to needing to find my own challenges and no real tutorage or acknowledgement of achievements.'),\n",
       " Row(unsupportive_description='I made my supervisor aware of my difficulties in certain situations or aspects of the work environment. I was shortly thereafter let go with the reasons being vague. I will never tell another employer a god damned thing.'),\n",
       " Row(unsupportive_description='No.'),\n",
       " Row(unsupportive_description=\"A manager wanted to micromanage the effects of the mental illness on the employee's work.\"),\n",
       " Row(unsupportive_description='Not a response as such, but a previous manager made some derogatory comments about sufferers of ADHD that made me unwilling to open up to him when I was experiencing difficulties.'),\n",
       " Row(unsupportive_description='I have mentioned my depression to co-workers, and one of my colleagues said, \"Suck it up, buttercup\"'),\n",
       " Row(unsupportive_description='Depression/anxiety (related to diagnosed ADD) was exacerbated by a major physical injury caused some attendance issues with one employer. The conversation was not well received, or responded to. The general feeling was \"try harder\"/\"you\\'re not trying hard enough\". '),\n",
       " Row(unsupportive_description='I was at one time berated to the point of experiencing a dissociative episode while sitting in my supervisor\\'s office with a coworker present. When I later confronted the coworker about this, they did not apologize. Also, due to symptoms earlier in the year, I experienced a lapse in performance for one week (the consequences of which were minor). As a result of this I am currently being singled out and micromanaged and my behavior in the office policed, in addition to (at least the perception of) being gaslit by my current supervisor, who \"could not\" supply concrete evidence of my lack of performance.'),\n",
       " Row(unsupportive_description='Gossip'),\n",
       " Row(unsupportive_description='When previous coworkers mentioned mental health, they would sometimes get derided and made fun of by management, especially if they were women.'),\n",
       " Row(unsupportive_description='There was a lot of burnout and depression at one of my previous jobs and the c-level leadership completely disregarded it. They emphasized that you should be \"committed to the company no matter what\" and \"mental health is no excuse to not come to work\"'),\n",
       " Row(unsupportive_description='I described this in a previous response.'),\n",
       " Row(unsupportive_description='I was fired when I collapsed from exhaustion and was hospitalized for pneumonia, bipolar etc. '),\n",
       " Row(unsupportive_description='Addiction and depression enabled and ignored. '),\n",
       " Row(unsupportive_description=' Co-worker called in sick because of mental health,  was laughed at in a background'),\n",
       " Row(unsupportive_description='Team lead is very disrespectful of other people in general, in a practical sense. Leadership even jokes about his responses.'),\n",
       " Row(unsupportive_description='Employer talked about the reasons a co-worker was off sick in a loud and insensitive manner with other employees'),\n",
       " Row(unsupportive_description='One manager at a previous job opened up to me about being in recovery from alcoholism/addiction, and so I opened up to them about it. Unfortunately, this first manager moved into another department and I got a new manager. I decided to be open with the new manager both about my recovery status and having major depression. At first they were supportive. Then, when I decided to quit, they said a lot of extremely hurtful things including calling me lazy, saying that I wanted people to hold my hand, and many condescending comments such as \"Are you sure you should really quit your job right now with your \\'condition\\'?\" all which essentially resulted in gaslighting, since they tried to refute every reason I listed for quitting by saying it was all my fault.'),\n",
       " Row(unsupportive_description='someone went on medical leave for mental health reasons, when they came back their directors refused to let them onto projects or work unsupervised because they \"couldn\\'t trust them\"'),\n",
       " Row(unsupportive_description='Because of an untreated mental health issue, my coworker was subsequently murdered by her long-term boyfriend. She had a history of depression and emotional distress. She stayed in that abusive relationship for stability. Our management knew about this. He ended up beating her to death in their own house. He recently got convicted of her murder after three years of trial and prosecution.'),\n",
       " Row(unsupportive_description='I have been placed on performance management during an episode of depression. I have also been unsupported during major life changes that have triggered episodes of depression.'),\n",
       " Row(unsupportive_description='A colleague had a leaving because depression, and coworkers were talking about her as if the problem she had was not important at all'),\n",
       " Row(unsupportive_description='Criticism'),\n",
       " Row(unsupportive_description=\"I've seen people who suffered from depression and substance abuse issues be fired on the spot for failing to handle their problems.  It wasn't pretty.\"),\n",
       " Row(unsupportive_description='Just the stereotypical, \"oh they\\'re crazy\" or \"just tell yourself to be happy it\\'s not that bad!!!!\" shit.'),\n",
       " Row(unsupportive_description='I told my supervisor that my case load was too high, that the anxiety was triggering my panic attack disorder and I was throwing up every day before work. Nothing happened. My former supervisor was having similar issues and I watched the CEO freeze her out of management until she had to go on permanent medical leave. '),\n",
       " Row(unsupportive_description='Simply ignored.  (\"Just try to smile more\" type of comments)'),\n",
       " Row(unsupportive_description=\"Office gossip about the person.  I don't know if it affected their career progress.\"),\n",
       " Row(unsupportive_description=' '),\n",
       " Row(unsupportive_description='someone was overweight and Hr told them if they would diet and lose the weight they would be prettier'),\n",
       " Row(unsupportive_description='At previous employers, there was a general disregard for employee mental wellbeing via unreasonable deadlines and workloads, which  produced situations that encouraged burnout, frustration, stress, etc. This was especially hard on several co-workers who had existing mental health issues and worsened their symptoms.'),\n",
       " Row(unsupportive_description='I mentioned to my team at lunch that it was World Mental Health Day and that the focus is mental health at work. The CEO of my company responded with \"That\\'s depressing\" and changed the topic to movies.'),\n",
       " Row(unsupportive_description=\"I lost my job. I can't say it was a result of mental illness, but the lack of support caused me to underperform. When I was clearly grieving, I wasn't given any reprieve in my deadlines or responsibilities. They operated with US employment policies rather than EU. I was in threatening situations (being yelled at in front of colleagues) and constantly under enormous stress. I wasn't treated until after I lost my job. It was pretty bad. \"),\n",
       " Row(unsupportive_description='I was fired from a job I\\'d had for several years, and was told I didn\\'t seem \"happy\" there, three months after receiving a very positive performance review. Nobody had ever asked after my well-being during the entire course of my employment.'),\n",
       " Row(unsupportive_description='I have been the employer. I’ve had a depressive employee, and I haven’t been able to effectively handle them. It’s very difficult to find a way to help them while also finding a way for them to be productive.'),\n",
       " Row(unsupportive_description='People'),\n",
       " Row(unsupportive_description='HR and executives clearly had no idea how to support their employee(s) mental health, even when burnout and impractical work conditions were brought to them directly. Ostrich head in the sand all the way. More willing to let people go/burnout and hire anew then deal with it in a sustainable way.'),\n",
       " Row(unsupportive_description='My previous employer (a university) provides no support for graduate student course instructor or TA mental health issues.  They referred to graduate student employee as \"greedy\" and \"entitled\" when attention was brought to the mental health crisis of graduate student employees.'),\n",
       " Row(unsupportive_description='A friend was having delusions and breakdowns. His company did not offer support. They ended up quitting and had a major psychotic break. They were never able to go back to work full time.'),\n",
       " Row(unsupportive_description='Depression & anxiety induced by a problematic product manager was not taken seriously, I was ignored and the abuser was promoted'),\n",
       " Row(unsupportive_description='A coworker was treated as someone trying to take advantage of time off while trying to identify what turned out to be fibromyalgia.'),\n",
       " Row(unsupportive_description='Co worker had  depression and needed time off. Was let go. '),\n",
       " Row(unsupportive_description='People being afraid of my PTSD. People not believing that I have MS or PTSD.'),\n",
       " Row(unsupportive_description='A coworker disclosed that they had ADHD when their cubicle was moved to a very busy and loud area of the office.  They had difficulty concentrating with the commotion around them and disclosed their ADHD (oh, totally forgot to mention this person when I talked about mental healthy convos with coworkers, anyway) to the employer and they rejected her request for an accommodation (a move to a quieter spot in the office) until they rephrased their request in formal, written terms that belied that they knew that the employer could be in violation of ADA by not accommodating them. After the accommodation was made, this person was labeled a trouble-maker by the executive staff and a careful, strategic effort was made to push this person out. Their title and job description were changed and they were soon put on a performance plan when in the past they had received only positive reviews. They saw the writing on the wall and found employment elsewhere.  This person has recently received a lot of visibility for their success - they also now work remotely - so this is very much a success is the best revenge story. STILL.'),\n",
       " Row(unsupportive_description='Person was let go'),\n",
       " Row(unsupportive_description='Coworker revealed he was bipolar but was not treated with real compassion or understanding. In fact he was reprimanded and his salary was docked. Resulting in him walking out.'),\n",
       " Row(unsupportive_description=\"Very stressful project; revealed to boss who had wanted me to work even more hours somewhat prior to reveal.  I was fired (contract), and boss didn't even have the courtesy to tell me.  Another member of the cross-functional team ended up with significant mental health issues due to the stress.\"),\n",
       " Row(unsupportive_description='mostly offhand comments about others being \"crazy,\" acting like a drug addict, \"going postal\" etc unsupportive / negative views of mental health.'),\n",
       " Row(unsupportive_description='When I discussed my anxiety and burnout the situation was left unchanged for so long that things just got worse to the point I had to quit '),\n",
       " Row(unsupportive_description='Insensitive comments about mental health, depression, and suicide from the company owner '),\n",
       " Row(unsupportive_description='There is not really any sort of support for mental health issues at my place of employment. There is a phone number you can call if you want to talk to a third party help line and that is about it. I see people here that are clearly suffering but the prevalent attitude is that you should just suck it up and keep plodding along.'),\n",
       " Row(unsupportive_description='I have chronic body pain as a symptom of my mental health search. I directly explained the pain to a co worker as the reason I was out sick and his reply was that I just hadn’t wanted to come to work. I had another person talk about someone eho was vulnerable about doubts he was having, and she called him weird for doing so. '),\n",
       " Row(unsupportive_description='Someone had a breakdown at work due to working with a difficult team. She left and there was no reason given. I only knew about this because I saw the HR report. '),\n",
       " Row(unsupportive_description='Brilliant at talking the talk rubbish at walking the walk, a serious divide between Professional PC and Personal Ideologies'),\n",
       " Row(unsupportive_description='I was  bullied due to my mental health disorder.'),\n",
       " Row(unsupportive_description='person was treated differently thereafter, any oddity was attributed to illness.')]"
      ]
     },
     "execution_count": 12,
     "metadata": {},
     "output_type": "execute_result"
    }
   ],
   "source": [
    "df.select('unsupportive_description').distinct().collect()"
   ]
  },
  {
   "cell_type": "code",
   "execution_count": 13,
   "id": "90a809c3",
   "metadata": {},
   "outputs": [
    {
     "name": "stdout",
     "output_type": "stream",
     "text": [
      "(1178, 64)\n"
     ]
    }
   ],
   "source": [
    "print((df.count(), len(df.columns)))"
   ]
  },
  {
   "cell_type": "code",
   "execution_count": 14,
   "id": "6b761f92",
   "metadata": {
    "scrolled": true
   },
   "outputs": [
    {
     "data": {
      "text/plain": [
       "{'ID': 0,\n",
       " 'age': 2,\n",
       " 'gender': 16,\n",
       " 'country_live': 2,\n",
       " 'country_work': 2,\n",
       " 'race': 0,\n",
       " 'self_employed': 0,\n",
       " 'num_employees': 169,\n",
       " 'tech_company': 169,\n",
       " 'tech_role': 169,\n",
       " 'benefits': 169,\n",
       " 'care_options': 273,\n",
       " 'wellness_program': 169,\n",
       " 'seek_help_resources': 169,\n",
       " 'anonymity': 169,\n",
       " 'leave_difficulty': 169,\n",
       " 'phys_vs_mental': 169,\n",
       " 'supervisor_willingness': 169,\n",
       " 'supervisor_experience': 169,\n",
       " 'supervisor_description': 909,\n",
       " 'coworkers_willingness': 169,\n",
       " 'coworkers_experience': 170,\n",
       " 'coworkers_description': 844,\n",
       " 'phys_health_importance': 169,\n",
       " 'mental_health_importance': 169,\n",
       " 'mental_health_coverage': 1009,\n",
       " 'tell_others_experience': 1009,\n",
       " 'tell_others_consequence': 1009,\n",
       " 'scope_productivity': 1009,\n",
       " 'prev_employer': 0,\n",
       " 'prev_tech_company': 143,\n",
       " 'prev_benefits': 143,\n",
       " 'prev_care_options': 143,\n",
       " 'prev_wellness_program': 143,\n",
       " 'prev_seek_help_resources': 143,\n",
       " 'prev_anonymity': 143,\n",
       " 'prev_phys_vs_mental': 143,\n",
       " 'prev_supervisor_willingness': 143,\n",
       " 'prev_supervisor_experience': 143,\n",
       " 'prev_supervisor_description': 1012,\n",
       " 'prev_coworkers_willingness': 143,\n",
       " 'prev_coworkers_experience': 145,\n",
       " 'prev_coworkers_description': 954,\n",
       " 'prev_phys_health_importance': 143,\n",
       " 'prev_mental_health_importance': 143,\n",
       " 'mh_disorder': 0,\n",
       " 'mh_diagnosis': 660,\n",
       " 'mh_past': 12,\n",
       " 'mh_treatment': 0,\n",
       " 'mh_family_history': 0,\n",
       " 'work_interfere_treated': 0,\n",
       " 'experience_deterrence': 259,\n",
       " 'friends_fam_willingness': 0,\n",
       " 'phys_interview': 0,\n",
       " 'phys_interview_description': 278,\n",
       " 'mental_interview': 0,\n",
       " 'mental_interview_description': 261,\n",
       " 'do_people_know': 2,\n",
       " 'team_reaction': 2,\n",
       " 'witness_unsupportive': 2,\n",
       " 'unsupportive_description': 929,\n",
       " 'witness_supportive': 2,\n",
       " 'supportive_description': 1178,\n",
       " 'tech_ind_support': 2}"
      ]
     },
     "execution_count": 14,
     "metadata": {},
     "output_type": "execute_result"
    }
   ],
   "source": [
    "null_count = {col:df.filter(df[col].isNull()).count() for col in df.columns}\n",
    "null_count"
   ]
  },
  {
   "cell_type": "markdown",
   "id": "feee75e4",
   "metadata": {},
   "source": [
    "## 2.2 Data Exploration"
   ]
  },
  {
   "cell_type": "code",
   "execution_count": 15,
   "id": "502aa739",
   "metadata": {
    "scrolled": false
   },
   "outputs": [
    {
     "name": "stderr",
     "output_type": "stream",
     "text": [
      "                                                                                \r"
     ]
    },
    {
     "name": "stdout",
     "output_type": "stream",
     "text": [
      "+-----------------------------+-----+------------------+\n",
      "|column                       |count|not_null_ratio    |\n",
      "+-----------------------------+-----+------------------+\n",
      "|race                         |1178 |100.0             |\n",
      "|prev_employer                |1178 |100.0             |\n",
      "|friends_fam_willingness      |1178 |100.0             |\n",
      "|phys_interview               |1178 |100.0             |\n",
      "|mh_disorder                  |1178 |100.0             |\n",
      "|mental_interview             |1178 |100.0             |\n",
      "|mh_treatment                 |1178 |100.0             |\n",
      "|ID                           |1178 |100.0             |\n",
      "|self_employed                |1178 |100.0             |\n",
      "|mh_family_history            |1178 |100.0             |\n",
      "|work_interfere_treated       |1178 |100.0             |\n",
      "|witness_unsupportive         |1176 |99.830220713073   |\n",
      "|witness_supportive           |1176 |99.830220713073   |\n",
      "|tech_ind_support             |1176 |99.830220713073   |\n",
      "|team_reaction                |1176 |99.830220713073   |\n",
      "|age                          |1176 |99.830220713073   |\n",
      "|country_live                 |1176 |99.830220713073   |\n",
      "|country_work                 |1176 |99.830220713073   |\n",
      "|do_people_know               |1176 |99.830220713073   |\n",
      "|mh_past                      |1166 |98.98132427843804 |\n",
      "|gender                       |1162 |98.64176570458405 |\n",
      "|prev_benefits                |1035 |87.86078098471987 |\n",
      "|prev_phys_health_importance  |1035 |87.86078098471987 |\n",
      "|prev_tech_company            |1035 |87.86078098471987 |\n",
      "|prev_wellness_program        |1035 |87.86078098471987 |\n",
      "|prev_phys_vs_mental          |1035 |87.86078098471987 |\n",
      "|prev_mental_health_importance|1035 |87.86078098471987 |\n",
      "|prev_care_options            |1035 |87.86078098471987 |\n",
      "|prev_seek_help_resources     |1035 |87.86078098471987 |\n",
      "|prev_anonymity               |1035 |87.86078098471987 |\n",
      "|prev_supervisor_willingness  |1035 |87.86078098471987 |\n",
      "|prev_supervisor_experience   |1035 |87.86078098471987 |\n",
      "|prev_coworkers_willingness   |1035 |87.86078098471987 |\n",
      "|prev_coworkers_experience    |1033 |87.69100169779287 |\n",
      "|tech_company                 |1009 |85.65365025466893 |\n",
      "|seek_help_resources          |1009 |85.65365025466893 |\n",
      "|tech_role                    |1009 |85.65365025466893 |\n",
      "|benefits                     |1009 |85.65365025466893 |\n",
      "|anonymity                    |1009 |85.65365025466893 |\n",
      "|supervisor_willingness       |1009 |85.65365025466893 |\n",
      "|num_employees                |1009 |85.65365025466893 |\n",
      "|wellness_program             |1009 |85.65365025466893 |\n",
      "|leave_difficulty             |1009 |85.65365025466893 |\n",
      "|supervisor_experience        |1009 |85.65365025466893 |\n",
      "|coworkers_willingness        |1009 |85.65365025466893 |\n",
      "|mental_health_importance     |1009 |85.65365025466893 |\n",
      "|phys_vs_mental               |1009 |85.65365025466893 |\n",
      "|phys_health_importance       |1009 |85.65365025466893 |\n",
      "|coworkers_experience         |1008 |85.56876061120543 |\n",
      "|experience_deterrence        |919  |78.01358234295415 |\n",
      "|mental_interview_description |917  |77.84380305602716 |\n",
      "|care_options                 |905  |76.8251273344652  |\n",
      "|phys_interview_description   |900  |76.4006791171477  |\n",
      "|mh_diagnosis                 |518  |43.97283531409168 |\n",
      "|coworkers_description        |334  |28.35314091680815 |\n",
      "|supervisor_description       |269  |22.835314091680814|\n",
      "|unsupportive_description     |249  |21.137521222410864|\n",
      "|prev_coworkers_description   |224  |19.015280135823428|\n",
      "|mental_health_coverage       |169  |14.34634974533107 |\n",
      "|tell_others_experience       |169  |14.34634974533107 |\n",
      "|tell_others_consequence      |169  |14.34634974533107 |\n",
      "|scope_productivity           |169  |14.34634974533107 |\n",
      "|prev_supervisor_description  |166  |14.091680814940577|\n",
      "|supportive_description       |0    |0.0               |\n",
      "+-----------------------------+-----+------------------+\n",
      "\n"
     ]
    }
   ],
   "source": [
    "from pyspark.sql.functions import *\n",
    "from pyspark import SparkContext\n",
    "from pyspark.sql import SQLContext\n",
    "from functools import reduce\n",
    "import pyspark.sql.functions as F\n",
    "import pandas as pd\n",
    "import numpy as np\n",
    "summary = df.describe().filter(\"summary = 'count'\")\n",
    "columns = df.columns\n",
    "counts  = df.count()\n",
    "\n",
    "summary.rdd \\\n",
    "  .flatMap(lambda row: map(lambda i: (columns[i-1], row[i]), range(1, len(row)))) \\\n",
    "  .toDF(['column', 'count']) \\\n",
    "  .withColumn('not_null_ratio', col('count') / counts * 100) \\\n",
    ".sort(desc(\"not_null_ratio\"))\\\n",
    "  .show(100, False)\n",
    "\n"
   ]
  },
  {
   "cell_type": "code",
   "execution_count": 16,
   "id": "4c2417b1",
   "metadata": {},
   "outputs": [],
   "source": [
    "from pyspark.sql.types import IntegerType\n",
    "df = df.withColumn(\"age\", df[\"age\"].cast(IntegerType()))\n",
    "\n",
    "#data_df = df.withColumn(\"age\", data_df[\"age\"].cast(IntegerType()))"
   ]
  },
  {
   "cell_type": "code",
   "execution_count": 17,
   "id": "22e1aae4",
   "metadata": {},
   "outputs": [
    {
     "name": "stdout",
     "output_type": "stream",
     "text": [
      "+-------+------------------+\n",
      "|summary|               age|\n",
      "+-------+------------------+\n",
      "|  count|              1176|\n",
      "|   mean|            35.375|\n",
      "| stddev|10.366542951531986|\n",
      "|    min|                18|\n",
      "|    max|               139|\n",
      "+-------+------------------+\n",
      "\n"
     ]
    }
   ],
   "source": [
    "df.describe('age').show()"
   ]
  },
  {
   "cell_type": "markdown",
   "id": "3f706982",
   "metadata": {},
   "source": [
    "## 2.3 Exploratory data analysis"
   ]
  },
  {
   "cell_type": "code",
   "execution_count": 18,
   "id": "684a68ef",
   "metadata": {},
   "outputs": [
    {
     "data": {
      "image/png": "[encoded data removed]",
      "text/plain": [
       "<Figure size 432x288 with 1 Axes>"
      ]
     },
     "metadata": {
      "needs_background": "light"
     },
     "output_type": "display_data"
    }
   ],
   "source": [
    "# Import the relevant Python libraries.\n",
    "import numpy as np\n",
    "import matplotlib.pyplot as plt\n",
    "%matplotlib inline\n",
    "\n",
    "\n",
    "age = np.array(df.filter('age > 0').select('age').collect())\n",
    "plt.hist(age, bins =50)\n",
    "plt.show()"
   ]
  },
  {
   "cell_type": "code",
   "execution_count": 19,
   "id": "b0afb424",
   "metadata": {},
   "outputs": [
    {
     "name": "stdout",
     "output_type": "stream",
     "text": [
      "(1171, 64)\n"
     ]
    }
   ],
   "source": [
    "df_filter1 = df.filter('age < 100')\n",
    "print((df_filter1.count(), len(df_filter1.columns)))"
   ]
  },
  {
   "cell_type": "code",
   "execution_count": 20,
   "id": "6b48922d",
   "metadata": {},
   "outputs": [
    {
     "data": {
      "image/png": "[encoded data removed]",
      "text/plain": [
       "<Figure size 432x288 with 1 Axes>"
      ]
     },
     "metadata": {
      "needs_background": "light"
     },
     "output_type": "display_data"
    }
   ],
   "source": [
    "age = np.array(df_filter1.select('age').collect())\n",
    "plt.hist(age, bins =50)\n",
    "plt.show()"
   ]
  },
  {
   "cell_type": "code",
   "execution_count": 33,
   "id": "78eb2a14",
   "metadata": {
    "scrolled": true
   },
   "outputs": [
    {
     "data": {
      "text/plain": [
       "[Row(gender='female (cisgender)'),\n",
       " Row(gender='femalw'),\n",
       " Row(gender='transgender'),\n",
       " Row(gender='female (cis) '),\n",
       " Row(gender='nb'),\n",
       " Row(gender='cis-male'),\n",
       " Row(gender='genderfluid'),\n",
       " Row(gender='non-binary'),\n",
       " Row(gender='female-ish'),\n",
       " Row(gender='she/her/they/them'),\n",
       " Row(gender='woman-identified'),\n",
       " Row(gender='genderqueer demigirl'),\n",
       " Row(gender='man'),\n",
       " Row(gender='none'),\n",
       " Row(gender='gender non-conforming woman'),\n",
       " Row(gender='genderqueer'),\n",
       " Row(gender='m'),\n",
       " Row(gender='transfeminine'),\n",
       " Row(gender=None),\n",
       " Row(gender='male, cis'),\n",
       " Row(gender='malel'),\n",
       " Row(gender='f'),\n",
       " Row(gender='trans female'),\n",
       " Row(gender='dude'),\n",
       " Row(gender='woman'),\n",
       " Row(gender='cisgendered woman'),\n",
       " Row(gender='female'),\n",
       " Row(gender='trans woman'),\n",
       " Row(gender='other'),\n",
       " Row(gender='non binary'),\n",
       " Row(gender='agender/genderfluid'),\n",
       " Row(gender='male-ish'),\n",
       " Row(gender='male '),\n",
       " Row(gender='cis female '),\n",
       " Row(gender='femail'),\n",
       " Row(gender='i identify as female'),\n",
       " Row(gender='cis hetero male'),\n",
       " Row(gender='mail'),\n",
       " Row(gender='cisgender male'),\n",
       " Row(gender='sometimes'),\n",
       " Row(gender='cis male'),\n",
       " Row(gender='f, cisgender'),\n",
       " Row(gender='\\\\-'),\n",
       " Row(gender='demiguy'),\n",
       " Row(gender='male (cis)'),\n",
       " Row(gender='cis female'),\n",
       " Row(gender='uhhhhhhhhh fem genderqueer?'),\n",
       " Row(gender='god king of the valajar'),\n",
       " Row(gender='my sex is female.'),\n",
       " Row(gender='male'),\n",
       " Row(gender='cis male '),\n",
       " Row(gender='male (or female, or both)'),\n",
       " Row(gender='female (cis)'),\n",
       " Row(gender='agender'),\n",
       " Row(gender='*shrug emoji* (f)'),\n",
       " Row(gender='trans man'),\n",
       " Row(gender='ostensibly male'),\n",
       " Row(gender='cis woman'),\n",
       " Row(gender='nonbinary'),\n",
       " Row(gender='contextual'),\n",
       " Row(gender='male/androgynous '),\n",
       " Row(gender='genderqueer/non-binary'),\n",
       " Row(gender='nonbinary/femme'),\n",
       " Row(gender='male, born with xy chromosoms'),\n",
       " Row(gender='swm'),\n",
       " Row(gender='cis-female'),\n",
       " Row(gender='cisgender female'),\n",
       " Row(gender='female '),\n",
       " Row(gender=\"male (hey this is the tech industry you're talking about)\"),\n",
       " Row(gender='female/gender non-binary.')]"
      ]
     },
     "execution_count": 33,
     "metadata": {},
     "output_type": "execute_result"
    }
   ],
   "source": [
    "df_filter1 =  df_filter1.withColumn(\"gender\",F.lower(F.col(\"gender\")))\n",
    "\n",
    "df_filter1.select('gender').distinct().collect()"
   ]
  },
  {
   "cell_type": "code",
   "execution_count": 36,
   "id": "5fe873ba",
   "metadata": {},
   "outputs": [
    {
     "data": {
      "text/plain": [
       "[Row(gender='female (cisgender)'),\n",
       " Row(gender='femalw'),\n",
       " Row(gender='transgender'),\n",
       " Row(gender='female (cis) '),\n",
       " Row(gender='nb'),\n",
       " Row(gender='cis-male'),\n",
       " Row(gender='genderfluid'),\n",
       " Row(gender='non-binary'),\n",
       " Row(gender='female-ish'),\n",
       " Row(gender='she/her/they/them'),\n",
       " Row(gender='woman-identified'),\n",
       " Row(gender='genderqueer demigirl'),\n",
       " Row(gender='man'),\n",
       " Row(gender='none'),\n",
       " Row(gender='gender non-conforming woman'),\n",
       " Row(gender='genderqueer'),\n",
       " Row(gender='m'),\n",
       " Row(gender='transfeminine'),\n",
       " Row(gender=None),\n",
       " Row(gender='male, cis'),\n",
       " Row(gender='malel'),\n",
       " Row(gender='f'),\n",
       " Row(gender='trans female'),\n",
       " Row(gender='dude'),\n",
       " Row(gender='woman'),\n",
       " Row(gender='cisgendered woman'),\n",
       " Row(gender='female'),\n",
       " Row(gender='trans woman'),\n",
       " Row(gender='other'),\n",
       " Row(gender='non binary'),\n",
       " Row(gender='agender/genderfluid'),\n",
       " Row(gender='male-ish'),\n",
       " Row(gender='male '),\n",
       " Row(gender='cis female '),\n",
       " Row(gender='femail'),\n",
       " Row(gender='i identify as female'),\n",
       " Row(gender='cis hetero male'),\n",
       " Row(gender='mail'),\n",
       " Row(gender='cisgender male'),\n",
       " Row(gender='sometimes'),\n",
       " Row(gender='cis male'),\n",
       " Row(gender='f, cisgender'),\n",
       " Row(gender='\\\\-'),\n",
       " Row(gender='demiguy'),\n",
       " Row(gender='male (cis)'),\n",
       " Row(gender='cis female'),\n",
       " Row(gender='uhhhhhhhhh fem genderqueer?'),\n",
       " Row(gender='god king of the valajar'),\n",
       " Row(gender='my sex is female.'),\n",
       " Row(gender='male'),\n",
       " Row(gender='cis male '),\n",
       " Row(gender='male (or female, or both)'),\n",
       " Row(gender='female (cis)'),\n",
       " Row(gender='agender'),\n",
       " Row(gender='*shrug emoji* (f)'),\n",
       " Row(gender='trans man'),\n",
       " Row(gender='ostensibly male'),\n",
       " Row(gender='cis woman'),\n",
       " Row(gender='nonbinary'),\n",
       " Row(gender='contextual'),\n",
       " Row(gender='male/androgynous '),\n",
       " Row(gender='genderqueer/non-binary'),\n",
       " Row(gender='nonbinary/femme'),\n",
       " Row(gender='male, born with xy chromosoms'),\n",
       " Row(gender='swm'),\n",
       " Row(gender='cis-female'),\n",
       " Row(gender='cisgender female'),\n",
       " Row(gender='female '),\n",
       " Row(gender=\"male (hey this is the tech industry you're talking about)\"),\n",
       " Row(gender='female/gender non-binary.')]"
      ]
     },
     "execution_count": 36,
     "metadata": {},
     "output_type": "execute_result"
    }
   ],
   "source": [
    "df_filter1.select('gender').distinct().collect()"
   ]
  },
  {
   "cell_type": "code",
   "execution_count": 22,
   "id": "2af0e729",
   "metadata": {},
   "outputs": [
    {
     "name": "stdout",
     "output_type": "stream",
     "text": [
      "+----------------------+\n",
      "|count(DISTINCT gender)|\n",
      "+----------------------+\n",
      "|                    87|\n",
      "+----------------------+\n",
      "\n"
     ]
    }
   ],
   "source": [
    "from pyspark.sql.functions import col, countDistinct\n",
    "\n",
    "df_filter1.select(F.countDistinct(\"gender\")).show()"
   ]
  },
  {
   "cell_type": "code",
   "execution_count": null,
   "id": "7565f64e",
   "metadata": {},
   "outputs": [],
   "source": []
  },
  {
   "cell_type": "code",
   "execution_count": 45,
   "id": "a6eefa07",
   "metadata": {},
   "outputs": [],
   "source": [
    "import pyspark.sql.functions as F\n",
    "\n",
    "df_filter1 =  df_filter1.withColumn(\"gender\",F.lower(F.col(\"gender\")))\n",
    "\n",
    "female_list = ['female', 'f','female ', 'femalw', 'femail', 'female (cis)', 'female (cis) ','cis female ',\n",
    "                            'my sex is female.', 'female (cisgender)', 'woman-identified', 'cis-female', \n",
    "                            'cis female', 'f, cisgender', 'female-ish', 'trans woman', 'i identify as female',\n",
    "                            '*shrug emoji* (f)', 'cis woman', 'cisgendered woman', 'trans female', 'woman',\n",
    "                            'cisgender female']\n",
    "\n",
    "male_list = ['m', 'man', 'cis-male', 'mail', 'male/androgynous ','cis hetero male', \n",
    "                            'male (cis)','male (hey this is the tech industry you\\'re talking about)',\n",
    "                            'god king of the valajar', 'cis male', 'male ', 'male, cis', 'cis male ',\n",
    "                            'male-ish','dude','ostensibly male','male, born with xy chromosoms','malel', \n",
    "                            'trans man','cisgender male', 'swm', 'male']\n",
    "\n",
    "from pyspark.sql.functions import when\n",
    "\n",
    "df_filter1 = df_filter1.withColumn('gender_new',\n",
    "                                    when(col('gender').isin(female_list),'female')\\\n",
    "                                   .when(col('gender').isin(male_list),'male')\\\n",
    "                                   .otherwise('non-binary'))\n",
    "\n"
   ]
  },
  {
   "cell_type": "code",
   "execution_count": 46,
   "id": "78a1785f",
   "metadata": {},
   "outputs": [
    {
     "name": "stdout",
     "output_type": "stream",
     "text": [
      "+----------+-----+\n",
      "|gender_new|count|\n",
      "+----------+-----+\n",
      "|non-binary|   49|\n",
      "|    female|  348|\n",
      "|      male|  774|\n",
      "+----------+-----+\n",
      "\n"
     ]
    }
   ],
   "source": [
    "df_filter1.groupBy('gender_new').count().show()"
   ]
  },
  {
   "cell_type": "code",
   "execution_count": 48,
   "id": "9388ad8c",
   "metadata": {},
   "outputs": [
    {
     "name": "stdout",
     "output_type": "stream",
     "text": [
      "+------------+-----+\n",
      "|mh_treatment|count|\n",
      "+------------+-----+\n",
      "|           0|  352|\n",
      "|           1|  422|\n",
      "+------------+-----+\n",
      "\n"
     ]
    }
   ],
   "source": [
    "df_male_mh = df_filter1.where(F.col('gender_new')=='male')\n",
    "\n",
    "df_male_mh.groupBy('mh_treatment').count().show()"
   ]
  },
  {
   "cell_type": "code",
   "execution_count": 50,
   "id": "117575b1",
   "metadata": {},
   "outputs": [
    {
     "name": "stdout",
     "output_type": "stream",
     "text": [
      "+------------+-----+\n",
      "|mh_treatment|count|\n",
      "+------------+-----+\n",
      "|           0|   91|\n",
      "|           1|  257|\n",
      "+------------+-----+\n",
      "\n"
     ]
    }
   ],
   "source": [
    "df_female_mh = df_filter1.where(F.col('gender_new')=='female')\n",
    "\n",
    "df_female_mh.groupBy('mh_treatment').count().show()"
   ]
  },
  {
   "cell_type": "code",
   "execution_count": 60,
   "id": "19ea2293",
   "metadata": {},
   "outputs": [
    {
     "data": {
      "text/plain": [
       "<AxesSubplot:xlabel='gender_new'>"
      ]
     },
     "execution_count": 60,
     "metadata": {},
     "output_type": "execute_result"
    },
    {
     "data": {
      "image/png": "[encoded data removed]",
      "text/plain": [
       "<Figure size 432x288 with 1 Axes>"
      ]
     },
     "metadata": {
      "needs_background": "light"
     },
     "output_type": "display_data"
    }
   ],
   "source": [
    "df_gender = df_filter1.groupby('mh_treatment','gender_new').count()\n",
    "pdf_1 = df_gender.toPandas()\n",
    "pdf_1.pivot( 'gender_new', 'mh_treatment','count').plot.bar(stacked=True)"
   ]
  },
  {
   "cell_type": "code",
   "execution_count": 55,
   "id": "94d82570",
   "metadata": {},
   "outputs": [
    {
     "name": "stdout",
     "output_type": "stream",
     "text": [
      "+------------+-----------------+-----+\n",
      "|mh_treatment|mh_family_history|count|\n",
      "+------------+-----------------+-----+\n",
      "|           0|     I don't know|  104|\n",
      "|           1|               No|  109|\n",
      "|           0|               No|  229|\n",
      "|           1|     I don't know|  184|\n",
      "|           1|              Yes|  424|\n",
      "|           0|              Yes|  121|\n",
      "+------------+-----------------+-----+\n",
      "\n"
     ]
    }
   ],
   "source": [
    "df_family = df_filter1.groupby('mh_treatment','mh_family_history').count()\n",
    "df_family.show()"
   ]
  },
  {
   "cell_type": "code",
   "execution_count": 56,
   "id": "a78a7e02",
   "metadata": {},
   "outputs": [],
   "source": [
    "pdf_1 = df_family.toPandas()"
   ]
  },
  {
   "cell_type": "code",
   "execution_count": 59,
   "id": "3933b1b1",
   "metadata": {},
   "outputs": [
    {
     "data": {
      "text/plain": [
       "<AxesSubplot:xlabel='mh_family_history'>"
      ]
     },
     "execution_count": 59,
     "metadata": {},
     "output_type": "execute_result"
    },
    {
     "data": {
      "image/png": "[encoded data removed]",
      "text/plain": [
       "<Figure size 432x288 with 1 Axes>"
      ]
     },
     "metadata": {
      "needs_background": "light"
     },
     "output_type": "display_data"
    }
   ],
   "source": [
    "pdf_1.pivot( 'mh_family_history', 'mh_treatment','count').plot.bar(stacked=True)"
   ]
  },
  {
   "cell_type": "code",
   "execution_count": 130,
   "id": "5487c566",
   "metadata": {},
   "outputs": [
    {
     "data": {
      "image/png": "[encoded data removed]",
      "text/plain": [
       "<Figure size 432x288 with 1 Axes>"
      ]
     },
     "metadata": {
      "needs_background": "light"
     },
     "output_type": "display_data"
    }
   ],
   "source": [
    "age_1 = np.array(df_filter1.filter('mh_treatment == 1').select('age').collect())\n",
    "plt.hist(age_1, bins =50)\n",
    "plt.show()"
   ]
  },
  {
   "cell_type": "code",
   "execution_count": 132,
   "id": "9096f4b0",
   "metadata": {},
   "outputs": [
    {
     "data": {
      "image/png": "[encoded data removed]",
      "text/plain": [
       "<Figure size 432x288 with 1 Axes>"
      ]
     },
     "metadata": {
      "needs_background": "light"
     },
     "output_type": "display_data"
    }
   ],
   "source": [
    "age_2 = np.array(df_filter1.filter('mh_treatment == 0').select('age').collect())\n",
    "plt.hist(age_2, bins =50)\n",
    "plt.show()"
   ]
  },
  {
   "cell_type": "code",
   "execution_count": 74,
   "id": "b9a994cd",
   "metadata": {},
   "outputs": [
    {
     "data": {
      "image/png": "[encoded data removed]",
      "text/plain": [
       "<Figure size 432x288 with 2 Axes>"
      ]
     },
     "metadata": {
      "needs_background": "light"
     },
     "output_type": "display_data"
    }
   ],
   "source": [
    "#checking missing values:\n",
    "missing_check_cols = ['supportive_description' , 'prev_supervisor_description', 'tell_others_consequence', 'mental_health_coverage','scope_productivity','tell_others_experience',        \n",
    "'prev_coworkers_description','unsupportive_description','supervisor_description','coworkers_description','mh_diagnosis','phys_interview_description', 'care_options'] \n",
    "df_missing_high = df_filter1.select(*missing_check_cols)\n",
    "plot_df = df_missing_high.toPandas()\n",
    "sns.heatmap(data = plot_df.isna())  "
   ]
  },
  {
   "cell_type": "code",
   "execution_count": 80,
   "id": "306cb770",
   "metadata": {},
   "outputs": [
    {
     "name": "stdout",
     "output_type": "stream",
     "text": [
      "(1171, 59)\n"
     ]
    }
   ],
   "source": [
    "#remove the columns with more than 70% missing values:\n",
    "remove_cols_70_missing = ['supportive_description' , 'prev_supervisor_description', 'tell_others_consequence', 'mental_health_coverage','scope_productivity','tell_others_experience',        \n",
    "'prev_coworkers_description','unsupportive_description','supervisor_description','coworkers_description']\n",
    "df_filter1 = df_filter1.drop(*remove_cols_70_missing)\n",
    "print((df_filter1.count(), len(df_filter1.columns)))"
   ]
  },
  {
   "cell_type": "code",
   "execution_count": null,
   "id": "4ac57b96",
   "metadata": {},
   "outputs": [],
   "source": []
  },
  {
   "cell_type": "code",
   "execution_count": null,
   "id": "c401a82c",
   "metadata": {},
   "outputs": [],
   "source": []
  }
 ],
 "metadata": {
  "kernelspec": {
   "display_name": "Python 3 (ipykernel)",
   "language": "python",
   "name": "python3"
  },
  "language_info": {
   "codemirror_mode": {
    "name": "ipython",
    "version": 3
   },
   "file_extension": ".py",
   "mimetype": "text/x-python",
   "name": "python",
   "nbconvert_exporter": "python",
   "pygments_lexer": "ipython3",
   "version": "3.10.4"
  }
 },
 "nbformat": 4,
 "nbformat_minor": 5
}
