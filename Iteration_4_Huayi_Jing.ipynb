{
 "cells": [
  {
   "cell_type": "code",
   "execution_count": 1,
   "id": "47d82085",
   "metadata": {},
   "outputs": [
    {
     "name": "stderr",
     "output_type": "stream",
     "text": [
      "WARNING: An illegal reflective access operation has occurred\n",
      "WARNING: Illegal reflective access by org.apache.spark.unsafe.Platform (file:/home/ubuntu/spark-3.2.1-bin-hadoop2.7/jars/spark-unsafe_2.12-3.2.1.jar) to constructor java.nio.DirectByteBuffer(long,int)\n",
      "WARNING: Please consider reporting this to the maintainers of org.apache.spark.unsafe.Platform\n",
      "WARNING: Use --illegal-access=warn to enable warnings of further illegal reflective access operations\n",
      "WARNING: All illegal access operations will be denied in a future release\n",
      "Using Spark's default log4j profile: org/apache/spark/log4j-defaults.properties\n",
      "Setting default log level to \"WARN\".\n",
      "To adjust logging level use sc.setLogLevel(newLevel). For SparkR, use setLogLevel(newLevel).\n",
      "22/10/04 21:44:00 WARN NativeCodeLoader: Unable to load native-hadoop library for your platform... using builtin-java classes where applicable\n"
     ]
    }
   ],
   "source": [
    "# Must be included at the beginning of each new notebook. Remember to change the app name.\n",
    "import findspark\n",
    "findspark.init('/home/ubuntu/spark-3.2.1-bin-hadoop2.7')\n",
    "import pyspark\n",
    "from pyspark.sql import SparkSession\n",
    "spark = SparkSession.builder.appName('logistic_regression_docs').getOrCreate()\n",
    "\n",
    "# If you're getting an error with numpy, please type 'sudo pip install numpy --user' into the EC2 console.\n",
    "from pyspark.ml.classification import LogisticRegression"
   ]
  },
  {
   "cell_type": "code",
   "execution_count": 2,
   "id": "20cf8d2a",
   "metadata": {},
   "outputs": [],
   "source": [
    "# Use Spark to read in the Ecommerce Customers csv file. You can infer csv schemas. \n",
    "df = (spark.read\n",
    "      .option(\"multiline\", \"true\")\n",
    "      .option(\"quote\", '\"')\n",
    "      .option(\"header\", \"true\")\n",
    "      .option(\"escape\", \"\\\\\")\n",
    "      .option(\"escape\", '\"')\n",
    "      .csv('data_unprocessed_2017_2018.csv')\n",
    ")"
   ]
  },
  {
   "cell_type": "code",
   "execution_count": 3,
   "id": "81339a9c",
   "metadata": {
    "scrolled": true
   },
   "outputs": [
    {
     "name": "stdout",
     "output_type": "stream",
     "text": [
      "root\n",
      " |-- ID: string (nullable = true)\n",
      " |-- age: string (nullable = true)\n",
      " |-- gender: string (nullable = true)\n",
      " |-- country_live: string (nullable = true)\n",
      " |-- country_work: string (nullable = true)\n",
      " |-- race: string (nullable = true)\n",
      " |-- self_employed: string (nullable = true)\n",
      " |-- num_employees: string (nullable = true)\n",
      " |-- tech_company: string (nullable = true)\n",
      " |-- tech_role: string (nullable = true)\n",
      " |-- benefits: string (nullable = true)\n",
      " |-- care_options: string (nullable = true)\n",
      " |-- wellness_program: string (nullable = true)\n",
      " |-- seek_help_resources: string (nullable = true)\n",
      " |-- anonymity: string (nullable = true)\n",
      " |-- leave_difficulty: string (nullable = true)\n",
      " |-- phys_vs_mental: string (nullable = true)\n",
      " |-- supervisor_willingness: string (nullable = true)\n",
      " |-- supervisor_experience: string (nullable = true)\n",
      " |-- supervisor_description: string (nullable = true)\n",
      " |-- coworkers_willingness: string (nullable = true)\n",
      " |-- coworkers_experience: string (nullable = true)\n",
      " |-- coworkers_description: string (nullable = true)\n",
      " |-- phys_health_importance: string (nullable = true)\n",
      " |-- mental_health_importance: string (nullable = true)\n",
      " |-- mental_health_coverage: string (nullable = true)\n",
      " |-- tell_others_experience: string (nullable = true)\n",
      " |-- tell_others_consequence: string (nullable = true)\n",
      " |-- scope_productivity: string (nullable = true)\n",
      " |-- prev_employer: string (nullable = true)\n",
      " |-- prev_tech_company: string (nullable = true)\n",
      " |-- prev_benefits: string (nullable = true)\n",
      " |-- prev_care_options: string (nullable = true)\n",
      " |-- prev_wellness_program: string (nullable = true)\n",
      " |-- prev_seek_help_resources: string (nullable = true)\n",
      " |-- prev_anonymity: string (nullable = true)\n",
      " |-- prev_phys_vs_mental: string (nullable = true)\n",
      " |-- prev_supervisor_willingness: string (nullable = true)\n",
      " |-- prev_supervisor_experience: string (nullable = true)\n",
      " |-- prev_supervisor_description: string (nullable = true)\n",
      " |-- prev_coworkers_willingness: string (nullable = true)\n",
      " |-- prev_coworkers_experience: string (nullable = true)\n",
      " |-- prev_coworkers_description: string (nullable = true)\n",
      " |-- prev_phys_health_importance: string (nullable = true)\n",
      " |-- prev_mental_health_importance: string (nullable = true)\n",
      " |-- mh_disorder: string (nullable = true)\n",
      " |-- mh_diagnosis: string (nullable = true)\n",
      " |-- mh_past: string (nullable = true)\n",
      " |-- mh_treatment: string (nullable = true)\n",
      " |-- mh_family_history: string (nullable = true)\n",
      " |-- work_interfere_treated: string (nullable = true)\n",
      " |-- experience_deterrence: string (nullable = true)\n",
      " |-- friends_fam_willingness: string (nullable = true)\n",
      " |-- phys_interview: string (nullable = true)\n",
      " |-- phys_interview_description: string (nullable = true)\n",
      " |-- mental_interview: string (nullable = true)\n",
      " |-- mental_interview_description: string (nullable = true)\n",
      " |-- do_people_know: string (nullable = true)\n",
      " |-- team_reaction: string (nullable = true)\n",
      " |-- witness_unsupportive: string (nullable = true)\n",
      " |-- unsupportive_description: string (nullable = true)\n",
      " |-- witness_supportive: string (nullable = true)\n",
      " |-- supportive_description: string (nullable = true)\n",
      " |-- tech_ind_support: string (nullable = true)\n",
      "\n"
     ]
    }
   ],
   "source": [
    "df.printSchema()"
   ]
  },
  {
   "cell_type": "code",
   "execution_count": 4,
   "id": "37f66075",
   "metadata": {
    "scrolled": true
   },
   "outputs": [
    {
     "name": "stderr",
     "output_type": "stream",
     "text": [
      "22/10/04 21:44:07 WARN package: Truncated the string representation of a plan since it was too large. This behavior can be adjusted by setting 'spark.sql.debug.maxToStringFields'.\n",
      "                                                                                \r"
     ]
    },
    {
     "data": {
      "text/plain": [
       "Row(ID='0', age='27', gender='Female', country_live='United Kingdom', country_work='United Kingdom', race='I prefer not to answer', self_employed='0', num_employees='100-500', tech_company='1', tech_role='1', benefits='No', care_options='Yes', wellness_program='No', seek_help_resources=\"I don't know\", anonymity=\"I don't know\", leave_difficulty=\"I don't know\", phys_vs_mental='Same level of comfort for each', supervisor_willingness='Yes', supervisor_experience='0', supervisor_description=None, coworkers_willingness='Yes', coworkers_experience='1', coworkers_description='Spoke about my anxiety they were very supportive', phys_health_importance='6', mental_health_importance='0', mental_health_coverage=None, tell_others_experience=None, tell_others_consequence=None, scope_productivity=None, prev_employer='1', prev_tech_company='0', prev_benefits=\"I don't know\", prev_care_options='N/A (was not aware)', prev_wellness_program='Some did', prev_seek_help_resources='Some did', prev_anonymity='Yes, always', prev_phys_vs_mental='Physical health', prev_supervisor_willingness='Yes, all of my previous supervisors', prev_supervisor_experience='0', prev_supervisor_description=None, prev_coworkers_willingness='No, at none of my previous employers', prev_coworkers_experience='0', prev_coworkers_description=None, prev_phys_health_importance='3', prev_mental_health_importance='3', mh_disorder='Possibly', mh_diagnosis=None, mh_past='Possibly', mh_treatment='1', mh_family_history='No', work_interfere_treated='Sometimes', experience_deterrence='No', friends_fam_willingness='5', phys_interview='Yes', phys_interview_description=None, mental_interview='No', mental_interview_description=\"I'd be worried they wouldn't hire me \", do_people_know='0', team_reaction='10', witness_unsupportive='Yes, I experienced', unsupportive_description=None, witness_supportive='Yes, I experienced', supportive_description=None, tech_ind_support='1')"
      ]
     },
     "execution_count": 4,
     "metadata": {},
     "output_type": "execute_result"
    }
   ],
   "source": [
    "df.head()"
   ]
  },
  {
   "cell_type": "code",
   "execution_count": 5,
   "id": "53467ec2",
   "metadata": {
    "scrolled": true
   },
   "outputs": [
    {
     "name": "stdout",
     "output_type": "stream",
     "text": [
      "0\n",
      "27\n",
      "Female\n",
      "United Kingdom\n",
      "United Kingdom\n",
      "I prefer not to answer\n",
      "0\n",
      "100-500\n",
      "1\n",
      "1\n",
      "No\n",
      "Yes\n",
      "No\n",
      "I don't know\n",
      "I don't know\n",
      "I don't know\n",
      "Same level of comfort for each\n",
      "Yes\n",
      "0\n",
      "None\n",
      "Yes\n",
      "1\n",
      "Spoke about my anxiety they were very supportive\n",
      "6\n",
      "0\n",
      "None\n",
      "None\n",
      "None\n",
      "None\n",
      "1\n",
      "0\n",
      "I don't know\n",
      "N/A (was not aware)\n",
      "Some did\n",
      "Some did\n",
      "Yes, always\n",
      "Physical health\n",
      "Yes, all of my previous supervisors\n",
      "0\n",
      "None\n",
      "No, at none of my previous employers\n",
      "0\n",
      "None\n",
      "3\n",
      "3\n",
      "Possibly\n",
      "None\n",
      "Possibly\n",
      "1\n",
      "No\n",
      "Sometimes\n",
      "No\n",
      "5\n",
      "Yes\n",
      "None\n",
      "No\n",
      "I'd be worried they wouldn't hire me \n",
      "0\n",
      "10\n",
      "Yes, I experienced\n",
      "None\n",
      "Yes, I experienced\n",
      "None\n",
      "1\n"
     ]
    }
   ],
   "source": [
    "for item in df.head():\n",
    "    print(item)"
   ]
  },
  {
   "cell_type": "code",
   "execution_count": 6,
   "id": "5ed3b14c",
   "metadata": {},
   "outputs": [
    {
     "data": {
      "text/plain": [
       "[Row(avg(age)=35.375)]"
      ]
     },
     "execution_count": 6,
     "metadata": {},
     "output_type": "execute_result"
    }
   ],
   "source": [
    "from pyspark.sql.functions import col, avg\n",
    "df.select(avg('age')).collect()"
   ]
  },
  {
   "cell_type": "code",
   "execution_count": 7,
   "id": "7af53f5c",
   "metadata": {
    "scrolled": true
   },
   "outputs": [
    {
     "data": {
      "text/plain": [
       "[Row(gender='female (cisgender)'),\n",
       " Row(gender='femalw'),\n",
       " Row(gender='Cis-Female'),\n",
       " Row(gender='transgender'),\n",
       " Row(gender='cis-male'),\n",
       " Row(gender='genderfluid'),\n",
       " Row(gender='My sex is female.'),\n",
       " Row(gender='non-binary'),\n",
       " Row(gender='F'),\n",
       " Row(gender='None'),\n",
       " Row(gender='Genderqueer'),\n",
       " Row(gender='Demiguy'),\n",
       " Row(gender='God King of the Valajar'),\n",
       " Row(gender='man'),\n",
       " Row(gender='none'),\n",
       " Row(gender='Man'),\n",
       " Row(gender='gender non-conforming woman'),\n",
       " Row(gender='Cis male'),\n",
       " Row(gender='Female '),\n",
       " Row(gender='m'),\n",
       " Row(gender=None),\n",
       " Row(gender='Agender'),\n",
       " Row(gender='Male (cis)'),\n",
       " Row(gender='f'),\n",
       " Row(gender='dude'),\n",
       " Row(gender='woman'),\n",
       " Row(gender='Cis woman'),\n",
       " Row(gender='Female'),\n",
       " Row(gender='Cisgender male'),\n",
       " Row(gender='Cis female '),\n",
       " Row(gender='Male (or female, or both)'),\n",
       " Row(gender='cis-Female'),\n",
       " Row(gender='female'),\n",
       " Row(gender='Agender/genderfluid'),\n",
       " Row(gender='trans woman'),\n",
       " Row(gender='M'),\n",
       " Row(gender='SWM'),\n",
       " Row(gender='Woman-identified'),\n",
       " Row(gender='non binary'),\n",
       " Row(gender='Other'),\n",
       " Row(gender='Nonbinary/femme'),\n",
       " Row(gender='femail'),\n",
       " Row(gender='Male, cis'),\n",
       " Row(gender='Mail'),\n",
       " Row(gender='cis hetero male'),\n",
       " Row(gender='Trans woman'),\n",
       " Row(gender='Cisgendered woman'),\n",
       " Row(gender='Female (cis) '),\n",
       " Row(gender='Contextual'),\n",
       " Row(gender='Trans female'),\n",
       " Row(gender='Male-ish'),\n",
       " Row(gender='Cis-male'),\n",
       " Row(gender='MALE'),\n",
       " Row(gender='sometimes'),\n",
       " Row(gender='cis male'),\n",
       " Row(gender='Female-ish'),\n",
       " Row(gender='\\\\-'),\n",
       " Row(gender='Ostensibly Male'),\n",
       " Row(gender='cis female'),\n",
       " Row(gender='uhhhhhhhhh fem genderqueer?'),\n",
       " Row(gender='Malel'),\n",
       " Row(gender='I identify as female'),\n",
       " Row(gender='Woman'),\n",
       " Row(gender='male'),\n",
       " Row(gender='Female (cisgender)'),\n",
       " Row(gender='cis male '),\n",
       " Row(gender='Non binary'),\n",
       " Row(gender='female (cis)'),\n",
       " Row(gender='Transfeminine'),\n",
       " Row(gender='Non-binary'),\n",
       " Row(gender='She/her/they/them'),\n",
       " Row(gender='nonbinary'),\n",
       " Row(gender='Female/gender non-binary.'),\n",
       " Row(gender='Nonbinary'),\n",
       " Row(gender='F, cisgender'),\n",
       " Row(gender='Genderqueer/non-binary'),\n",
       " Row(gender='Male'),\n",
       " Row(gender='male/androgynous '),\n",
       " Row(gender='Genderqueer demigirl'),\n",
       " Row(gender='Cis Male'),\n",
       " Row(gender='*shrug emoji* (F)'),\n",
       " Row(gender='male, born with xy chromosoms'),\n",
       " Row(gender='NB'),\n",
       " Row(gender='cisgender female'),\n",
       " Row(gender='Genderfluid'),\n",
       " Row(gender=\"male (hey this is the tech industry you're talking about)\"),\n",
       " Row(gender='Male '),\n",
       " Row(gender='Trans man')]"
      ]
     },
     "execution_count": 7,
     "metadata": {},
     "output_type": "execute_result"
    }
   ],
   "source": [
    "df.select('gender').distinct().collect()"
   ]
  },
  {
   "cell_type": "code",
   "execution_count": 8,
   "id": "ed7d1c29",
   "metadata": {},
   "outputs": [
    {
     "data": {
      "text/plain": [
       "['ID',\n",
       " 'age',\n",
       " 'gender',\n",
       " 'country_live',\n",
       " 'country_work',\n",
       " 'race',\n",
       " 'self_employed',\n",
       " 'num_employees',\n",
       " 'tech_company',\n",
       " 'tech_role',\n",
       " 'benefits',\n",
       " 'care_options',\n",
       " 'wellness_program',\n",
       " 'seek_help_resources',\n",
       " 'anonymity',\n",
       " 'leave_difficulty',\n",
       " 'phys_vs_mental',\n",
       " 'supervisor_willingness',\n",
       " 'supervisor_experience',\n",
       " 'supervisor_description',\n",
       " 'coworkers_willingness',\n",
       " 'coworkers_experience',\n",
       " 'coworkers_description',\n",
       " 'phys_health_importance',\n",
       " 'mental_health_importance',\n",
       " 'mental_health_coverage',\n",
       " 'tell_others_experience',\n",
       " 'tell_others_consequence',\n",
       " 'scope_productivity',\n",
       " 'prev_employer',\n",
       " 'prev_tech_company',\n",
       " 'prev_benefits',\n",
       " 'prev_care_options',\n",
       " 'prev_wellness_program',\n",
       " 'prev_seek_help_resources',\n",
       " 'prev_anonymity',\n",
       " 'prev_phys_vs_mental',\n",
       " 'prev_supervisor_willingness',\n",
       " 'prev_supervisor_experience',\n",
       " 'prev_supervisor_description',\n",
       " 'prev_coworkers_willingness',\n",
       " 'prev_coworkers_experience',\n",
       " 'prev_coworkers_description',\n",
       " 'prev_phys_health_importance',\n",
       " 'prev_mental_health_importance',\n",
       " 'mh_disorder',\n",
       " 'mh_diagnosis',\n",
       " 'mh_past',\n",
       " 'mh_treatment',\n",
       " 'mh_family_history',\n",
       " 'work_interfere_treated',\n",
       " 'experience_deterrence',\n",
       " 'friends_fam_willingness',\n",
       " 'phys_interview',\n",
       " 'phys_interview_description',\n",
       " 'mental_interview',\n",
       " 'mental_interview_description',\n",
       " 'do_people_know',\n",
       " 'team_reaction',\n",
       " 'witness_unsupportive',\n",
       " 'unsupportive_description',\n",
       " 'witness_supportive',\n",
       " 'supportive_description',\n",
       " 'tech_ind_support']"
      ]
     },
     "execution_count": 8,
     "metadata": {},
     "output_type": "execute_result"
    }
   ],
   "source": [
    "df.columns"
   ]
  },
  {
   "cell_type": "code",
   "execution_count": 9,
   "id": "1ef3e176",
   "metadata": {},
   "outputs": [
    {
     "data": {
      "text/plain": [
       "[Row(prev_coworkers_description=\"Sorry, don't remember re: co-workers (2001 & before)\"),\n",
       " Row(prev_coworkers_description='Mental health conversations were a normal part of work chatter. Everyone tried to give space and consideration for each other.'),\n",
       " Row(prev_coworkers_description=\"It's hard to me writing this kind of stuff. All of this still causes me a lot of damage. It's hard...\"),\n",
       " Row(prev_coworkers_description=\"Almost every time I shared my mental issues with other developers, they had similar experiences, so it was actually comforting to know that I wasn't alone.\"),\n",
       " Row(prev_coworkers_description='I had a coworker at a previous job who was very supportive of substance abuse treatment discussions.'),\n",
       " Row(prev_coworkers_description='i told one of my previous coworkers about my diagnosis.  we are still friends'),\n",
       " Row(prev_coworkers_description=\"I've brought up my depression with previous cowokers, and it's been generally accepted.\"),\n",
       " Row(prev_coworkers_description='See my answer for my current employer.'),\n",
       " Row(prev_coworkers_description='Discussed my struggle at large company meeting.'),\n",
       " Row(prev_coworkers_description='Mentioned being down and unproductive at different times. Reactions were usually verbally supportive, but not really eager to get into details.'),\n",
       " Row(prev_coworkers_description='We were in the same therapy group '),\n",
       " Row(prev_coworkers_description='I just told him that I have a tough condition several times a week. And at these days I cannot concentrate at work. He responded that it is a bad luck and I have to change my life.'),\n",
       " Row(prev_coworkers_description='Talking about experiences I had gone through, and relating that to their experiences.'),\n",
       " Row(prev_coworkers_description='Shocked.'),\n",
       " Row(prev_coworkers_description='Same discussion as I had with my direct manager: openness to depression, PPD, and substance abuse from emotional stress and abusive relationships in high school.'),\n",
       " Row(prev_coworkers_description=\"I worked with my brother at one point, so I don't think that counts.  He's supportive.  Colleagues I feel afraid to speak about it.  Since, they may view me differently.\"),\n",
       " Row(prev_coworkers_description=\"A few former coworkers have become friends and so we've had a few honest conversations about things and responses were helpful\"),\n",
       " Row(prev_coworkers_description='Typically it was very positive reactions.'),\n",
       " Row(prev_coworkers_description='Balanced'),\n",
       " Row(prev_coworkers_description='Again it was more of a casual conversation.'),\n",
       " Row(prev_coworkers_description='Friends and I often compared notes and tried to hep each other out.'),\n",
       " Row(prev_coworkers_description='Telling why I was leaving (illness of family friend I was living with)'),\n",
       " Row(prev_coworkers_description='pass again sorry'),\n",
       " Row(prev_coworkers_description=\"I told them about clinical depression and was lauded for being willing to be so vulnerable and was told they'd be willing to listen to me any time I needed someone to talk to.\"),\n",
       " Row(prev_coworkers_description='Described the reaction to traumatic events so they knew what to expect. They were fine with it'),\n",
       " Row(prev_coworkers_description=\"I don't remember any specific conversation. I had a very good relationship with some of my previous coworkers and discussed personal topics with them. I am sure that the topic of mental health came up several times and I was not met with a negative response. \"),\n",
       " Row(prev_coworkers_description='No issue to speak of - they had known me for some time.'),\n",
       " Row(prev_coworkers_description='Challenges, med info.'),\n",
       " Row(prev_coworkers_description='Really just in passing a few times, no particular reaction.'),\n",
       " Row(prev_coworkers_description='I was having a very hard time managing my anxiety and was hyperventilating and crying in the bathroom periodically. The coworkers I told about it were very supportive and helped me get the help I needed. That group of coworkers was a little older and were a great help with the administrative burden of working with an insurance company to pay for treatment.'),\n",
       " Row(prev_coworkers_description=\"It's a bit confounding, but the people I was talking to (including a supervisor for a bit) were also (before they were coworkers and after) close friends, but I remember discussing my depression, general stress level, and my ability to even\"),\n",
       " Row(prev_coworkers_description='After the above event I spoke with coworkers present to let them know how I was doing and what happened. They were all supportive. '),\n",
       " Row(prev_coworkers_description='spoke about ADHD, depression, etc., but this was an individual I had known for years and became a good friend'),\n",
       " Row(prev_coworkers_description='Again, I only disclosed when I felt safe enough to do so. I felt supported and heard by those folks.'),\n",
       " Row(prev_coworkers_description='Ditto.'),\n",
       " Row(prev_coworkers_description='Some were understanding '),\n",
       " Row(prev_coworkers_description=\"I worked in a mental health provider setting so I talked with a few of my close colleagues about our own mental health, including both professional issues like projection and secondary trauma, as well as individual mental health topics like stress and mental wellness practices, anger, depression (not mine, but my coworkers'). \"),\n",
       " Row(prev_coworkers_description='A very good friend that also struggled with depression ,eating disorders, etc, very helpful and open'),\n",
       " Row(prev_coworkers_description='mixed, some skeptical some supportive. Many had a \"suck it up\" attitutde'),\n",
       " Row(prev_coworkers_description='We shared our mutual experiences with mental health'),\n",
       " Row(prev_coworkers_description=\"Our supervisor's management style was causing mental and physical health problems in the majority of the staff. We often discussed what to do about it, but were powerless.\"),\n",
       " Row(prev_coworkers_description='Talking about mental health with coworkers who also had mental health issues has always been supportive and productive.'),\n",
       " Row(prev_coworkers_description='About depression and general mental health issues.'),\n",
       " Row(prev_coworkers_description='My coworkers and I discussed mental health with each other and tried to be supportive'),\n",
       " Row(prev_coworkers_description='Talked about side effects from various medications.'),\n",
       " Row(prev_coworkers_description='We were friends outside of work and it came up casually. Their reaction was normal, they also have experienced mental health issues.'),\n",
       " Row(prev_coworkers_description=None),\n",
       " Row(prev_coworkers_description='We spoke about being burnt out. And the irony of the \"take it when you want to\" vacation policy which meant that no one took vacation. It was sick, we knew it, but we kept on.'),\n",
       " Row(prev_coworkers_description='general discussion, supportive reaction'),\n",
       " Row(prev_coworkers_description='I discussed anxiety issues with coworkers at a previous job. The environment was one in which almost all of us were having a hard time with the pace and pressure, so everyone was supportive.'),\n",
       " Row(prev_coworkers_description='Anxiety medicine I was taking. They were asking for advice so I opened up. '),\n",
       " Row(prev_coworkers_description='At my previous employment many of my coworkers and I discussed our level of stress.  '),\n",
       " Row(prev_coworkers_description='In past jobs I would open up in situations where there was alcohol. And friends at work were supportive, but we were all drunk or tipsy during those conversations.'),\n",
       " Row(prev_coworkers_description=\"I'm in mental heatlh so I talk about it often.\"),\n",
       " Row(prev_coworkers_description=\"I've just mentioned to some that I deal with depression.\"),\n",
       " Row(prev_coworkers_description='Spoke about weight issues -'),\n",
       " Row(prev_coworkers_description='Just talked about my disorder. I am always seen differently any time Intalk about it. I have become an overnight scapegoat and outcast because of it.'),\n",
       " Row(prev_coworkers_description='I talked about my challenges with my supervisor and how they were affecting my work. He seemed understanding and told me I needed to take care of myself.'),\n",
       " Row(prev_coworkers_description='Very limited. Most information shared was after we stopped working together. Information shared while we worked together was about friends and family in the abstract, and not specific to any diagnosis or issues that were current at the time. '),\n",
       " Row(prev_coworkers_description='I have been feeling depressed lately after the loss of a parent.'),\n",
       " Row(prev_coworkers_description='Work stress and was going through a divorce.'),\n",
       " Row(prev_coworkers_description='opened up about darker feelings & marital issues'),\n",
       " Row(prev_coworkers_description='Admitted issues to select coworkers, essentially got reciprocity'),\n",
       " Row(prev_coworkers_description=\"Commiseration. Don't remember the details.\"),\n",
       " Row(prev_coworkers_description='General discussions, few details'),\n",
       " Row(prev_coworkers_description='Discussing issues, generally supportive'),\n",
       " Row(prev_coworkers_description='I have talked about depression, anxiety, and ADHD with previous coworkers. I chose who to talk to based on my understanding of their views such that I always found sympathetic listeners (often those with issues of their own).'),\n",
       " Row(prev_coworkers_description='La la la'),\n",
       " Row(prev_coworkers_description='When I was having difficulty sleeping I discussed this with colleagues. They commiserated but the general sense was that this is part of the job.'),\n",
       " Row(prev_coworkers_description=\"It was a long time ago, but I had a coworker that I became close with after some time working together and we had casual conversations about mental health -- esp about therapy, therapists, things that work, things that didn't work.\"),\n",
       " Row(prev_coworkers_description=\"As mentioned previously, one of my illnesses is obvious when it's not maintained. My coworkers at my last job were friends and were concerned so would ask me about it and offer support.\"),\n",
       " Row(prev_coworkers_description='Same as above. Listening, open-minded, supportive.'),\n",
       " Row(prev_coworkers_description='I had other coworkers with mental health issues. Sometimes it was explaining that non veterans can have PTSD. A few people knew I was going to therapy regularly. '),\n",
       " Row(prev_coworkers_description='One coworker suggested from my behavior that I might have undiagnosed OCD and that I should consider talking to a professional.'),\n",
       " Row(prev_coworkers_description=\"I've had conversations about depression with colleagues. They were supportive.\"),\n",
       " Row(prev_coworkers_description='We mostly talked about how my anxiety/depression affected me and my work.'),\n",
       " Row(prev_coworkers_description=\"Just mentioned what I have and that it's common and doesn't make me bad or threatening in anyway. They seemed just stunned but I suppose it kind of slipped out of their memory over time. We had more pressing, terrible issues in the workplace than that.\"),\n",
       " Row(prev_coworkers_description='I told a friend at work (who became a friend outside of work) about what I was suffering with and she listened and said she was seeking professional care for herself as well\\n '),\n",
       " Row(prev_coworkers_description=\"I know I've talked about my personal history of depression, but I cannot recall specifics \"),\n",
       " Row(prev_coworkers_description=\"Wanted to be supportuve but didn't know what to do.\"),\n",
       " Row(prev_coworkers_description=\"I don't remember any details.\"),\n",
       " Row(prev_coworkers_description='I told my colleagues that I had painful bouts of anxiety coupled with depression.'),\n",
       " Row(prev_coworkers_description='The ones that I discussed it with were actually close friends, so they were always aware'),\n",
       " Row(prev_coworkers_description='They were supportive'),\n",
       " Row(prev_coworkers_description=\"Discussed our mental health issues and traded stories and potential solutions, things that worked or didn't work for us, etc.\"),\n",
       " Row(prev_coworkers_description='I discussed my ADHD with two other co-workers, one who was suffering from depression and another who also had ADHD.'),\n",
       " Row(prev_coworkers_description='Just talked and shared stories - almost everyone there had some problems and it was nice to commiserate.'),\n",
       " Row(prev_coworkers_description='very brief conversations, not very detailed.  Mostly about stress and anxiety related to management practices.  My coworkers were supportive.'),\n",
       " Row(prev_coworkers_description=\"I'm just very open about my mental health, and i try to discuss it openly to make others feel at ease if they want to talk about theirs.\"),\n",
       " Row(prev_coworkers_description='Describing that I was bipolar'),\n",
       " Row(prev_coworkers_description='understanding and supportive'),\n",
       " Row(prev_coworkers_description='The coworker was very supportive and did their best to help me.'),\n",
       " Row(prev_coworkers_description=\"I largely listened to them - they were older and talked about how 'ok' it was once you talked to other people.\"),\n",
       " Row(prev_coworkers_description='We talked about burnout a lot as well as unhappiness and hopelessness in relationships.'),\n",
       " Row(prev_coworkers_description=\"I've only ever confided in a select few coworkers who I trusted would handle my mental illness in confidence and with respect. Otherwise, I would not disclose my mental illness in a workplace environment for fear of retaliation.\"),\n",
       " Row(prev_coworkers_description='Mainly a conversation about me feeling inadequate and ineffective. The reactions where generally supportive.'),\n",
       " Row(prev_coworkers_description='I talked about dealing with depression from loss of a pet as well as an emotionally abusive relationship and then Trump being elected.'),\n",
       " Row(prev_coworkers_description=\"I have make some close coworkers to whom I didn't mind to talk about my mental health. I had conversations about my issues years ago, and this coworkers were very understandable and give support and acknowledge of the improvements.\"),\n",
       " Row(prev_coworkers_description='Described treatment I was seeking and the benefits of what I was trying. The coworker was very receptive. But this was the only coworker I would have considered sharing this information as I expected him to be positive.'),\n",
       " Row(prev_coworkers_description='Discussions with friends I made at work--maybe that\\'s assumed in the question, but it wasn\\'t just any coworker, or on any level a \"professional\" conversation. They were receptive to discussing and sharing our experiences positively. '),\n",
       " Row(prev_coworkers_description='Very supportive.'),\n",
       " Row(prev_coworkers_description='I shared with my closes employees as sometimes my anxiaty would make me shut down and become unavailable for a day when they needed to contact me. They were supportive.'),\n",
       " Row(prev_coworkers_description='we discussed my ocd issues but not much because she was exceptionally close to my former boss'),\n",
       " Row(prev_coworkers_description='I described my depression after the death of my mother, and my co-worker shared similar experiences.'),\n",
       " Row(prev_coworkers_description='Discussed our mutual depressed state as a result of working at that company.'),\n",
       " Row(prev_coworkers_description='Discussed previous mental health episodes.'),\n",
       " Row(prev_coworkers_description='I explained to them the first few anxiety attack incidents I had, and how they affected my ability to function at work while recovering. They noted that going through that experience would be difficult, and were encouraging me to stay positive.'),\n",
       " Row(prev_coworkers_description='We discussed ways in which I was affected by my anxiety, my treatment, and how it affected me.'),\n",
       " Row(prev_coworkers_description='For the most part people are very supportive and kind. Some becoming overly problem-solvey. Others try to treat one overly gentle rather than normal with accomodation.'),\n",
       " Row(prev_coworkers_description='I confided in a coworker that my mental health was not good at the time and that I wanted his advice on backing out on a commitment that was exacerbating my anxiety and depression. '),\n",
       " Row(prev_coworkers_description='Discussed having a therapist and general mental health'),\n",
       " Row(prev_coworkers_description=\"I had to make sure they knew they weren't the only depressed person in the company. It didn't help much.\"),\n",
       " Row(prev_coworkers_description='I told them I had issues and they did not say much.'),\n",
       " Row(prev_coworkers_description='Reducing hours and time to 80% to help reduce stress. Co workers saw it as opportunity to lampoon.'),\n",
       " Row(prev_coworkers_description='Brief mentions of having dealt with depression.'),\n",
       " Row(prev_coworkers_description='It was a personal friend too. People I did not know personally I could not trust their understanding and discretion'),\n",
       " Row(prev_coworkers_description='At several previous jobs, I had \"work friends\" who I confided in and was open with about my mental health and the things that caused me anxiety.'),\n",
       " Row(prev_coworkers_description='I became close enough to consider some of my past coworkers friends. I was able to open up to them about medications I was taking, seeing a therapist, and the struggles I was going through. These friends were very supportive, some ended up asking for advice about getting their own therapy. It was really a relief to have people I could trust and be honest with at work, if I was feeling extra bad on some days.'),\n",
       " Row(prev_coworkers_description='After I was let go from my job, I explained to some of my previous coworkers what happened and how my mental health had to do with the outcome.'),\n",
       " Row(prev_coworkers_description='feeling of anxiety or depression related to current office state or deadlines'),\n",
       " Row(prev_coworkers_description='I forget'),\n",
       " Row(prev_coworkers_description='Mutual support.'),\n",
       " Row(prev_coworkers_description='Talked in depth about how we work'),\n",
       " Row(prev_coworkers_description='I explained how stress and anxiety impacted me and they understood and were accommodating. '),\n",
       " Row(prev_coworkers_description='Just letting my previous supervisor know I have OCD. His wife also had OCD, which often proved a great annoyance to him, so I usually did not talk about my own mental health.'),\n",
       " Row(prev_coworkers_description='In the conversation I found out that he had gone through similar things himself. It was reassuring and brought us closer together, forming a lasting friendship. '),\n",
       " Row(prev_coworkers_description='When I was late on a project I told them the reason and they were supportive. They move the deadline, were not judgmental, and wanted me to be healthy.'),\n",
       " Row(prev_coworkers_description=\"Stress. Depression. Loss. \\n\\nMost are sympathetic, but don't have good coping skills. I end up coaching every time. \"),\n",
       " Row(prev_coworkers_description='I was feeling a bit overwhelmed with new responsibilities, and they directed me to OSMI. They also advised me to talk to my HR team directly, as they had partnered with Cognitive Behavioral Therapists and I could have taken sessions if I found it to get worse.'),\n",
       " Row(prev_coworkers_description='More in the context of personal relationships, one-on-one, in close confidence. Never in an open or group context.'),\n",
       " Row(prev_coworkers_description='This is tough stuff. I was talking to someone who I thought was pretty open minded and that I thought we were close, but he physically recoiled for a second when I told him what I was struggling with.'),\n",
       " Row(prev_coworkers_description=\"Can't recall a specific convo, I just try to be really transparent about my depression and anxiety to help reduce stigma\"),\n",
       " Row(prev_coworkers_description='We were talking about general medications because she forgot to take on of hers, I reveled what I do to take always mine for depression, then she got surprised and told she never thought I had it '),\n",
       " Row(prev_coworkers_description='it was probably a conversation about shared experiences with depression and therapy.'),\n",
       " Row(prev_coworkers_description='Their reaction was supportive. I would only share with coworkers I trust.'),\n",
       " Row(prev_coworkers_description='Telling a few coworkers that I saw a therapist, both to break down stigma and to help encourage them to get some support surrounding mental health. One coworker had a lot of questions. Another said they wanted to go to therapy, but the cost was prohibitive & didn’t seem to want to look into subsidized/sliding scale options. '),\n",
       " Row(prev_coworkers_description='They shared Their story and offered guidance from personal empathetic stories'),\n",
       " Row(prev_coworkers_description='What I went through in the past and present. They were supportive and understanding.'),\n",
       " Row(prev_coworkers_description='Very very similar to the conversation described above '),\n",
       " Row(prev_coworkers_description='Told about My depression got supportive reactions'),\n",
       " Row(prev_coworkers_description='discussed in a mental health focus group - generally understanding and supportive'),\n",
       " Row(prev_coworkers_description=\"Let my co-workers know that I would occasionally have to take unplanned days off because of anxiety and depression. Reactions were mostly neutral, but don't recall any explicitly negative reaction.\"),\n",
       " Row(prev_coworkers_description='she was taking some time off to deal with a mental health issue'),\n",
       " Row(prev_coworkers_description=\"Any coworkers who I've discussed my mental health with have been supportive, with some sharing their own stories.\"),\n",
       " Row(prev_coworkers_description='Talked about what the stress of the work was doing for my mental health.'),\n",
       " Row(prev_coworkers_description='I was on a very stressful project and discussed the situation with a coworker (who I would also consider a close friend) about my feelings that I was going crazy. Doing so helped quite a bit as they assured me that it was not me, but the environment.'),\n",
       " Row(prev_coworkers_description='I have seasonal depression so I can travel more and less at different times of year'),\n",
       " Row(prev_coworkers_description='It turned out that many of my coworkers had mental health issues but never talked with anyone about that. I was the first one who came out of the closet.'),\n",
       " Row(prev_coworkers_description='Oh this is where I was supposed to put that conversation about anxiety, depression, and comparison of counseling and medications. Oops.'),\n",
       " Row(prev_coworkers_description='I chatted with colleagues who were also friends, outside of work... I found that those I chose to speak to, also had mental health issues, and we exchanged experiences. '),\n",
       " Row(prev_coworkers_description='This was talking about anxiety with a good friend, and he was supportive.'),\n",
       " Row(prev_coworkers_description=\"I frequently try to express my levels of stress or anxiety without being negative. Also, I'd like others to know if I'm not feeling well mentally so that we don't run into a situation where one of us is causing a problem to the other.\"),\n",
       " Row(prev_coworkers_description='See the same as above.'),\n",
       " Row(prev_coworkers_description='Can’t recall. '),\n",
       " Row(prev_coworkers_description='Talked generally about depression and anxiety '),\n",
       " Row(prev_coworkers_description='I discussed my depression briefly with an old coworker.  She listened kindly and apologized that I had to deal with that.  She was very inquisitive of what I was doing to deal with it.'),\n",
       " Row(prev_coworkers_description=\"It went well. I opened up about my depression and anxiety and learned that he had similar issues, and we vowed to talk if we're ever running into problems again. He's become a closer friend.\"),\n",
       " Row(prev_coworkers_description=\"I used to have a very stressful, highly visible, and thankless job, which gave me a lot of anxiety, and feelings of worthlessness. I spoke frequently to a coworker who had a similar position to mine, and we often discussed the impact of this work on our state of mind. I didn't share these feelings with anyone outside of that person, but they were receptive.\"),\n",
       " Row(prev_coworkers_description='We spoke about depression while we were alone on lunch break.'),\n",
       " Row(prev_coworkers_description='I told another developer about my metal illness and it made me feel much more comfortable at work.'),\n",
       " Row(prev_coworkers_description='The conversation involved a male coworker triggering my PTSD and essentially blocking my path out of a conference room (there were no other exits). Upon complaining about this, no action was taken. A few months later, I was dismissed due to \"budget\".'),\n",
       " Row(prev_coworkers_description='The conversations were generally with people I felt very close to and thus went well. They were also understanding and were able to empathize.'),\n",
       " Row(prev_coworkers_description='Talked with my team about why I was working from home'),\n",
       " Row(prev_coworkers_description=\"Open and honest about issues we were having. We didn't delve into details about why or what, but just that we had some issues we were continually working on. We supported each other through them as needed, but also left as much space and openness as we could.\"),\n",
       " Row(prev_coworkers_description='They were supportive and understanding'),\n",
       " Row(prev_coworkers_description='With co-workers that I was friends with, I have been open about my depression. At one previous employer, we made a joke that everyone was on <company name>-meds because we all took anti-depressants. After my boyfriend died, I asked my co-workers to meet me to work at a coffee shop for a half day, so I could ease back into working. They all agreed and were very generous and accommodating.'),\n",
       " Row(prev_coworkers_description='After a large layoff in 2002, a group of four of us on the same team were affected with MH problems. At least two of us, including myself, have suffered with severe clinical depression ever since then. I have been to PHP and looked into getting experimental ketamine therapy; my friend/coworker became suicidal and underwent six weeks of ECT.'),\n",
       " Row(prev_coworkers_description='My colleague at my previous job was also going to regularly see her therapist, so we would talk about our issues, worries, things we were working through in therapy. It was and still is a good friendship we have.'),\n",
       " Row(prev_coworkers_description=\"I've talked about depression and imposter syndrome. Mostly received empathy and admissions that they have dealt or are dealing with the same thing.\"),\n",
       " Row(prev_coworkers_description=\"I think that most of the conversations were couched in 'hypothetical' and the responses made me hesitant to reveal more personal issues\"),\n",
       " Row(prev_coworkers_description='I'),\n",
       " Row(prev_coworkers_description='More of a general \"i\\'ve been anxious/depressed\", normally not too many specifics'),\n",
       " Row(prev_coworkers_description=\"I talked about possibilities but nothing definite because they didn't seem that receptive\"),\n",
       " Row(prev_coworkers_description='A quick chat during a lunch break walk outside, talked about negativity at work and pressure'),\n",
       " Row(prev_coworkers_description='Me and a colleague were taking the same medication for mental health disorder  and we discussed this between ourselves. '),\n",
       " Row(prev_coworkers_description='talking about preventing suicide risk on one coworker after an alert, not taken really seriously by other coworkers'),\n",
       " Row(prev_coworkers_description=\"I said I felt very irritated, quick tempered, depressed, very unhappy, anxious. They didn't seem to really want to talk about it.\"),\n",
       " Row(prev_coworkers_description='Told them about my depression.'),\n",
       " Row(prev_coworkers_description='4'),\n",
       " Row(prev_coworkers_description='I asked a coworker for a referral to a therapist.'),\n",
       " Row(prev_coworkers_description='That i was struggling and sought help '),\n",
       " Row(prev_coworkers_description='Conversations about therapy options, having bad days, etc. All understanding.'),\n",
       " Row(prev_coworkers_description='good'),\n",
       " Row(prev_coworkers_description=\"Always met with understanding and compassion. I'm lucky.\"),\n",
       " Row(prev_coworkers_description='I told a previous coworker who I was in a relationship with about my mental health issues. He took that opportunity to try to force me to see his therapist, and used my mental health issues as a way to isolate me from the rest of our coworkers and to attempt to control me. This is a large factor in why I left my previous job and am reluctant to discuss my mental health with current coworkers and supervisors.'),\n",
       " Row(prev_coworkers_description='Similar to the previous situation, with individuals I was comfortable with. . . seeking advice'),\n",
       " Row(prev_coworkers_description='ansiety and stress'),\n",
       " Row(prev_coworkers_description='Several but most of them were really good'),\n",
       " Row(prev_coworkers_description=' '),\n",
       " Row(prev_coworkers_description=\"What are those movements? Tourette's\"),\n",
       " Row(prev_coworkers_description=\"Coworker shared first about their current struggles and I decided I could share what I was struggling with myself and it helped to hear it wasn't just me.\"),\n",
       " Row(prev_coworkers_description='related about stress and rage controll'),\n",
       " Row(prev_coworkers_description=\"I've spoken to co-workers who did not work on the same team as I did. I would even call these co-workers friends. When speaking to them about my depression, they seemed to be understanding and empathetic to my situation.\"),\n",
       " Row(prev_coworkers_description='The coworkers that I talked to about my mental health were also closer friends. I went through some boughts of depression and extreme feelings of isolation. It was nice to be able to talk about it, but I feel like when I actually went to counseling was when I began to understand how to heal.'),\n",
       " Row(prev_coworkers_description='I said that I felt like I was having a nervous breakdown.  They recommended I pick up drinking.'),\n",
       " Row(prev_coworkers_description='They talked about how they see a therapist and how they coped. '),\n",
       " Row(prev_coworkers_description=\"They were just very supportive and helpful. They also didn't understand why they were being so harsh on me.\"),\n",
       " Row(prev_coworkers_description='One became a trusted friend; he could listen without taking on my issues.'),\n",
       " Row(prev_coworkers_description=\"Typically it hasn't been bad to discuss with coworkers because often they've experienced something similar or at least know someone who has.\"),\n",
       " Row(prev_coworkers_description='Burnout and Depression, both of which were met with sympathy.'),\n",
       " Row(prev_coworkers_description='OK'),\n",
       " Row(prev_coworkers_description='Just mentioned the stress and anxiety I was experiencing.'),\n",
       " Row(prev_coworkers_description='minor conversations about stress and depression '),\n",
       " Row(prev_coworkers_description='Worries over becoming a parent'),\n",
       " Row(prev_coworkers_description='We were open with each other about mental and physical health.'),\n",
       " Row(prev_coworkers_description='We spoke about depression and how it can impact our work. We both dealt with this from time to time and it was overall a positive experience. However, it was not something either of us discussed openly and it was only by accident that we learned of each other.'),\n",
       " Row(prev_coworkers_description=\"Very similar to the ones I've had at my current employer.  I'm sorry I just don't recall specifics or verbatim for any of these.\"),\n",
       " Row(prev_coworkers_description='They became some of my closest friends after I disclosed to them that I suffer from PTSD.'),\n",
       " Row(prev_coworkers_description='I was suffering from a major depressive episode while working in retail, lots of my coworkers realised it before I did and reached out to check if I was okay'),\n",
       " Row(prev_coworkers_description='Same as above.'),\n",
       " Row(prev_coworkers_description='Coworkers shared their own stories in response.'),\n",
       " Row(prev_coworkers_description=\"I once had a panic attack and had to ask one of my female colleagues to bring my belongings to the bathroom. She seemed to understand what I was going through. Additionally, I recently told my friends who I worked with at that job about what happened that day, because they were encountering the same issues. It really helped us to reconnect and understand that that place wasn't good for us.\"),\n",
       " Row(prev_coworkers_description='speaking of depression and stress, as well as adhd'),\n",
       " Row(prev_coworkers_description=\"peer counseling, as well as giving a reference to my therapist for myself, and the one for couples counseling. Typically I'd lift the vail a bit, and let them know what I rely on, to lessen the stigma around therapy. Especially around couples counseling. They seemed to respond positively, or supportive.\"),\n",
       " Row(prev_coworkers_description='I only felt comfortable talking to some of them after working with them for more than three years and occasionally getting together outside of work.  Even then I was very vague and chose slightly less stigmatized ways of describing my issues. '),\n",
       " Row(prev_coworkers_description='na'),\n",
       " Row(prev_coworkers_description=\"I've told them I was tired about some things, some peoples, some behaviors. They said that they agree and talked more with me and tried to help.\"),\n",
       " Row(prev_coworkers_description='Only after I knew I was in a safe space I talked about almost having a burn out. So tue response was very supportive.'),\n",
       " Row(prev_coworkers_description=\"I have found most coworkers to be understanding and sympathetic (& it's a good filter to weed out people I don't need to be around more than necessary, TBH). Most of them either have their own struggles or know someone who does.\"),\n",
       " Row(prev_coworkers_description='shared my experience with medication, and recommended they talk with a dr about their issues and consider medication'),\n",
       " Row(prev_coworkers_description=\"I don't remember\"),\n",
       " Row(prev_coworkers_description='The coworkers in question were not direct team members and had become defined better as friends than coworkers. So there was a level of trust and openness already established.')]"
      ]
     },
     "execution_count": 9,
     "metadata": {},
     "output_type": "execute_result"
    }
   ],
   "source": [
    "df.select('prev_coworkers_description').distinct().collect()"
   ]
  },
  {
   "cell_type": "code",
   "execution_count": 10,
   "id": "90a809c3",
   "metadata": {},
   "outputs": [
    {
     "name": "stdout",
     "output_type": "stream",
     "text": [
      "(1178, 64)\n"
     ]
    }
   ],
   "source": [
    "print((df.count(), len(df.columns)))"
   ]
  },
  {
   "cell_type": "code",
   "execution_count": 11,
   "id": "6b761f92",
   "metadata": {
    "scrolled": true
   },
   "outputs": [
    {
     "data": {
      "text/plain": [
       "{'ID': 0,\n",
       " 'age': 2,\n",
       " 'gender': 16,\n",
       " 'country_live': 2,\n",
       " 'country_work': 2,\n",
       " 'race': 0,\n",
       " 'self_employed': 0,\n",
       " 'num_employees': 169,\n",
       " 'tech_company': 169,\n",
       " 'tech_role': 169,\n",
       " 'benefits': 169,\n",
       " 'care_options': 273,\n",
       " 'wellness_program': 169,\n",
       " 'seek_help_resources': 169,\n",
       " 'anonymity': 169,\n",
       " 'leave_difficulty': 169,\n",
       " 'phys_vs_mental': 169,\n",
       " 'supervisor_willingness': 169,\n",
       " 'supervisor_experience': 169,\n",
       " 'supervisor_description': 909,\n",
       " 'coworkers_willingness': 169,\n",
       " 'coworkers_experience': 170,\n",
       " 'coworkers_description': 844,\n",
       " 'phys_health_importance': 169,\n",
       " 'mental_health_importance': 169,\n",
       " 'mental_health_coverage': 1009,\n",
       " 'tell_others_experience': 1009,\n",
       " 'tell_others_consequence': 1009,\n",
       " 'scope_productivity': 1009,\n",
       " 'prev_employer': 0,\n",
       " 'prev_tech_company': 143,\n",
       " 'prev_benefits': 143,\n",
       " 'prev_care_options': 143,\n",
       " 'prev_wellness_program': 143,\n",
       " 'prev_seek_help_resources': 143,\n",
       " 'prev_anonymity': 143,\n",
       " 'prev_phys_vs_mental': 143,\n",
       " 'prev_supervisor_willingness': 143,\n",
       " 'prev_supervisor_experience': 143,\n",
       " 'prev_supervisor_description': 1012,\n",
       " 'prev_coworkers_willingness': 143,\n",
       " 'prev_coworkers_experience': 145,\n",
       " 'prev_coworkers_description': 954,\n",
       " 'prev_phys_health_importance': 143,\n",
       " 'prev_mental_health_importance': 143,\n",
       " 'mh_disorder': 0,\n",
       " 'mh_diagnosis': 660,\n",
       " 'mh_past': 12,\n",
       " 'mh_treatment': 0,\n",
       " 'mh_family_history': 0,\n",
       " 'work_interfere_treated': 0,\n",
       " 'experience_deterrence': 259,\n",
       " 'friends_fam_willingness': 0,\n",
       " 'phys_interview': 0,\n",
       " 'phys_interview_description': 278,\n",
       " 'mental_interview': 0,\n",
       " 'mental_interview_description': 261,\n",
       " 'do_people_know': 2,\n",
       " 'team_reaction': 2,\n",
       " 'witness_unsupportive': 2,\n",
       " 'unsupportive_description': 929,\n",
       " 'witness_supportive': 2,\n",
       " 'supportive_description': 1178,\n",
       " 'tech_ind_support': 2}"
      ]
     },
     "execution_count": 11,
     "metadata": {},
     "output_type": "execute_result"
    }
   ],
   "source": [
    "null_count = {col:df.filter(df[col].isNull()).count() for col in df.columns}\n",
    "null_count"
   ]
  },
  {
   "cell_type": "markdown",
   "id": "feee75e4",
   "metadata": {},
   "source": [
    "## 2.2 Data Exploration"
   ]
  },
  {
   "cell_type": "code",
   "execution_count": 12,
   "id": "502aa739",
   "metadata": {
    "scrolled": false
   },
   "outputs": [
    {
     "name": "stderr",
     "output_type": "stream",
     "text": [
      "                                                                                \r"
     ]
    },
    {
     "name": "stdout",
     "output_type": "stream",
     "text": [
      "+-----------------------------+-----+------------------+\n",
      "|column                       |count|not_null_ratio    |\n",
      "+-----------------------------+-----+------------------+\n",
      "|race                         |1178 |100.0             |\n",
      "|prev_employer                |1178 |100.0             |\n",
      "|friends_fam_willingness      |1178 |100.0             |\n",
      "|phys_interview               |1178 |100.0             |\n",
      "|mh_disorder                  |1178 |100.0             |\n",
      "|mental_interview             |1178 |100.0             |\n",
      "|mh_treatment                 |1178 |100.0             |\n",
      "|ID                           |1178 |100.0             |\n",
      "|self_employed                |1178 |100.0             |\n",
      "|mh_family_history            |1178 |100.0             |\n",
      "|work_interfere_treated       |1178 |100.0             |\n",
      "|witness_unsupportive         |1176 |99.830220713073   |\n",
      "|witness_supportive           |1176 |99.830220713073   |\n",
      "|tech_ind_support             |1176 |99.830220713073   |\n",
      "|team_reaction                |1176 |99.830220713073   |\n",
      "|age                          |1176 |99.830220713073   |\n",
      "|country_live                 |1176 |99.830220713073   |\n",
      "|country_work                 |1176 |99.830220713073   |\n",
      "|do_people_know               |1176 |99.830220713073   |\n",
      "|mh_past                      |1166 |98.98132427843804 |\n",
      "|gender                       |1162 |98.64176570458405 |\n",
      "|prev_benefits                |1035 |87.86078098471987 |\n",
      "|prev_phys_health_importance  |1035 |87.86078098471987 |\n",
      "|prev_tech_company            |1035 |87.86078098471987 |\n",
      "|prev_wellness_program        |1035 |87.86078098471987 |\n",
      "|prev_phys_vs_mental          |1035 |87.86078098471987 |\n",
      "|prev_mental_health_importance|1035 |87.86078098471987 |\n",
      "|prev_care_options            |1035 |87.86078098471987 |\n",
      "|prev_seek_help_resources     |1035 |87.86078098471987 |\n",
      "|prev_anonymity               |1035 |87.86078098471987 |\n",
      "|prev_supervisor_willingness  |1035 |87.86078098471987 |\n",
      "|prev_supervisor_experience   |1035 |87.86078098471987 |\n",
      "|prev_coworkers_willingness   |1035 |87.86078098471987 |\n",
      "|prev_coworkers_experience    |1033 |87.69100169779287 |\n",
      "|tech_company                 |1009 |85.65365025466893 |\n",
      "|seek_help_resources          |1009 |85.65365025466893 |\n",
      "|tech_role                    |1009 |85.65365025466893 |\n",
      "|benefits                     |1009 |85.65365025466893 |\n",
      "|anonymity                    |1009 |85.65365025466893 |\n",
      "|supervisor_willingness       |1009 |85.65365025466893 |\n",
      "|num_employees                |1009 |85.65365025466893 |\n",
      "|wellness_program             |1009 |85.65365025466893 |\n",
      "|leave_difficulty             |1009 |85.65365025466893 |\n",
      "|supervisor_experience        |1009 |85.65365025466893 |\n",
      "|coworkers_willingness        |1009 |85.65365025466893 |\n",
      "|mental_health_importance     |1009 |85.65365025466893 |\n",
      "|phys_vs_mental               |1009 |85.65365025466893 |\n",
      "|phys_health_importance       |1009 |85.65365025466893 |\n",
      "|coworkers_experience         |1008 |85.56876061120543 |\n",
      "|experience_deterrence        |919  |78.01358234295415 |\n",
      "|mental_interview_description |917  |77.84380305602716 |\n",
      "|care_options                 |905  |76.8251273344652  |\n",
      "|phys_interview_description   |900  |76.4006791171477  |\n",
      "|mh_diagnosis                 |518  |43.97283531409168 |\n",
      "|coworkers_description        |334  |28.35314091680815 |\n",
      "|supervisor_description       |269  |22.835314091680814|\n",
      "|unsupportive_description     |249  |21.137521222410864|\n",
      "|prev_coworkers_description   |224  |19.015280135823428|\n",
      "|mental_health_coverage       |169  |14.34634974533107 |\n",
      "|tell_others_experience       |169  |14.34634974533107 |\n",
      "|tell_others_consequence      |169  |14.34634974533107 |\n",
      "|scope_productivity           |169  |14.34634974533107 |\n",
      "|prev_supervisor_description  |166  |14.091680814940577|\n",
      "|supportive_description       |0    |0.0               |\n",
      "+-----------------------------+-----+------------------+\n",
      "\n"
     ]
    }
   ],
   "source": [
    "from pyspark.sql.functions import *\n",
    "from pyspark import SparkContext\n",
    "from pyspark.sql import SQLContext\n",
    "from functools import reduce\n",
    "import pyspark.sql.functions as F\n",
    "import pandas as pd\n",
    "import numpy as np\n",
    "summary = df.describe().filter(\"summary = 'count'\")\n",
    "columns = df.columns\n",
    "counts  = df.count()\n",
    "\n",
    "summary.rdd \\\n",
    "  .flatMap(lambda row: map(lambda i: (columns[i-1], row[i]), range(1, len(row)))) \\\n",
    "  .toDF(['column', 'count']) \\\n",
    "  .withColumn('not_null_ratio', col('count') / counts * 100) \\\n",
    ".sort(desc(\"not_null_ratio\"))\\\n",
    "  .show(100, False)\n",
    "\n"
   ]
  },
  {
   "cell_type": "code",
   "execution_count": 13,
   "id": "4c2417b1",
   "metadata": {},
   "outputs": [],
   "source": [
    "from pyspark.sql.types import IntegerType\n",
    "df = df.withColumn(\"age\", df[\"age\"].cast(IntegerType()))\n",
    "\n",
    "#data_df = df.withColumn(\"age\", data_df[\"age\"].cast(IntegerType()))"
   ]
  },
  {
   "cell_type": "code",
   "execution_count": 14,
   "id": "22e1aae4",
   "metadata": {},
   "outputs": [
    {
     "name": "stdout",
     "output_type": "stream",
     "text": [
      "+-------+------------------+\n",
      "|summary|               age|\n",
      "+-------+------------------+\n",
      "|  count|              1176|\n",
      "|   mean|            35.375|\n",
      "| stddev|10.366542951531986|\n",
      "|    min|                18|\n",
      "|    max|               139|\n",
      "+-------+------------------+\n",
      "\n"
     ]
    }
   ],
   "source": [
    "df.describe('age').show()"
   ]
  },
  {
   "cell_type": "markdown",
   "id": "3f706982",
   "metadata": {},
   "source": [
    "## 2.3 Exploratory data analysis"
   ]
  },
  {
   "cell_type": "code",
   "execution_count": 15,
   "id": "684a68ef",
   "metadata": {},
   "outputs": [
    {
     "data": {
      "image/png": "[encoded data removed]",
      "text/plain": [
       "<Figure size 432x288 with 1 Axes>"
      ]
     },
     "metadata": {
      "needs_background": "light"
     },
     "output_type": "display_data"
    }
   ],
   "source": [
    "# Import the relevant Python libraries.\n",
    "import numpy as np\n",
    "import matplotlib.pyplot as plt\n",
    "%matplotlib inline\n",
    "\n",
    "\n",
    "age = np.array(df.filter('age > 0').select('age').collect())\n",
    "plt.hist(age, bins =50)\n",
    "plt.show()"
   ]
  },
  {
   "cell_type": "code",
   "execution_count": 16,
   "id": "b0afb424",
   "metadata": {},
   "outputs": [
    {
     "name": "stdout",
     "output_type": "stream",
     "text": [
      "(1171, 64)\n"
     ]
    }
   ],
   "source": [
    "df_filter1 = df.filter('age < 100')\n",
    "print((df_filter1.count(), len(df_filter1.columns)))"
   ]
  },
  {
   "cell_type": "code",
   "execution_count": 17,
   "id": "6b48922d",
   "metadata": {},
   "outputs": [
    {
     "data": {
      "image/png": "[encoded data removed]",
      "text/plain": [
       "<Figure size 432x288 with 1 Axes>"
      ]
     },
     "metadata": {
      "needs_background": "light"
     },
     "output_type": "display_data"
    }
   ],
   "source": [
    "age = np.array(df_filter1.select('age').collect())\n",
    "plt.hist(age, bins =50)\n",
    "plt.show()"
   ]
  },
  {
   "cell_type": "code",
   "execution_count": 18,
   "id": "78eb2a14",
   "metadata": {
    "scrolled": true
   },
   "outputs": [
    {
     "data": {
      "text/plain": [
       "[Row(gender='female (cisgender)'),\n",
       " Row(gender='femalw'),\n",
       " Row(gender='transgender'),\n",
       " Row(gender='female (cis) '),\n",
       " Row(gender='nb'),\n",
       " Row(gender='cis-male'),\n",
       " Row(gender='genderfluid'),\n",
       " Row(gender='non-binary'),\n",
       " Row(gender='female-ish'),\n",
       " Row(gender='she/her/they/them'),\n",
       " Row(gender='woman-identified'),\n",
       " Row(gender='genderqueer demigirl'),\n",
       " Row(gender='man'),\n",
       " Row(gender='none'),\n",
       " Row(gender='gender non-conforming woman'),\n",
       " Row(gender='genderqueer'),\n",
       " Row(gender='m'),\n",
       " Row(gender='transfeminine'),\n",
       " Row(gender=None),\n",
       " Row(gender='male, cis'),\n",
       " Row(gender='malel'),\n",
       " Row(gender='f'),\n",
       " Row(gender='trans female'),\n",
       " Row(gender='dude'),\n",
       " Row(gender='woman'),\n",
       " Row(gender='cisgendered woman'),\n",
       " Row(gender='female'),\n",
       " Row(gender='trans woman'),\n",
       " Row(gender='other'),\n",
       " Row(gender='non binary'),\n",
       " Row(gender='agender/genderfluid'),\n",
       " Row(gender='male-ish'),\n",
       " Row(gender='male '),\n",
       " Row(gender='cis female '),\n",
       " Row(gender='femail'),\n",
       " Row(gender='i identify as female'),\n",
       " Row(gender='cis hetero male'),\n",
       " Row(gender='mail'),\n",
       " Row(gender='cisgender male'),\n",
       " Row(gender='sometimes'),\n",
       " Row(gender='cis male'),\n",
       " Row(gender='f, cisgender'),\n",
       " Row(gender='\\\\-'),\n",
       " Row(gender='demiguy'),\n",
       " Row(gender='male (cis)'),\n",
       " Row(gender='cis female'),\n",
       " Row(gender='uhhhhhhhhh fem genderqueer?'),\n",
       " Row(gender='god king of the valajar'),\n",
       " Row(gender='my sex is female.'),\n",
       " Row(gender='male'),\n",
       " Row(gender='cis male '),\n",
       " Row(gender='male (or female, or both)'),\n",
       " Row(gender='female (cis)'),\n",
       " Row(gender='agender'),\n",
       " Row(gender='*shrug emoji* (f)'),\n",
       " Row(gender='trans man'),\n",
       " Row(gender='ostensibly male'),\n",
       " Row(gender='cis woman'),\n",
       " Row(gender='nonbinary'),\n",
       " Row(gender='contextual'),\n",
       " Row(gender='male/androgynous '),\n",
       " Row(gender='genderqueer/non-binary'),\n",
       " Row(gender='nonbinary/femme'),\n",
       " Row(gender='male, born with xy chromosoms'),\n",
       " Row(gender='swm'),\n",
       " Row(gender='cis-female'),\n",
       " Row(gender='cisgender female'),\n",
       " Row(gender='female '),\n",
       " Row(gender=\"male (hey this is the tech industry you're talking about)\"),\n",
       " Row(gender='female/gender non-binary.')]"
      ]
     },
     "execution_count": 18,
     "metadata": {},
     "output_type": "execute_result"
    }
   ],
   "source": [
    "df_filter1 =  df_filter1.withColumn(\"gender\",F.lower(F.col(\"gender\")))\n",
    "\n",
    "df_filter1.select('gender').distinct().collect()"
   ]
  },
  {
   "cell_type": "code",
   "execution_count": 19,
   "id": "5fe873ba",
   "metadata": {
    "scrolled": true
   },
   "outputs": [
    {
     "data": {
      "text/plain": [
       "[Row(gender='female (cisgender)'),\n",
       " Row(gender='femalw'),\n",
       " Row(gender='transgender'),\n",
       " Row(gender='female (cis) '),\n",
       " Row(gender='nb'),\n",
       " Row(gender='cis-male'),\n",
       " Row(gender='genderfluid'),\n",
       " Row(gender='non-binary'),\n",
       " Row(gender='female-ish'),\n",
       " Row(gender='she/her/they/them'),\n",
       " Row(gender='woman-identified'),\n",
       " Row(gender='genderqueer demigirl'),\n",
       " Row(gender='man'),\n",
       " Row(gender='none'),\n",
       " Row(gender='gender non-conforming woman'),\n",
       " Row(gender='genderqueer'),\n",
       " Row(gender='m'),\n",
       " Row(gender='transfeminine'),\n",
       " Row(gender=None),\n",
       " Row(gender='male, cis'),\n",
       " Row(gender='malel'),\n",
       " Row(gender='f'),\n",
       " Row(gender='trans female'),\n",
       " Row(gender='dude'),\n",
       " Row(gender='woman'),\n",
       " Row(gender='cisgendered woman'),\n",
       " Row(gender='female'),\n",
       " Row(gender='trans woman'),\n",
       " Row(gender='other'),\n",
       " Row(gender='non binary'),\n",
       " Row(gender='agender/genderfluid'),\n",
       " Row(gender='male-ish'),\n",
       " Row(gender='male '),\n",
       " Row(gender='cis female '),\n",
       " Row(gender='femail'),\n",
       " Row(gender='i identify as female'),\n",
       " Row(gender='cis hetero male'),\n",
       " Row(gender='mail'),\n",
       " Row(gender='cisgender male'),\n",
       " Row(gender='sometimes'),\n",
       " Row(gender='cis male'),\n",
       " Row(gender='f, cisgender'),\n",
       " Row(gender='\\\\-'),\n",
       " Row(gender='demiguy'),\n",
       " Row(gender='male (cis)'),\n",
       " Row(gender='cis female'),\n",
       " Row(gender='uhhhhhhhhh fem genderqueer?'),\n",
       " Row(gender='god king of the valajar'),\n",
       " Row(gender='my sex is female.'),\n",
       " Row(gender='male'),\n",
       " Row(gender='cis male '),\n",
       " Row(gender='male (or female, or both)'),\n",
       " Row(gender='female (cis)'),\n",
       " Row(gender='agender'),\n",
       " Row(gender='*shrug emoji* (f)'),\n",
       " Row(gender='trans man'),\n",
       " Row(gender='ostensibly male'),\n",
       " Row(gender='cis woman'),\n",
       " Row(gender='nonbinary'),\n",
       " Row(gender='contextual'),\n",
       " Row(gender='male/androgynous '),\n",
       " Row(gender='genderqueer/non-binary'),\n",
       " Row(gender='nonbinary/femme'),\n",
       " Row(gender='male, born with xy chromosoms'),\n",
       " Row(gender='swm'),\n",
       " Row(gender='cis-female'),\n",
       " Row(gender='cisgender female'),\n",
       " Row(gender='female '),\n",
       " Row(gender=\"male (hey this is the tech industry you're talking about)\"),\n",
       " Row(gender='female/gender non-binary.')]"
      ]
     },
     "execution_count": 19,
     "metadata": {},
     "output_type": "execute_result"
    }
   ],
   "source": [
    "df_filter1.select('gender').distinct().collect()"
   ]
  },
  {
   "cell_type": "code",
   "execution_count": 20,
   "id": "2af0e729",
   "metadata": {},
   "outputs": [
    {
     "name": "stdout",
     "output_type": "stream",
     "text": [
      "+----------------------+\n",
      "|count(DISTINCT gender)|\n",
      "+----------------------+\n",
      "|                    69|\n",
      "+----------------------+\n",
      "\n"
     ]
    }
   ],
   "source": [
    "from pyspark.sql.functions import col, countDistinct\n",
    "\n",
    "df_filter1.select(F.countDistinct(\"gender\")).show()"
   ]
  },
  {
   "cell_type": "code",
   "execution_count": 21,
   "id": "a6eefa07",
   "metadata": {},
   "outputs": [],
   "source": [
    "import pyspark.sql.functions as F\n",
    "\n",
    "df_filter1 =  df_filter1.withColumn(\"gender\",F.lower(F.col(\"gender\")))\n",
    "\n",
    "female_list = ['female', 'f','female ', 'femalw', 'femail', 'female (cis)', 'female (cis) ','cis female ',\n",
    "                            'my sex is female.', 'female (cisgender)', 'woman-identified', 'cis-female', \n",
    "                            'cis female', 'f, cisgender', 'female-ish', 'trans woman', 'i identify as female',\n",
    "                            '*shrug emoji* (f)', 'cis woman', 'cisgendered woman', 'trans female', 'woman',\n",
    "                            'cisgender female']\n",
    "\n",
    "male_list = ['m', 'man', 'cis-male', 'mail', 'male/androgynous ','cis hetero male', \n",
    "                            'male (cis)','male (hey this is the tech industry you\\'re talking about)',\n",
    "                            'god king of the valajar', 'cis male', 'male ', 'male, cis', 'cis male ',\n",
    "                            'male-ish','dude','ostensibly male','male, born with xy chromosoms','malel', \n",
    "                            'trans man','cisgender male', 'swm', 'male']\n",
    "\n",
    "from pyspark.sql.functions import when\n",
    "\n",
    "df_filter1 = df_filter1.withColumn('gender_new',\n",
    "                                    when(col('gender').isin(female_list),'female')\\\n",
    "                                   .when(col('gender').isin(male_list),'male')\\\n",
    "                                   .otherwise('non-binary'))\n",
    "\n"
   ]
  },
  {
   "cell_type": "code",
   "execution_count": 22,
   "id": "78a1785f",
   "metadata": {},
   "outputs": [
    {
     "name": "stdout",
     "output_type": "stream",
     "text": [
      "+----------+-----+\n",
      "|gender_new|count|\n",
      "+----------+-----+\n",
      "|non-binary|   49|\n",
      "|    female|  348|\n",
      "|      male|  774|\n",
      "+----------+-----+\n",
      "\n"
     ]
    }
   ],
   "source": [
    "df_filter1.groupBy('gender_new').count().show()"
   ]
  },
  {
   "cell_type": "code",
   "execution_count": 23,
   "id": "9388ad8c",
   "metadata": {},
   "outputs": [
    {
     "name": "stdout",
     "output_type": "stream",
     "text": [
      "+------------+-----+\n",
      "|mh_treatment|count|\n",
      "+------------+-----+\n",
      "|           0|  352|\n",
      "|           1|  422|\n",
      "+------------+-----+\n",
      "\n"
     ]
    }
   ],
   "source": [
    "df_male_mh = df_filter1.where(F.col('gender_new')=='male')\n",
    "\n",
    "df_male_mh.groupBy('mh_treatment').count().show()"
   ]
  },
  {
   "cell_type": "code",
   "execution_count": 24,
   "id": "117575b1",
   "metadata": {},
   "outputs": [
    {
     "name": "stdout",
     "output_type": "stream",
     "text": [
      "+------------+-----+\n",
      "|mh_treatment|count|\n",
      "+------------+-----+\n",
      "|           0|   91|\n",
      "|           1|  257|\n",
      "+------------+-----+\n",
      "\n"
     ]
    }
   ],
   "source": [
    "df_female_mh = df_filter1.where(F.col('gender_new')=='female')\n",
    "\n",
    "df_female_mh.groupBy('mh_treatment').count().show()"
   ]
  },
  {
   "cell_type": "code",
   "execution_count": 25,
   "id": "19ea2293",
   "metadata": {},
   "outputs": [
    {
     "data": {
      "text/plain": [
       "<AxesSubplot:xlabel='gender_new'>"
      ]
     },
     "execution_count": 25,
     "metadata": {},
     "output_type": "execute_result"
    },
    {
     "data": {
      "image/png": "[encoded data removed]",
      "text/plain": [
       "<Figure size 432x288 with 1 Axes>"
      ]
     },
     "metadata": {
      "needs_background": "light"
     },
     "output_type": "display_data"
    }
   ],
   "source": [
    "df_gender = df_filter1.groupby('mh_treatment','gender_new').count()\n",
    "pdf_1 = df_gender.toPandas()\n",
    "pdf_1.pivot( 'gender_new', 'mh_treatment','count').plot.bar(stacked=True)"
   ]
  },
  {
   "cell_type": "code",
   "execution_count": 26,
   "id": "94d82570",
   "metadata": {},
   "outputs": [
    {
     "name": "stdout",
     "output_type": "stream",
     "text": [
      "+------------+-----------------+-----+\n",
      "|mh_treatment|mh_family_history|count|\n",
      "+------------+-----------------+-----+\n",
      "|           0|     I don't know|  104|\n",
      "|           1|               No|  109|\n",
      "|           0|               No|  229|\n",
      "|           1|     I don't know|  184|\n",
      "|           1|              Yes|  424|\n",
      "|           0|              Yes|  121|\n",
      "+------------+-----------------+-----+\n",
      "\n"
     ]
    }
   ],
   "source": [
    "df_family = df_filter1.groupby('mh_treatment','mh_family_history').count()\n",
    "df_family.show()"
   ]
  },
  {
   "cell_type": "code",
   "execution_count": 27,
   "id": "a78a7e02",
   "metadata": {},
   "outputs": [],
   "source": [
    "pdf_1 = df_family.toPandas()"
   ]
  },
  {
   "cell_type": "code",
   "execution_count": 28,
   "id": "3933b1b1",
   "metadata": {},
   "outputs": [
    {
     "data": {
      "text/plain": [
       "<AxesSubplot:xlabel='mh_family_history'>"
      ]
     },
     "execution_count": 28,
     "metadata": {},
     "output_type": "execute_result"
    },
    {
     "data": {
      "image/png": "[encoded data removed]",
      "text/plain": [
       "<Figure size 432x288 with 1 Axes>"
      ]
     },
     "metadata": {
      "needs_background": "light"
     },
     "output_type": "display_data"
    }
   ],
   "source": [
    "pdf_1.pivot( 'mh_family_history', 'mh_treatment','count').plot.bar(stacked=True)"
   ]
  },
  {
   "cell_type": "code",
   "execution_count": 29,
   "id": "5487c566",
   "metadata": {},
   "outputs": [
    {
     "data": {
      "image/png": "[encoded data removed]",
      "text/plain": [
       "<Figure size 432x288 with 1 Axes>"
      ]
     },
     "metadata": {
      "needs_background": "light"
     },
     "output_type": "display_data"
    }
   ],
   "source": [
    "age_1 = np.array(df_filter1.filter('mh_treatment == 1').select('age').collect())\n",
    "plt.hist(age_1, bins =50)\n",
    "plt.show()"
   ]
  },
  {
   "cell_type": "code",
   "execution_count": 30,
   "id": "9096f4b0",
   "metadata": {},
   "outputs": [
    {
     "data": {
      "image/png": "[encoded data removed]",
      "text/plain": [
       "<Figure size 432x288 with 1 Axes>"
      ]
     },
     "metadata": {
      "needs_background": "light"
     },
     "output_type": "display_data"
    }
   ],
   "source": [
    "age_2 = np.array(df_filter1.filter('mh_treatment == 0').select('age').collect())\n",
    "plt.hist(age_2, bins =50)\n",
    "plt.show()"
   ]
  },
  {
   "cell_type": "code",
   "execution_count": 31,
   "id": "b9a994cd",
   "metadata": {},
   "outputs": [
    {
     "data": {
      "text/plain": [
       "<AxesSubplot:>"
      ]
     },
     "execution_count": 31,
     "metadata": {},
     "output_type": "execute_result"
    },
    {
     "data": {
      "image/png": "[encoded data removed]",
      "text/plain": [
       "<Figure size 432x288 with 2 Axes>"
      ]
     },
     "metadata": {
      "needs_background": "light"
     },
     "output_type": "display_data"
    }
   ],
   "source": [
    "#checking missing values:\n",
    "import seaborn as sns\n",
    "missing_check_cols = ['supportive_description' , 'prev_supervisor_description', 'tell_others_consequence', 'mental_health_coverage','scope_productivity','tell_others_experience',        \n",
    "'prev_coworkers_description','unsupportive_description','supervisor_description','coworkers_description','mh_diagnosis','phys_interview_description', 'care_options'] \n",
    "df_missing_high = df_filter1.select(*missing_check_cols)\n",
    "plot_df = df_missing_high.toPandas()\n",
    "sns.heatmap(data = plot_df.isna())  "
   ]
  },
  {
   "cell_type": "code",
   "execution_count": 32,
   "id": "306cb770",
   "metadata": {},
   "outputs": [
    {
     "name": "stdout",
     "output_type": "stream",
     "text": [
      "(1171, 55)\n"
     ]
    }
   ],
   "source": [
    "#remove the columns with more than 70% missing values:\n",
    "remove_cols_70_missing = ['supportive_description' , 'prev_supervisor_description', 'tell_others_consequence', 'mental_health_coverage','scope_productivity','tell_others_experience',        \n",
    "'prev_coworkers_description','unsupportive_description','supervisor_description','coworkers_description']\n",
    "df_filter1 = df_filter1.drop(*remove_cols_70_missing)\n",
    "print((df_filter1.count(), len(df_filter1.columns)))"
   ]
  },
  {
   "cell_type": "code",
   "execution_count": 33,
   "id": "4ac57b96",
   "metadata": {},
   "outputs": [
    {
     "name": "stdout",
     "output_type": "stream",
     "text": [
      "(1171, 55)\n"
     ]
    }
   ],
   "source": [
    "#remove rows with unreasonable values and null values for age:\n",
    "df_filter1 = df_filter1.na.drop(subset = ['age'])\n",
    "df_filter1 = df_filter1.filter('age < 100')\n",
    "print((df_filter1.count(), len(df_filter1.columns)))"
   ]
  },
  {
   "cell_type": "code",
   "execution_count": 34,
   "id": "c401a82c",
   "metadata": {},
   "outputs": [
    {
     "name": "stdout",
     "output_type": "stream",
     "text": [
      "+--------------------+-----+\n",
      "|                race|count|\n",
      "+--------------------+-----+\n",
      "|             Persian|    1|\n",
      "|              Indian|    1|\n",
      "|  Hispanic or Latino|   10|\n",
      "|         South Asian|    2|\n",
      "|         West Indian|    1|\n",
      "|More than one of ...|   27|\n",
      "|   European American|    1|\n",
      "|              Jewish|    1|\n",
      "|      Indo-Caribbean|    1|\n",
      "|   mexican american |    1|\n",
      "|I prefer not to a...|  387|\n",
      "|               White|  701|\n",
      "|      Middle Eastern|    1|\n",
      "|               Asian|   22|\n",
      "|Black or African ...|   11|\n",
      "|           Ashkenazi|    1|\n",
      "|American Indian o...|    1|\n",
      "|             Mestizo|    1|\n",
      "+--------------------+-----+\n",
      "\n"
     ]
    }
   ],
   "source": [
    "#check the race column:\n",
    "df_filter1.groupBy('race').count().show()"
   ]
  },
  {
   "cell_type": "code",
   "execution_count": 35,
   "id": "cc33997e",
   "metadata": {},
   "outputs": [
    {
     "name": "stdout",
     "output_type": "stream",
     "text": [
      "+---------+-----+\n",
      "| race_new|count|\n",
      "+---------+-----+\n",
      "|    white|  701|\n",
      "|no_answer|  387|\n",
      "|   Others|   83|\n",
      "+---------+-----+\n",
      "\n"
     ]
    }
   ],
   "source": [
    "df_filter1 = df_filter1.withColumn('race_new',\n",
    "                                    when(col('race').isin(['White']),'white')\\\n",
    "                                   .when(col('race').isin(['I prefer not to answer']),'no_answer')\\\n",
    "                                   .otherwise('Others'))\n",
    "df_filter1.groupBy('race_new').count().show()"
   ]
  },
  {
   "cell_type": "code",
   "execution_count": 36,
   "id": "7c2ee8ef",
   "metadata": {},
   "outputs": [
    {
     "name": "stdout",
     "output_type": "stream",
     "text": [
      "+-------------+-----+\n",
      "|self_employed|count|\n",
      "+-------------+-----+\n",
      "|            0| 1004|\n",
      "|            1|  167|\n",
      "+-------------+-----+\n",
      "\n"
     ]
    }
   ],
   "source": [
    "df_filter1.groupBy('self_employed').count().show()"
   ]
  },
  {
   "cell_type": "code",
   "execution_count": 37,
   "id": "e41b90c9",
   "metadata": {},
   "outputs": [
    {
     "name": "stdout",
     "output_type": "stream",
     "text": [
      "+-------------+------------+-----+\n",
      "|self_employed|mh_treatment|count|\n",
      "+-------------+------------+-----+\n",
      "|            0|           1|  614|\n",
      "|            1|           1|  103|\n",
      "|            0|           0|  390|\n",
      "|            1|           0|   64|\n",
      "+-------------+------------+-----+\n",
      "\n"
     ]
    }
   ],
   "source": [
    "df_filter1.groupBy('self_employed', 'mh_treatment').count().show()"
   ]
  },
  {
   "cell_type": "code",
   "execution_count": 38,
   "id": "3b8b183a",
   "metadata": {},
   "outputs": [
    {
     "name": "stdout",
     "output_type": "stream",
     "text": [
      "(1004, 55)\n"
     ]
    }
   ],
   "source": [
    "#remove rows with self-employed = 0:\n",
    "df_filter1 = df_filter1.where(F.col('self_employed')== 0)\n",
    "df_filter1 = df_filter1.drop('self_employed')\n",
    "print((df_filter1.count(), len(df_filter1.columns)))"
   ]
  },
  {
   "cell_type": "code",
   "execution_count": 39,
   "id": "a7c6ed75",
   "metadata": {},
   "outputs": [
    {
     "name": "stdout",
     "output_type": "stream",
     "text": [
      "(1004, 53)\n"
     ]
    }
   ],
   "source": [
    "desc_cols = [col for col in df_filter1.columns if 'description' in col]\n",
    "df_filter1 = df_filter1.drop(*desc_cols)\n",
    "print((df_filter1.count(), len(df_filter1.columns)))"
   ]
  },
  {
   "cell_type": "code",
   "execution_count": 40,
   "id": "482987d0",
   "metadata": {},
   "outputs": [
    {
     "name": "stdout",
     "output_type": "stream",
     "text": [
      "(1004, 38)\n"
     ]
    }
   ],
   "source": [
    "# remove unrelated columns or columns with same meaning the target variable:\n",
    "same_target_col = [ 'mh_disorder', 'mh_diagnosis', 'mh_past','work_interfere_treated', 'experience_deterrence', 'friends_fam_willingness', 'phys_interview', 'mental_interview', 'do_people_know', 'team_reaction', 'witness_unsupportive',\n",
    "       'witness_supportive', 'tech_ind_support','tech_company', 'tech_role']\n",
    "df_filter1 = df_filter1.drop(*same_target_col)\n",
    "print((df_filter1.count(), len(df_filter1.columns)))"
   ]
  },
  {
   "cell_type": "code",
   "execution_count": 41,
   "id": "cbdb3fb8",
   "metadata": {},
   "outputs": [
    {
     "name": "stdout",
     "output_type": "stream",
     "text": [
      "+--------------------+-----+\n",
      "|        country_live|count|\n",
      "+--------------------+-----+\n",
      "|United States of ...|  736|\n",
      "|      United Kingdom|   67|\n",
      "|             Germany|   23|\n",
      "|              Canada|   21|\n",
      "|              France|   19|\n",
      "|               Spain|   15|\n",
      "|               India|   13|\n",
      "|         Netherlands|   12|\n",
      "|           Australia|   11|\n",
      "|             Ireland|    6|\n",
      "|         Switzerland|    6|\n",
      "|              Mexico|    5|\n",
      "|              Poland|    5|\n",
      "|         New Zealand|    4|\n",
      "|               Japan|    4|\n",
      "|             Romania|    4|\n",
      "|        South Africa|    4|\n",
      "|              Russia|    3|\n",
      "|             Finland|    3|\n",
      "|               Italy|    3|\n",
      "+--------------------+-----+\n",
      "only showing top 20 rows\n",
      "\n"
     ]
    }
   ],
   "source": [
    "df_filter1.groupBy('country_live').count().sort(desc(\"count\")).show()\n"
   ]
  },
  {
   "cell_type": "code",
   "execution_count": 42,
   "id": "c532ecf5",
   "metadata": {},
   "outputs": [
    {
     "name": "stdout",
     "output_type": "stream",
     "text": [
      "+------------+-----+\n",
      "|country_live|count|\n",
      "+------------+-----+\n",
      "|  outside_US|  268|\n",
      "|          US|  736|\n",
      "+------------+-----+\n",
      "\n"
     ]
    }
   ],
   "source": [
    "#treatment for the country_live and country_live:\n",
    "df_filter1 = df_filter1.withColumn('country_live',\n",
    "                                    when(col('country_live').isin(['United States of America']),'US')\\\n",
    "                                   .otherwise('outside_US'))\n",
    "df_filter1.groupBy('country_live').count().show()"
   ]
  },
  {
   "cell_type": "code",
   "execution_count": 43,
   "id": "451695f7",
   "metadata": {},
   "outputs": [
    {
     "name": "stdout",
     "output_type": "stream",
     "text": [
      "+------------+-----+\n",
      "|country_work|count|\n",
      "+------------+-----+\n",
      "|  outside_US|  265|\n",
      "|          US|  739|\n",
      "+------------+-----+\n",
      "\n"
     ]
    }
   ],
   "source": [
    "#treatment for the country_live and country_work:\n",
    "df_filter1 = df_filter1.withColumn('country_work',\n",
    "                                    when(col('country_work').isin(['United States of America']),'US')\\\n",
    "                                   .otherwise('outside_US'))\n",
    "df_filter1.groupBy('country_work').count().show()"
   ]
  },
  {
   "cell_type": "code",
   "execution_count": 44,
   "id": "632c32fe",
   "metadata": {},
   "outputs": [
    {
     "data": {
      "image/png": "[encoded data removed]",
      "text/plain": [
       "<Figure size 432x288 with 2 Axes>"
      ]
     },
     "metadata": {
      "needs_background": "light"
     },
     "output_type": "display_data"
    }
   ],
   "source": [
    "#checking the missing values again:\n",
    "missing_check_cols = [ 'num_employees', 'phys_vs_mental',\n",
    "                      'supervisor_willingness', 'supervisor_experience', 'coworkers_willingness', 'coworkers_experience',\n",
    "                      'phys_health_importance', 'mental_health_importance',  'prev_phys_health_importance',\n",
    "                      'prev_mental_health_importance','mental_health_importance', 'phys_health_importance','mh_treatment', 'mh_family_history']\n",
    "df_missing_top = df_filter1.select(*missing_check_cols)\n",
    "plot_df = df_missing_top.toPandas()\n",
    "sns.heatmap(data = plot_df.isna());  "
   ]
  },
  {
   "cell_type": "code",
   "execution_count": 45,
   "id": "6380f62e",
   "metadata": {},
   "outputs": [
    {
     "data": {
      "text/plain": [
       "[Row(prev_phys_health_importance='3', prev_mental_health_importance='3', mental_health_importance='0', phys_health_importance='6'),\n",
       " Row(prev_phys_health_importance='5', prev_mental_health_importance='2', mental_health_importance='2', phys_health_importance='7'),\n",
       " Row(prev_phys_health_importance='8', prev_mental_health_importance='0', mental_health_importance='1', phys_health_importance='0'),\n",
       " Row(prev_phys_health_importance=None, prev_mental_health_importance=None, mental_health_importance='5', phys_health_importance='7'),\n",
       " Row(prev_phys_health_importance='7', prev_mental_health_importance='3', mental_health_importance='5', phys_health_importance='9')]"
      ]
     },
     "execution_count": 45,
     "metadata": {},
     "output_type": "execute_result"
    }
   ],
   "source": [
    "df_filter1.select(['prev_phys_health_importance','prev_mental_health_importance','mental_health_importance','phys_health_importance']).head(5)"
   ]
  },
  {
   "cell_type": "code",
   "execution_count": 46,
   "id": "6df72099",
   "metadata": {},
   "outputs": [
    {
     "data": {
      "text/plain": [
       "[Row(prev_phys_health_importance='3', prev_mental_health_importance='3', mental_health_importance='0', phys_health_importance='6'),\n",
       " Row(prev_phys_health_importance='5', prev_mental_health_importance='2', mental_health_importance='2', phys_health_importance='7'),\n",
       " Row(prev_phys_health_importance='8', prev_mental_health_importance='0', mental_health_importance='1', phys_health_importance='0'),\n",
       " Row(prev_phys_health_importance='5.3744292237442925', prev_mental_health_importance='3.528538812785388', mental_health_importance='5', phys_health_importance='7'),\n",
       " Row(prev_phys_health_importance='7', prev_mental_health_importance='3', mental_health_importance='5', phys_health_importance='9')]"
      ]
     },
     "execution_count": 46,
     "metadata": {},
     "output_type": "execute_result"
    }
   ],
   "source": [
    "def fill_null_with_mean(df, include=set()):\n",
    "\n",
    "    stats = df.agg(*(avg(c).alias(c) for c in df.columns if c in include))\n",
    "    return df.na.fill(stats.first().asDict())\n",
    "\n",
    "df_filter1 = fill_null_with_mean(df_filter1, ['prev_phys_health_importance','prev_mental_health_importance','mental_health_importance','phys_health_importance'])\n",
    "df_filter1.select(['prev_phys_health_importance','prev_mental_health_importance','mental_health_importance','phys_health_importance']).head(5)"
   ]
  },
  {
   "cell_type": "code",
   "execution_count": 47,
   "id": "d958f609",
   "metadata": {},
   "outputs": [
    {
     "name": "stdout",
     "output_type": "stream",
     "text": [
      "+--------------+-----+\n",
      "| num_employees|count|\n",
      "+--------------+-----+\n",
      "|       100-500|  284|\n",
      "|More than 1000|  263|\n",
      "|        26-100|  198|\n",
      "|        Jun-25|  155|\n",
      "|      500-1000|   79|\n",
      "|         1-May|   25|\n",
      "+--------------+-----+\n",
      "\n"
     ]
    }
   ],
   "source": [
    "# check the values of the 'num_employee' column:\n",
    "df_filter1.groupBy('num_employees').count().sort(desc(\"count\")).show()"
   ]
  },
  {
   "cell_type": "code",
   "execution_count": 48,
   "id": "253cd4d3",
   "metadata": {},
   "outputs": [
    {
     "name": "stdout",
     "output_type": "stream",
     "text": [
      "+--------------+-----+\n",
      "| num_employees|count|\n",
      "+--------------+-----+\n",
      "|       100-500|  284|\n",
      "|      500-1000|   79|\n",
      "|More than 1000|  263|\n",
      "|        26-100|  198|\n",
      "|           1-5|   25|\n",
      "|          6-25|  155|\n",
      "+--------------+-----+\n",
      "\n"
     ]
    }
   ],
   "source": [
    "#treatment of the 'num_employee' column:\n",
    "\n",
    "df_filter1 = df_filter1.withColumn('num_employees',\n",
    "                                    when(col('num_employees').isin(['1-May']),'1-5')\\\n",
    "                                   .when(col('num_employees').isin(['Jun-25']),'6-25')\n",
    "                                   .otherwise(col('num_employees')))\n",
    "df_filter1.groupBy('num_employees').count().show()"
   ]
  },
  {
   "cell_type": "code",
   "execution_count": 49,
   "id": "b4238c5b",
   "metadata": {},
   "outputs": [
    {
     "name": "stdout",
     "output_type": "stream",
     "text": [
      "+-----------+-----+\n",
      "|remote_work|count|\n",
      "+-----------+-----+\n",
      "|          1|    3|\n",
      "|          0| 1001|\n",
      "+-----------+-----+\n",
      "\n"
     ]
    }
   ],
   "source": [
    "df_filter1 = df_filter1.withColumn(\n",
    "    'remote_work',\n",
    "    F.when((F.col(\"country_live\") != F.col(\"country_work\")), 1)\\\n",
    "    .otherwise(0)\n",
    ")\n",
    "df_filter1.groupBy('remote_work').count().show()"
   ]
  },
  {
   "cell_type": "code",
   "execution_count": 50,
   "id": "2393dac6",
   "metadata": {},
   "outputs": [],
   "source": [
    "def categorizer(age):\n",
    "    if age >=18 and age<=35:\n",
    "        return \"Young\"\n",
    "    elif age > 35 and age<=55:\n",
    "        return \"Middle_age\"\n",
    "    elif age > 55:\n",
    "        return \"Older\"\n",
    "    \n",
    "bucket_udf = udf(categorizer, StringType() )\n",
    "df_filter1 = df_filter1.withColumn(\"age_bucket\", bucket_udf(\"age\"))"
   ]
  },
  {
   "cell_type": "code",
   "execution_count": 51,
   "id": "c2aa2916",
   "metadata": {},
   "outputs": [
    {
     "name": "stdout",
     "output_type": "stream",
     "text": [
      "+----------+-----+\n",
      "|age_bucket|count|\n",
      "+----------+-----+\n",
      "|     Older|   17|\n",
      "|Middle_age|  398|\n",
      "|     Young|  589|\n",
      "+----------+-----+\n",
      "\n"
     ]
    },
    {
     "name": "stderr",
     "output_type": "stream",
     "text": [
      "\r",
      "[Stage 307:>                                                        (0 + 1) / 1]\r",
      "\r",
      "                                                                                \r"
     ]
    }
   ],
   "source": [
    "df_filter1.groupBy('age_bucket').count().show()"
   ]
  },
  {
   "cell_type": "code",
   "execution_count": 52,
   "id": "3c0acb17",
   "metadata": {},
   "outputs": [
    {
     "name": "stdout",
     "output_type": "stream",
     "text": [
      "+----------+------------+-----+\n",
      "|age_bucket|mh_treatment|count|\n",
      "+----------+------------+-----+\n",
      "|Middle_age|           1|  241|\n",
      "|     Older|           0|    4|\n",
      "|Middle_age|           0|  157|\n",
      "|     Older|           1|   13|\n",
      "|     Young|           0|  229|\n",
      "|     Young|           1|  360|\n",
      "+----------+------------+-----+\n",
      "\n"
     ]
    }
   ],
   "source": [
    "df_filter1.groupBy('age_bucket','mh_treatment').count().show()"
   ]
  },
  {
   "cell_type": "code",
   "execution_count": 53,
   "id": "2f15cce0",
   "metadata": {},
   "outputs": [
    {
     "name": "stdout",
     "output_type": "stream",
     "text": [
      "+-------------+-----+\n",
      "|prev_employer|count|\n",
      "+-------------+-----+\n",
      "|            0|  128|\n",
      "|            1|  876|\n",
      "+-------------+-----+\n",
      "\n"
     ]
    }
   ],
   "source": [
    "df_filter1.groupBy('prev_employer').count().show()"
   ]
  },
  {
   "cell_type": "code",
   "execution_count": 54,
   "id": "7123269a",
   "metadata": {},
   "outputs": [
    {
     "data": {
      "text/plain": [
       "['ID',\n",
       " 'age',\n",
       " 'gender',\n",
       " 'country_live',\n",
       " 'country_work',\n",
       " 'race',\n",
       " 'num_employees',\n",
       " 'benefits',\n",
       " 'care_options',\n",
       " 'wellness_program',\n",
       " 'seek_help_resources',\n",
       " 'anonymity',\n",
       " 'leave_difficulty',\n",
       " 'phys_vs_mental',\n",
       " 'supervisor_willingness']"
      ]
     },
     "execution_count": 54,
     "metadata": {},
     "output_type": "execute_result"
    }
   ],
   "source": [
    "df_filter1.columns[0:15]"
   ]
  },
  {
   "cell_type": "code",
   "execution_count": 55,
   "id": "181762f6",
   "metadata": {},
   "outputs": [
    {
     "data": {
      "text/plain": [
       "['ID',\n",
       " 'supervisor_experience',\n",
       " 'coworkers_willingness',\n",
       " 'coworkers_experience',\n",
       " 'phys_health_importance',\n",
       " 'mental_health_importance',\n",
       " 'prev_employer',\n",
       " 'prev_tech_company',\n",
       " 'prev_benefits',\n",
       " 'prev_care_options',\n",
       " 'prev_wellness_program',\n",
       " 'prev_seek_help_resources',\n",
       " 'prev_anonymity',\n",
       " 'prev_phys_vs_mental',\n",
       " 'prev_supervisor_willingness',\n",
       " 'prev_supervisor_experience',\n",
       " 'prev_coworkers_willingness',\n",
       " 'prev_coworkers_experience',\n",
       " 'prev_phys_health_importance',\n",
       " 'prev_mental_health_importance',\n",
       " 'mh_treatment',\n",
       " 'mh_family_history',\n",
       " 'gender_new',\n",
       " 'race_new',\n",
       " 'remote_work',\n",
       " 'age_bucket']"
      ]
     },
     "execution_count": 55,
     "metadata": {},
     "output_type": "execute_result"
    }
   ],
   "source": [
    "df_filter1.columns[0:1] + df_filter1.columns[15:]"
   ]
  },
  {
   "cell_type": "code",
   "execution_count": 56,
   "id": "170b03a2",
   "metadata": {},
   "outputs": [
    {
     "name": "stdout",
     "output_type": "stream",
     "text": [
      "(1004, 36)\n"
     ]
    }
   ],
   "source": [
    "df_segment_1 = df_filter1.select(df_filter1.columns[0:15] )\n",
    "\n",
    "df_segment_2 = df_filter1.select(df_filter1.columns[0:1] + df_filter1.columns[15:])\n",
    "\n",
    "df_merge = df_segment_1.join(df_segment_2, df_segment_1.ID == df_segment_2.ID)\n",
    "\n",
    "df_merge =df_merge.drop('ID','gender','race','prev_tech_company')\n",
    "print((df_merge.count(), len(df_merge.columns)))"
   ]
  },
  {
   "cell_type": "code",
   "execution_count": 57,
   "id": "769208bb",
   "metadata": {
    "scrolled": true
   },
   "outputs": [],
   "source": [
    "#df_merge.printSchema()"
   ]
  },
  {
   "cell_type": "code",
   "execution_count": 58,
   "id": "49ad441c",
   "metadata": {},
   "outputs": [
    {
     "data": {
      "text/plain": [
       "['age',\n",
       " 'country_live',\n",
       " 'country_work',\n",
       " 'num_employees',\n",
       " 'benefits',\n",
       " 'care_options',\n",
       " 'wellness_program',\n",
       " 'seek_help_resources',\n",
       " 'anonymity',\n",
       " 'leave_difficulty',\n",
       " 'phys_vs_mental',\n",
       " 'supervisor_willingness',\n",
       " 'supervisor_experience',\n",
       " 'coworkers_willingness',\n",
       " 'coworkers_experience',\n",
       " 'phys_health_importance',\n",
       " 'mental_health_importance',\n",
       " 'prev_employer',\n",
       " 'prev_benefits',\n",
       " 'prev_care_options',\n",
       " 'prev_wellness_program',\n",
       " 'prev_seek_help_resources',\n",
       " 'prev_anonymity',\n",
       " 'prev_phys_vs_mental',\n",
       " 'prev_supervisor_willingness',\n",
       " 'prev_supervisor_experience',\n",
       " 'prev_coworkers_willingness',\n",
       " 'prev_coworkers_experience',\n",
       " 'prev_phys_health_importance',\n",
       " 'prev_mental_health_importance',\n",
       " 'mh_treatment',\n",
       " 'mh_family_history',\n",
       " 'gender_new',\n",
       " 'race_new',\n",
       " 'remote_work',\n",
       " 'age_bucket']"
      ]
     },
     "execution_count": 58,
     "metadata": {},
     "output_type": "execute_result"
    }
   ],
   "source": [
    "df_merge.columns"
   ]
  },
  {
   "cell_type": "code",
   "execution_count": 82,
   "id": "6d4ca105",
   "metadata": {},
   "outputs": [],
   "source": [
    "from pyspark.sql.functions import udf\n",
    "from pyspark.sql.types import StringType\n",
    "from pyspark.sql.types import DoubleType\n",
    "df_merge = df_merge.withColumn(\"phys_health_importance\", df_merge[\"phys_health_importance\"].cast(DoubleType()).alias(\"phys_health_importance\"))\n",
    "\n",
    "df_merge = df_merge.withColumn(\"mental_health_importance\", df_merge[\"mental_health_importance\"].cast(DoubleType()).alias(\"mental_health_importance\"))\n",
    "\n",
    "df_merge = df_merge.withColumn(\"prev_phys_health_importance\", df_merge[\"prev_phys_health_importance\"].cast(DoubleType()).alias(\"prev_phys_health_importance\"))\n",
    "\n",
    "df_merge = df_merge.withColumn(\"prev_mental_health_importance\", df_merge[\"prev_mental_health_importance\"].cast(DoubleType()).alias(\"prev_mental_health_importance\"))\n",
    "df_merge = df_merge.withColumn(\"supervisor_experience\", df_merge[\"supervisor_experience\"].cast(DoubleType()).alias(\"supervisor_experience\"))\n",
    "df_merge = df_merge.withColumn(\"prev_supervisor_experience\", df_merge[\"prev_supervisor_experience\"].cast(DoubleType()).alias(\"prev_supervisor_experience\"))\n",
    "\n",
    "df_merge = df_merge.withColumn(\"coworkers_experience\", df_merge[\"coworkers_experience\"].cast(DoubleType()).alias(\"coworkers_experience\"))\n",
    "df_merge = df_merge.withColumn(\"prev_coworkers_experience\", df_merge[\"prev_coworkers_experience\"].cast(DoubleType()).alias(\"prev_coworkers_experience\"))\n",
    "\n",
    "df_merge = df_merge.withColumn(\"prev_employer\", df_merge[\"prev_employer\"].cast(DoubleType()).alias(\"prev_employer\"))\n",
    "df_merge = df_merge.withColumn(\"mh_treatment\", df_merge[\"mh_treatment\"].cast(DoubleType()).alias(\"mh_treatment\"))\n"
   ]
  },
  {
   "cell_type": "code",
   "execution_count": 83,
   "id": "c8ce6e26",
   "metadata": {},
   "outputs": [
    {
     "data": {
      "text/plain": [
       "[Row(age=47, country_live=2, country_work=2, num_employees=6, benefits=4, care_options=2, wellness_program=3, seek_help_resources=3, anonymity=3, leave_difficulty=6, phys_vs_mental=3, supervisor_willingness=3, supervisor_experience=2, coworkers_willingness=3, coworkers_experience=2, phys_health_importance=11, mental_health_importance=11, prev_employer=1, prev_benefits=4, prev_care_options=5, prev_wellness_program=4, prev_seek_help_resources=3, prev_anonymity=4, prev_phys_vs_mental=3, prev_supervisor_willingness=4, prev_supervisor_experience=2, prev_coworkers_willingness=4, prev_coworkers_experience=2, prev_phys_health_importance=11, prev_mental_health_importance=11, mh_treatment=2, mh_family_history=3, gender_new=3, race_new=3, remote_work=2, age_bucket=3)]"
      ]
     },
     "execution_count": 83,
     "metadata": {},
     "output_type": "execute_result"
    }
   ],
   "source": [
    "df_merge.agg(*(countDistinct(col(c)).alias(c) for c in df_merge.columns)).collect()"
   ]
  },
  {
   "cell_type": "code",
   "execution_count": 84,
   "id": "ef405481",
   "metadata": {},
   "outputs": [],
   "source": [
    "# Now that we've selected the relevant columns, let's drop the missing data.\n",
    "df_merge = df_merge.na.drop()"
   ]
  },
  {
   "cell_type": "code",
   "execution_count": 85,
   "id": "bc832e1b",
   "metadata": {},
   "outputs": [],
   "source": [
    "string_list = [item[0] for item in df_merge.dtypes if item[1].startswith('string')]\n",
    "num_list = ['age',\n",
    " 'phys_health_importance',\n",
    " 'mental_health_importance',\n",
    " 'prev_phys_health_importance',\n",
    " 'prev_mental_health_importance',\n",
    " 'remote_work',\n",
    "           \"prev_employer\",\n",
    "            'coworkers_experience',\n",
    "            'supervisor_experience',\n",
    "            'prev_supervisor_experience',\n",
    "            'prev_coworkers_experience'\n",
    "           ]"
   ]
  },
  {
   "cell_type": "code",
   "execution_count": 63,
   "id": "92ed4247",
   "metadata": {},
   "outputs": [],
   "source": [
    "#string_list"
   ]
  },
  {
   "cell_type": "code",
   "execution_count": 64,
   "id": "02450091",
   "metadata": {},
   "outputs": [
    {
     "name": "stdout",
     "output_type": "stream",
     "text": [
      "+--------------------------+-----+\n",
      "|prev_supervisor_experience|count|\n",
      "+--------------------------+-----+\n",
      "|                       0.0|  619|\n",
      "|                       1.0|  172|\n",
      "+--------------------------+-----+\n",
      "\n"
     ]
    }
   ],
   "source": [
    "df_merge.groupBy('prev_supervisor_experience').count().show()"
   ]
  },
  {
   "cell_type": "code",
   "execution_count": 86,
   "id": "82e6d052",
   "metadata": {},
   "outputs": [],
   "source": [
    "from pyspark.ml.feature import (VectorAssembler,VectorIndexer,\n",
    "                                OneHotEncoder,StringIndexer)\n",
    "\n",
    "from pyspark.sql.functions import *\n",
    "from pyspark.ml.classification import  RandomForestClassifier\n",
    "from pyspark.ml.feature import StringIndexer, OneHotEncoder, VectorAssembler, VectorSlicer\n",
    "from pyspark.ml import Pipeline\n",
    "from pyspark.ml.evaluation import BinaryClassificationEvaluator\n",
    "from pyspark.ml.linalg import Vectors\n",
    "from pyspark.ml.tuning import ParamGridBuilder, TrainValidationSplit\n",
    "\n",
    "string_indexes = [StringIndexer(inputCol = c, outputCol = 'IDX_' + c, handleInvalid = 'keep') for c in string_list]\n",
    "onehot_indexes = [OneHotEncoder(inputCols = ['IDX_' + c], outputCols = ['OHE_' + c]) for c in string_list]\n",
    "#label_indexes = StringIndexer(inputCol = 'mh_treatment', outputCol = 'label', handleInvalid = 'keep')\n",
    "assembler = VectorAssembler(inputCols = num_list + ['OHE_' + c for c in string_list], outputCol = \"features\")\n",
    "rf = RandomForestClassifier(labelCol=\"mh_treatment\", featuresCol=\"features\", seed = 8464,\n",
    "                            numTrees=10, cacheNodeIds = True, subsamplingRate = 0.7)\n",
    "\n",
    "pipe = Pipeline(stages = string_indexes + onehot_indexes + [assembler,  rf])"
   ]
  },
  {
   "cell_type": "code",
   "execution_count": 87,
   "id": "279a03b6",
   "metadata": {},
   "outputs": [],
   "source": [
    "mod = pipe.fit(df_merge)\n",
    "df2 = mod.transform(df_merge)"
   ]
  },
  {
   "cell_type": "code",
   "execution_count": 88,
   "id": "b0edf148",
   "metadata": {},
   "outputs": [],
   "source": [
    "def ExtractFeatureImp(featureImp, dataset, featuresCol):\n",
    "    list_extract = []\n",
    "    for i in dataset.schema[featuresCol].metadata[\"ml_attr\"][\"attrs\"]:\n",
    "        list_extract = list_extract + dataset.schema[featuresCol].metadata[\"ml_attr\"][\"attrs\"][i]\n",
    "    varlist = pd.DataFrame(list_extract)\n",
    "    varlist['score'] = varlist['idx'].apply(lambda x: featureImp[x])\n",
    "    return(varlist.sort_values('score', ascending = False))"
   ]
  },
  {
   "cell_type": "code",
   "execution_count": 89,
   "id": "5cdd6e02",
   "metadata": {},
   "outputs": [],
   "source": [
    "ExtractFeatureImp(mod.stages[-1].featureImportances, df2, \"features\").to_csv('RF_ranking.csv')"
   ]
  },
  {
   "cell_type": "code",
   "execution_count": 70,
   "id": "8becc34f",
   "metadata": {},
   "outputs": [
    {
     "name": "stderr",
     "output_type": "stream",
     "text": [
      "22/10/04 21:45:03 WARN InstanceBuilder$NativeBLAS: Failed to load implementation from:dev.ludovic.netlib.blas.JNIBLAS\n",
      "22/10/04 21:45:03 WARN InstanceBuilder$NativeBLAS: Failed to load implementation from:dev.ludovic.netlib.blas.ForeignLinkerBLAS\n",
      "22/10/04 21:45:03 WARN PearsonCorrelation: Pearson correlation matrix contains NaN values.\n",
      "/home/ubuntu/spark-3.2.1-bin-hadoop2.7/python/pyspark/sql/context.py:125: FutureWarning: Deprecated in 3.0.0. Use SparkSession.builder.getOrCreate() instead.\n",
      "  warnings.warn(\n"
     ]
    }
   ],
   "source": [
    "#check correlation of numeric columns:\n",
    "from pyspark.ml.stat import Correlation\n",
    "from pyspark.ml.feature import VectorAssembler\n",
    "df_vector =df2.select(*num_list)\n",
    "vector_col = \"corr_features\"\n",
    "assembler = VectorAssembler(inputCols=df_vector.columns, outputCol=vector_col)\n",
    "df_vector1 = assembler.transform(df_vector).select(vector_col)\n",
    "\n",
    "matrix = Correlation.corr(df_vector1, vector_col)\n",
    "cor_np = matrix.collect()[0][matrix.columns[0]].toArray()"
   ]
  },
  {
   "cell_type": "code",
   "execution_count": 71,
   "id": "5959e751",
   "metadata": {
    "scrolled": true
   },
   "outputs": [
    {
     "data": {
      "text/html": [
       "<div>\n",
       "<style scoped>\n",
       "    .dataframe tbody tr th:only-of-type {\n",
       "        vertical-align: middle;\n",
       "    }\n",
       "\n",
       "    .dataframe tbody tr th {\n",
       "        vertical-align: top;\n",
       "    }\n",
       "\n",
       "    .dataframe thead th {\n",
       "        text-align: right;\n",
       "    }\n",
       "</style>\n",
       "<table border=\"1\" class=\"dataframe\">\n",
       "  <thead>\n",
       "    <tr style=\"text-align: right;\">\n",
       "      <th></th>\n",
       "      <th>age</th>\n",
       "      <th>phys_health_importance</th>\n",
       "      <th>mental_health_importance</th>\n",
       "      <th>prev_phys_health_importance</th>\n",
       "      <th>prev_mental_health_importance</th>\n",
       "      <th>remote_work</th>\n",
       "      <th>prev_employer</th>\n",
       "      <th>coworkers_experience</th>\n",
       "      <th>supervisor_experience</th>\n",
       "      <th>prev_supervisor_experience</th>\n",
       "    </tr>\n",
       "  </thead>\n",
       "  <tbody>\n",
       "    <tr>\n",
       "      <th>age</th>\n",
       "      <td>1.000000</td>\n",
       "      <td>0.003708</td>\n",
       "      <td>0.000912</td>\n",
       "      <td>0.028223</td>\n",
       "      <td>0.045552</td>\n",
       "      <td>-0.025133</td>\n",
       "      <td>NaN</td>\n",
       "      <td>-0.010102</td>\n",
       "      <td>0.020906</td>\n",
       "      <td>-0.048634</td>\n",
       "    </tr>\n",
       "    <tr>\n",
       "      <th>phys_health_importance</th>\n",
       "      <td>0.003708</td>\n",
       "      <td>1.000000</td>\n",
       "      <td>0.558541</td>\n",
       "      <td>0.352701</td>\n",
       "      <td>0.181535</td>\n",
       "      <td>0.015429</td>\n",
       "      <td>NaN</td>\n",
       "      <td>0.088131</td>\n",
       "      <td>0.085378</td>\n",
       "      <td>0.094624</td>\n",
       "    </tr>\n",
       "    <tr>\n",
       "      <th>mental_health_importance</th>\n",
       "      <td>0.000912</td>\n",
       "      <td>0.558541</td>\n",
       "      <td>1.000000</td>\n",
       "      <td>0.229259</td>\n",
       "      <td>0.406913</td>\n",
       "      <td>0.019511</td>\n",
       "      <td>NaN</td>\n",
       "      <td>0.123523</td>\n",
       "      <td>0.133312</td>\n",
       "      <td>0.079773</td>\n",
       "    </tr>\n",
       "    <tr>\n",
       "      <th>prev_phys_health_importance</th>\n",
       "      <td>0.028223</td>\n",
       "      <td>0.352701</td>\n",
       "      <td>0.229259</td>\n",
       "      <td>1.000000</td>\n",
       "      <td>0.603708</td>\n",
       "      <td>0.022443</td>\n",
       "      <td>NaN</td>\n",
       "      <td>0.030822</td>\n",
       "      <td>0.004801</td>\n",
       "      <td>0.167626</td>\n",
       "    </tr>\n",
       "    <tr>\n",
       "      <th>prev_mental_health_importance</th>\n",
       "      <td>0.045552</td>\n",
       "      <td>0.181535</td>\n",
       "      <td>0.406913</td>\n",
       "      <td>0.603708</td>\n",
       "      <td>1.000000</td>\n",
       "      <td>-0.000502</td>\n",
       "      <td>NaN</td>\n",
       "      <td>0.006986</td>\n",
       "      <td>-0.039068</td>\n",
       "      <td>0.221401</td>\n",
       "    </tr>\n",
       "    <tr>\n",
       "      <th>remote_work</th>\n",
       "      <td>-0.025133</td>\n",
       "      <td>0.015429</td>\n",
       "      <td>0.019511</td>\n",
       "      <td>0.022443</td>\n",
       "      <td>-0.000502</td>\n",
       "      <td>1.000000</td>\n",
       "      <td>NaN</td>\n",
       "      <td>0.005442</td>\n",
       "      <td>-0.035129</td>\n",
       "      <td>-0.026540</td>\n",
       "    </tr>\n",
       "    <tr>\n",
       "      <th>prev_employer</th>\n",
       "      <td>NaN</td>\n",
       "      <td>NaN</td>\n",
       "      <td>NaN</td>\n",
       "      <td>NaN</td>\n",
       "      <td>NaN</td>\n",
       "      <td>NaN</td>\n",
       "      <td>1.0</td>\n",
       "      <td>NaN</td>\n",
       "      <td>NaN</td>\n",
       "      <td>NaN</td>\n",
       "    </tr>\n",
       "    <tr>\n",
       "      <th>coworkers_experience</th>\n",
       "      <td>-0.010102</td>\n",
       "      <td>0.088131</td>\n",
       "      <td>0.123523</td>\n",
       "      <td>0.030822</td>\n",
       "      <td>0.006986</td>\n",
       "      <td>0.005442</td>\n",
       "      <td>NaN</td>\n",
       "      <td>1.000000</td>\n",
       "      <td>0.457479</td>\n",
       "      <td>0.211103</td>\n",
       "    </tr>\n",
       "    <tr>\n",
       "      <th>supervisor_experience</th>\n",
       "      <td>0.020906</td>\n",
       "      <td>0.085378</td>\n",
       "      <td>0.133312</td>\n",
       "      <td>0.004801</td>\n",
       "      <td>-0.039068</td>\n",
       "      <td>-0.035129</td>\n",
       "      <td>NaN</td>\n",
       "      <td>0.457479</td>\n",
       "      <td>1.000000</td>\n",
       "      <td>0.206903</td>\n",
       "    </tr>\n",
       "    <tr>\n",
       "      <th>prev_supervisor_experience</th>\n",
       "      <td>-0.048634</td>\n",
       "      <td>0.094624</td>\n",
       "      <td>0.079773</td>\n",
       "      <td>0.167626</td>\n",
       "      <td>0.221401</td>\n",
       "      <td>-0.026540</td>\n",
       "      <td>NaN</td>\n",
       "      <td>0.211103</td>\n",
       "      <td>0.206903</td>\n",
       "      <td>1.000000</td>\n",
       "    </tr>\n",
       "  </tbody>\n",
       "</table>\n",
       "</div>"
      ],
      "text/plain": [
       "                                    age  phys_health_importance  \\\n",
       "age                            1.000000                0.003708   \n",
       "phys_health_importance         0.003708                1.000000   \n",
       "mental_health_importance       0.000912                0.558541   \n",
       "prev_phys_health_importance    0.028223                0.352701   \n",
       "prev_mental_health_importance  0.045552                0.181535   \n",
       "remote_work                   -0.025133                0.015429   \n",
       "prev_employer                       NaN                     NaN   \n",
       "coworkers_experience          -0.010102                0.088131   \n",
       "supervisor_experience          0.020906                0.085378   \n",
       "prev_supervisor_experience    -0.048634                0.094624   \n",
       "\n",
       "                               mental_health_importance  \\\n",
       "age                                            0.000912   \n",
       "phys_health_importance                         0.558541   \n",
       "mental_health_importance                       1.000000   \n",
       "prev_phys_health_importance                    0.229259   \n",
       "prev_mental_health_importance                  0.406913   \n",
       "remote_work                                    0.019511   \n",
       "prev_employer                                       NaN   \n",
       "coworkers_experience                           0.123523   \n",
       "supervisor_experience                          0.133312   \n",
       "prev_supervisor_experience                     0.079773   \n",
       "\n",
       "                               prev_phys_health_importance  \\\n",
       "age                                               0.028223   \n",
       "phys_health_importance                            0.352701   \n",
       "mental_health_importance                          0.229259   \n",
       "prev_phys_health_importance                       1.000000   \n",
       "prev_mental_health_importance                     0.603708   \n",
       "remote_work                                       0.022443   \n",
       "prev_employer                                          NaN   \n",
       "coworkers_experience                              0.030822   \n",
       "supervisor_experience                             0.004801   \n",
       "prev_supervisor_experience                        0.167626   \n",
       "\n",
       "                               prev_mental_health_importance  remote_work  \\\n",
       "age                                                 0.045552    -0.025133   \n",
       "phys_health_importance                              0.181535     0.015429   \n",
       "mental_health_importance                            0.406913     0.019511   \n",
       "prev_phys_health_importance                         0.603708     0.022443   \n",
       "prev_mental_health_importance                       1.000000    -0.000502   \n",
       "remote_work                                        -0.000502     1.000000   \n",
       "prev_employer                                            NaN          NaN   \n",
       "coworkers_experience                                0.006986     0.005442   \n",
       "supervisor_experience                              -0.039068    -0.035129   \n",
       "prev_supervisor_experience                          0.221401    -0.026540   \n",
       "\n",
       "                               prev_employer  coworkers_experience  \\\n",
       "age                                      NaN             -0.010102   \n",
       "phys_health_importance                   NaN              0.088131   \n",
       "mental_health_importance                 NaN              0.123523   \n",
       "prev_phys_health_importance              NaN              0.030822   \n",
       "prev_mental_health_importance            NaN              0.006986   \n",
       "remote_work                              NaN              0.005442   \n",
       "prev_employer                            1.0                   NaN   \n",
       "coworkers_experience                     NaN              1.000000   \n",
       "supervisor_experience                    NaN              0.457479   \n",
       "prev_supervisor_experience               NaN              0.211103   \n",
       "\n",
       "                               supervisor_experience  \\\n",
       "age                                         0.020906   \n",
       "phys_health_importance                      0.085378   \n",
       "mental_health_importance                    0.133312   \n",
       "prev_phys_health_importance                 0.004801   \n",
       "prev_mental_health_importance              -0.039068   \n",
       "remote_work                                -0.035129   \n",
       "prev_employer                                    NaN   \n",
       "coworkers_experience                        0.457479   \n",
       "supervisor_experience                       1.000000   \n",
       "prev_supervisor_experience                  0.206903   \n",
       "\n",
       "                               prev_supervisor_experience  \n",
       "age                                             -0.048634  \n",
       "phys_health_importance                           0.094624  \n",
       "mental_health_importance                         0.079773  \n",
       "prev_phys_health_importance                      0.167626  \n",
       "prev_mental_health_importance                    0.221401  \n",
       "remote_work                                     -0.026540  \n",
       "prev_employer                                         NaN  \n",
       "coworkers_experience                             0.211103  \n",
       "supervisor_experience                            0.206903  \n",
       "prev_supervisor_experience                       1.000000  "
      ]
     },
     "execution_count": 71,
     "metadata": {},
     "output_type": "execute_result"
    }
   ],
   "source": [
    "corr_matrix_df = pd.DataFrame(data=cor_np, columns = num_list, index=num_list) \n",
    "corr_matrix_df"
   ]
  },
  {
   "cell_type": "code",
   "execution_count": 90,
   "id": "2b7e992d",
   "metadata": {},
   "outputs": [],
   "source": [
    "df_imp_ranking = ExtractFeatureImp(mod.stages[-1].featureImportances, df2, \"features\")\n",
    "col_imp_0 = df_imp_ranking[df_imp_ranking['score']==0]['name'].tolist()"
   ]
  },
  {
   "cell_type": "code",
   "execution_count": 91,
   "id": "90cbb6c3",
   "metadata": {},
   "outputs": [],
   "source": [
    "col_to_drop = col_imp_0 + ['prev_phys_health_importance', 'phys_health_importance']\n",
    "df2 = df2.drop(*col_to_drop)"
   ]
  },
  {
   "cell_type": "code",
   "execution_count": 76,
   "id": "6dc05663",
   "metadata": {},
   "outputs": [
    {
     "data": {
      "image/png": "[encoded data removed]",
      "text/plain": [
       "<Figure size 432x288 with 1 Axes>"
      ]
     },
     "metadata": {
      "needs_background": "light"
     },
     "output_type": "display_data"
    }
   ],
   "source": [
    "age = np.array(df2.select('age').collect())\n",
    "plt.hist(age, bins =50)\n",
    "plt.show()"
   ]
  },
  {
   "cell_type": "code",
   "execution_count": 77,
   "id": "88362a39",
   "metadata": {},
   "outputs": [
    {
     "data": {
      "image/png": "[encoded data removed]",
      "text/plain": [
       "<Figure size 432x288 with 1 Axes>"
      ]
     },
     "metadata": {
      "needs_background": "light"
     },
     "output_type": "display_data"
    }
   ],
   "source": [
    "df2 = df2.withColumn(\"log_age\", log10(col(\"age\")))\n",
    "age = np.array(df2.select('log_age').collect())\n",
    "plt.hist(age, bins =50)\n",
    "plt.show()                     \n",
    "                     "
   ]
  },
  {
   "cell_type": "code",
   "execution_count": 78,
   "id": "c0207ad3",
   "metadata": {},
   "outputs": [],
   "source": [
    "#df2.columns"
   ]
  },
  {
   "cell_type": "code",
   "execution_count": 92,
   "id": "5a0b65ba",
   "metadata": {},
   "outputs": [],
   "source": [
    "# Combine all features into one vector named features.\n",
    "assembler = VectorAssembler(\n",
    "  inputCols=[\n",
    "'OHE_country_live',\n",
    " 'OHE_country_work',\n",
    " 'OHE_num_employees',\n",
    " 'OHE_benefits',\n",
    " 'OHE_care_options',\n",
    " 'OHE_wellness_program',\n",
    " 'OHE_seek_help_resources',\n",
    " 'OHE_anonymity',\n",
    " 'OHE_leave_difficulty',\n",
    " 'OHE_phys_vs_mental',\n",
    " 'OHE_supervisor_willingness',\n",
    " 'OHE_coworkers_willingness',\n",
    " 'OHE_prev_benefits',\n",
    " 'OHE_prev_care_options',\n",
    " 'OHE_prev_wellness_program',\n",
    " 'OHE_prev_seek_help_resources',\n",
    " 'OHE_prev_anonymity',\n",
    " 'OHE_prev_phys_vs_mental',\n",
    " 'OHE_prev_supervisor_willingness',\n",
    " 'prev_supervisor_experience',\n",
    " 'OHE_prev_coworkers_willingness',\n",
    " 'prev_coworkers_experience',\n",
    " 'OHE_mh_family_history',\n",
    " 'OHE_gender_new',\n",
    " 'OHE_race_new',\n",
    " 'OHE_age_bucket',\n",
    " 'age',\n",
    " 'mental_health_importance',\n",
    " \n",
    " 'prev_mental_health_importance',\n",
    "\n",
    "            'coworkers_experience',\n",
    "            'supervisor_experience'\n",
    "  ],\n",
    "outputCol=\"features_2\")\n",
    "\n",
    "# Let's transform the data. \n",
    "output = assembler.transform(df2)"
   ]
  },
  {
   "cell_type": "code",
   "execution_count": 93,
   "id": "fbe669ba",
   "metadata": {},
   "outputs": [],
   "source": [
    "# Train/test split. \n",
    "final_data = output.select(\"features_2\",'mh_treatment')\n",
    "train_data,test_data = final_data.randomSplit([0.8,0.2],18)"
   ]
  },
  {
   "cell_type": "code",
   "execution_count": 94,
   "id": "65510c97",
   "metadata": {},
   "outputs": [],
   "source": [
    "# Let's import the relevant classifiers. \n",
    "from pyspark.ml.classification import DecisionTreeClassifier,GBTClassifier,RandomForestClassifier\n",
    "from pyspark.ml import Pipeline\n",
    "\n",
    "dtc = DecisionTreeClassifier(labelCol='mh_treatment',featuresCol='features_2')\n",
    "rfc = RandomForestClassifier(labelCol='mh_treatment',featuresCol='features_2')\n"
   ]
  },
  {
   "cell_type": "code",
   "execution_count": 95,
   "id": "89941516",
   "metadata": {},
   "outputs": [],
   "source": [
    "\n",
    "dtc_model = dtc.fit(train_data)\n",
    "rfc_model = rfc.fit(train_data)\n",
    "\n",
    "\n",
    "dtc_predictions = dtc_model.transform(test_data)\n",
    "rfc_predictions = rfc_model.transform(test_data)\n",
    "\n"
   ]
  },
  {
   "cell_type": "code",
   "execution_count": 96,
   "id": "1d7928d6",
   "metadata": {},
   "outputs": [],
   "source": [
    "from pyspark.ml.evaluation import MulticlassClassificationEvaluator \n",
    "\n",
    "my_binary_eval = BinaryClassificationEvaluator(labelCol = 'mh_treatment')"
   ]
  },
  {
   "cell_type": "code",
   "execution_count": 97,
   "id": "05fa9f48",
   "metadata": {},
   "outputs": [
    {
     "name": "stdout",
     "output_type": "stream",
     "text": [
      "DTC\n",
      "0.6640155818860575\n",
      "RFC\n",
      "0.7239084564194126\n",
      "GBT\n",
      "0.6827625385489369\n"
     ]
    }
   ],
   "source": [
    "# This is the area under the curve. This indicates that the data is highly seperable.\n",
    "print(\"DTC\")\n",
    "print(my_binary_eval.evaluate(dtc_predictions))\n",
    "\n",
    "# RFC improves accuracy but also model complexity. RFC outperforms DTC in nearly every situation.\n",
    "print(\"RFC\")\n",
    "print(my_binary_eval.evaluate(rfc_predictions))\n",
    "\n",
    "# We can't repeat these exact steps for GBT. If you print the schema of all three, you may be able to notice why.\n",
    "# Instead, let's redefine the object:\n",
    "\n",
    "# Interesting, GBT didn't perform as well as RFC or DTC. But that's because we left the model's settings as default. \n",
    "# In most cases, we should adjust these parameters. More trees may increase accuracy, but decrease precision and recall. \n"
   ]
  },
  {
   "cell_type": "code",
   "execution_count": null,
   "id": "a743f267",
   "metadata": {},
   "outputs": [],
   "source": [
    "# This is the area under the curve. This indicates that the data is highly seperable.\n",
    "print(\"DTC\")\n",
    "print(my_binary_eval.evaluate(dtc_predictions))"
   ]
  },
  {
   "cell_type": "code",
   "execution_count": 98,
   "id": "ed1833eb",
   "metadata": {},
   "outputs": [
    {
     "name": "stdout",
     "output_type": "stream",
     "text": [
      "RFC\n",
      "0.8653627657847753\n"
     ]
    }
   ],
   "source": [
    "#feature selection:\n",
    "cols_select = ['OHE_mh_family_history', 'prev_supervisor_experience','coworkers_experience',\n",
    "              'OHE_care_options', 'supervisor_experience','OHE_gender_new', 'age' ]\n",
    "\n",
    "# Combine all features into one vector named features.\n",
    "assembler = VectorAssembler(\n",
    "  inputCols=cols_select,\n",
    "outputCol=\"features_3\")\n",
    "\n",
    "# Let's transform the data. \n",
    "output = assembler.transform(df2)\n",
    "\n",
    "# Train/test split. \n",
    "final_data = output.select(\"features_3\",'mh_treatment')\n",
    "train_data,test_data = final_data.randomSplit([0.8,0.2],18)\n",
    "\n",
    "rfc = RandomForestClassifier(labelCol='mh_treatment',featuresCol='features_3')\n",
    "\n",
    "\n",
    "\n",
    "rfc_model = rfc.fit(train_data)\n",
    "\n",
    "\n",
    "rfc_predictions = rfc_model.transform(test_data)\n",
    "\n",
    "print(\"RFC\")\n",
    "print(my_binary_eval.evaluate(rfc_predictions))"
   ]
  },
  {
   "cell_type": "code",
   "execution_count": 100,
   "id": "40061c10",
   "metadata": {},
   "outputs": [
    {
     "name": "stdout",
     "output_type": "stream",
     "text": [
      "RFC\n",
      "0.8397052966945439\n"
     ]
    }
   ],
   "source": [
    "#feature selection:\n",
    "cols_select = ['OHE_mh_family_history', 'prev_supervisor_experience','coworkers_experience',\n",
    "              'OHE_care_options', 'supervisor_experience','OHE_gender_new', 'age' ]\n",
    "\n",
    "# Combine all features into one vector named features.\n",
    "assembler = VectorAssembler(\n",
    "  inputCols=cols_select,\n",
    "outputCol=\"features_3\")\n",
    "\n",
    "# Let's transform the data. \n",
    "output = assembler.transform(df2)\n",
    "\n",
    "# Train/test split. \n",
    "final_data = output.select(\"features_3\",'mh_treatment')\n",
    "train_data,test_data = final_data.randomSplit([0.75,0.25],18)\n",
    "\n",
    "rfc =RandomForestClassifier(labelCol='mh_treatment',featuresCol='features_3', maxDepth= 6)\n",
    "\n",
    "\n",
    "\n",
    "rfc_model = rfc.fit(train_data)\n",
    "\n",
    "\n",
    "rfc_predictions = rfc_model.transform(test_data)\n",
    "\n",
    "print(\"RFC\")\n",
    "print(my_binary_eval.evaluate(rfc_predictions))"
   ]
  },
  {
   "cell_type": "code",
   "execution_count": 101,
   "id": "d2eff205",
   "metadata": {},
   "outputs": [
    {
     "name": "stdout",
     "output_type": "stream",
     "text": [
      "RFC\n",
      "0.7656725990059324\n"
     ]
    }
   ],
   "source": [
    "#feature selection:\n",
    "cols_select = ['OHE_mh_family_history', 'supervisor_experience','coworkers_experience',\n",
    "              'OHE_care_options', 'supervisor_experience','OHE_gender_new', 'age' ]\n",
    "\n",
    "# Combine all features into one vector named features.\n",
    "assembler = VectorAssembler(\n",
    "  inputCols=cols_select,\n",
    "outputCol=\"features_3\")\n",
    "\n",
    "# Let's transform the data. \n",
    "output = assembler.transform(df2)\n",
    "\n",
    "# Train/test split. \n",
    "final_data = output.select(\"features_3\",'mh_treatment')\n",
    "train_data,test_data = final_data.randomSplit([0.8,0.2],18)\n",
    "\n",
    "rfc =RandomForestClassifier(labelCol='mh_treatment',featuresCol='features_3', maxDepth= 6)\n",
    "\n",
    "\n",
    "\n",
    "rfc_model = rfc.fit(train_data)\n",
    "\n",
    "\n",
    "rfc_predictions = rfc_model.transform(test_data)\n",
    "\n",
    "print(\"RFC\")\n",
    "print(my_binary_eval.evaluate(rfc_predictions))"
   ]
  },
  {
   "cell_type": "code",
   "execution_count": 102,
   "id": "51154d4c",
   "metadata": {},
   "outputs": [
    {
     "name": "stdout",
     "output_type": "stream",
     "text": [
      "RFC\n",
      "0.8653627657847753\n"
     ]
    }
   ],
   "source": [
    "#feature selection:\n",
    "cols_select = ['OHE_mh_family_history', 'prev_supervisor_experience','coworkers_experience',\n",
    "              'OHE_care_options', 'supervisor_experience','OHE_gender_new', 'age' ]\n",
    "\n",
    "# Combine all features into one vector named features.\n",
    "assembler = VectorAssembler(\n",
    "  inputCols=cols_select,\n",
    "outputCol=\"features_3\")\n",
    "\n",
    "# Let's transform the data. \n",
    "output = assembler.transform(df2)\n",
    "\n",
    "# Train/test split. \n",
    "final_data = output.select(\"features_3\",'mh_treatment')\n",
    "train_data,test_data = final_data.randomSplit([0.8,0.2],18)\n",
    "\n",
    "rfc = RandomForestClassifier(labelCol='mh_treatment',featuresCol='features_3')\n",
    "\n",
    "\n",
    "\n",
    "rfc_model = rfc.fit(train_data)\n",
    "\n",
    "\n",
    "rfc_predictions = rfc_model.transform(test_data)\n",
    "\n",
    "print(\"RFC\")\n",
    "print(my_binary_eval.evaluate(rfc_predictions))"
   ]
  },
  {
   "cell_type": "code",
   "execution_count": 103,
   "id": "92920779",
   "metadata": {
    "scrolled": true
   },
   "outputs": [
    {
     "name": "stdout",
     "output_type": "stream",
     "text": [
      "RandomForestClassificationModel: uid=RandomForestClassifier_fc03fa143d3a, numTrees=20, numClasses=2, numFeatures=12\n",
      "  Tree 0 (weight 1.0):\n",
      "    If (supervisor_experience <= 0.5)\n",
      "     If (OHE_gender_new_male in {0.0})\n",
      "      If (age <= 49.5)\n",
      "       If (age <= 34.5)\n",
      "        Predict: 1.0\n",
      "       Else (age > 34.5)\n",
      "        If (OHE_mh_family_history_Yes in {0.0})\n",
      "         Predict: 0.0\n",
      "        Else (OHE_mh_family_history_Yes not in {0.0})\n",
      "         Predict: 1.0\n",
      "      Else (age > 49.5)\n",
      "       If (OHE_care_options_No in {1.0})\n",
      "        Predict: 0.0\n",
      "       Else (OHE_care_options_No not in {1.0})\n",
      "        Predict: 1.0\n",
      "     Else (OHE_gender_new_male not in {0.0})\n",
      "      If (OHE_care_options_No in {0.0})\n",
      "       If (prev_supervisor_experience <= 0.5)\n",
      "        If (OHE_mh_family_history_Yes in {0.0})\n",
      "         Predict: 0.0\n",
      "        Else (OHE_mh_family_history_Yes not in {0.0})\n",
      "         Predict: 1.0\n",
      "       Else (prev_supervisor_experience > 0.5)\n",
      "        Predict: 1.0\n",
      "      Else (OHE_care_options_No not in {0.0})\n",
      "       If (prev_supervisor_experience <= 0.5)\n",
      "        Predict: 0.0\n",
      "       Else (prev_supervisor_experience > 0.5)\n",
      "        Predict: 1.0\n",
      "    Else (supervisor_experience > 0.5)\n",
      "     If (OHE_mh_family_history_Yes in {0.0})\n",
      "      Predict: 1.0\n",
      "     Else (OHE_mh_family_history_Yes not in {0.0})\n",
      "      If (age <= 32.5)\n",
      "       Predict: 1.0\n",
      "      Else (age > 32.5)\n",
      "       If (age <= 42.5)\n",
      "        If (coworkers_experience <= 0.5)\n",
      "         Predict: 0.0\n",
      "        Else (coworkers_experience > 0.5)\n",
      "         Predict: 1.0\n",
      "       Else (age > 42.5)\n",
      "        Predict: 1.0\n",
      "  Tree 1 (weight 1.0):\n",
      "    If (coworkers_experience <= 0.5)\n",
      "     If (prev_supervisor_experience <= 0.5)\n",
      "      If (OHE_mh_family_history_No in {1.0})\n",
      "       If (OHE_gender_new_male in {0.0})\n",
      "        If (age <= 33.5)\n",
      "         Predict: 0.0\n",
      "        Else (age > 33.5)\n",
      "         Predict: 1.0\n",
      "       Else (OHE_gender_new_male not in {0.0})\n",
      "        If (supervisor_experience <= 0.5)\n",
      "         Predict: 0.0\n",
      "        Else (supervisor_experience > 0.5)\n",
      "         Predict: 1.0\n",
      "      Else (OHE_mh_family_history_No not in {1.0})\n",
      "       If (age <= 24.5)\n",
      "        If (OHE_care_options_Yes in {0.0})\n",
      "         Predict: 0.0\n",
      "        Else (OHE_care_options_Yes not in {0.0})\n",
      "         Predict: 1.0\n",
      "       Else (age > 24.5)\n",
      "        If (supervisor_experience <= 0.5)\n",
      "         Predict: 1.0\n",
      "        Else (supervisor_experience > 0.5)\n",
      "         Predict: 0.0\n",
      "     Else (prev_supervisor_experience > 0.5)\n",
      "      If (OHE_gender_new_non-binary in {1.0})\n",
      "       Predict: 0.0\n",
      "      Else (OHE_gender_new_non-binary not in {1.0})\n",
      "       If (age <= 48.5)\n",
      "        Predict: 1.0\n",
      "       Else (age > 48.5)\n",
      "        Predict: 0.0\n",
      "    Else (coworkers_experience > 0.5)\n",
      "     If (age <= 36.5)\n",
      "      Predict: 1.0\n",
      "     Else (age > 36.5)\n",
      "      If (OHE_mh_family_history_Yes in {0.0})\n",
      "       If (OHE_gender_new_female in {1.0})\n",
      "        Predict: 0.0\n",
      "       Else (OHE_gender_new_female not in {1.0})\n",
      "        Predict: 1.0\n",
      "      Else (OHE_mh_family_history_Yes not in {0.0})\n",
      "       If (age <= 41.5)\n",
      "        If (OHE_care_options_No in {1.0})\n",
      "         Predict: 0.0\n",
      "        Else (OHE_care_options_No not in {1.0})\n",
      "         Predict: 1.0\n",
      "       Else (age > 41.5)\n",
      "        Predict: 1.0\n",
      "  Tree 2 (weight 1.0):\n",
      "    If (OHE_mh_family_history_No in {1.0})\n",
      "     If (coworkers_experience <= 0.5)\n",
      "      If (OHE_care_options_No in {1.0})\n",
      "       Predict: 0.0\n",
      "      Else (OHE_care_options_No not in {1.0})\n",
      "       If (OHE_gender_new_female in {1.0})\n",
      "        Predict: 0.0\n",
      "       Else (OHE_gender_new_female not in {1.0})\n",
      "        If (age <= 47.5)\n",
      "         Predict: 1.0\n",
      "        Else (age > 47.5)\n",
      "         Predict: 0.0\n",
      "     Else (coworkers_experience > 0.5)\n",
      "      If (supervisor_experience <= 0.5)\n",
      "       If (OHE_care_options_No in {0.0})\n",
      "        Predict: 0.0\n",
      "       Else (OHE_care_options_No not in {0.0})\n",
      "        If (age <= 29.5)\n",
      "         Predict: 0.0\n",
      "        Else (age > 29.5)\n",
      "         Predict: 1.0\n",
      "      Else (supervisor_experience > 0.5)\n",
      "       If (OHE_gender_new_male in {0.0})\n",
      "        Predict: 1.0\n",
      "       Else (OHE_gender_new_male not in {0.0})\n",
      "        If (OHE_care_options_Yes in {1.0})\n",
      "         Predict: 0.0\n",
      "        Else (OHE_care_options_Yes not in {1.0})\n",
      "         Predict: 1.0\n",
      "    Else (OHE_mh_family_history_No not in {1.0})\n",
      "     If (OHE_care_options_Yes in {0.0})\n",
      "      If (OHE_gender_new_female in {1.0})\n",
      "       If (prev_supervisor_experience <= 0.5)\n",
      "        If (OHE_mh_family_history_Yes in {0.0})\n",
      "         Predict: 0.0\n",
      "        Else (OHE_mh_family_history_Yes not in {0.0})\n",
      "         Predict: 1.0\n",
      "       Else (prev_supervisor_experience > 0.5)\n",
      "        Predict: 1.0\n",
      "      Else (OHE_gender_new_female not in {1.0})\n",
      "       If (coworkers_experience <= 0.5)\n",
      "        If (supervisor_experience <= 0.5)\n",
      "         Predict: 0.0\n",
      "        Else (supervisor_experience > 0.5)\n",
      "         Predict: 1.0\n",
      "       Else (coworkers_experience > 0.5)\n",
      "        Predict: 1.0\n",
      "     Else (OHE_care_options_Yes not in {0.0})\n",
      "      If (coworkers_experience <= 0.5)\n",
      "       If (OHE_gender_new_non-binary in {1.0})\n",
      "        If (age <= 28.5)\n",
      "         Predict: 0.0\n",
      "        Else (age > 28.5)\n",
      "         Predict: 1.0\n",
      "       Else (OHE_gender_new_non-binary not in {1.0})\n",
      "        Predict: 1.0\n",
      "      Else (coworkers_experience > 0.5)\n",
      "       Predict: 1.0\n",
      "  Tree 3 (weight 1.0):\n",
      "    If (OHE_mh_family_history_No in {1.0})\n",
      "     If (supervisor_experience <= 0.5)\n",
      "      If (prev_supervisor_experience <= 0.5)\n",
      "       If (OHE_gender_new_non-binary in {1.0})\n",
      "        Predict: 1.0\n",
      "       Else (OHE_gender_new_non-binary not in {1.0})\n",
      "        Predict: 0.0\n",
      "      Else (prev_supervisor_experience > 0.5)\n",
      "       If (OHE_gender_new_male in {0.0})\n",
      "        If (OHE_care_options_No in {0.0})\n",
      "         Predict: 0.0\n",
      "        Else (OHE_care_options_No not in {0.0})\n",
      "         Predict: 1.0\n",
      "       Else (OHE_gender_new_male not in {0.0})\n",
      "        If (OHE_care_options_No in {1.0})\n",
      "         Predict: 0.0\n",
      "        Else (OHE_care_options_No not in {1.0})\n",
      "         Predict: 1.0\n",
      "     Else (supervisor_experience > 0.5)\n",
      "      If (coworkers_experience <= 0.5)\n",
      "       If (age <= 43.5)\n",
      "        If (age <= 26.5)\n",
      "         Predict: 0.0\n",
      "        Else (age > 26.5)\n",
      "         Predict: 1.0\n",
      "       Else (age > 43.5)\n",
      "        Predict: 0.0\n",
      "      Else (coworkers_experience > 0.5)\n",
      "       If (prev_supervisor_experience <= 0.5)\n",
      "        Predict: 1.0\n",
      "       Else (prev_supervisor_experience > 0.5)\n",
      "        If (age <= 32.5)\n",
      "         Predict: 0.0\n",
      "        Else (age > 32.5)\n",
      "         Predict: 1.0\n",
      "    Else (OHE_mh_family_history_No not in {1.0})\n",
      "     If (OHE_care_options_No in {1.0})\n",
      "      If (coworkers_experience <= 0.5)\n",
      "       If (age <= 26.5)\n",
      "        If (prev_supervisor_experience <= 0.5)\n",
      "         Predict: 0.0\n",
      "        Else (prev_supervisor_experience > 0.5)\n",
      "         Predict: 1.0\n",
      "       Else (age > 26.5)\n",
      "        Predict: 1.0\n",
      "      Else (coworkers_experience > 0.5)\n",
      "       Predict: 1.0\n",
      "     Else (OHE_care_options_No not in {1.0})\n",
      "      If (OHE_mh_family_history_Yes in {0.0})\n",
      "       If (age <= 43.5)\n",
      "        Predict: 1.0\n",
      "       Else (age > 43.5)\n",
      "        If (supervisor_experience <= 0.5)\n",
      "         Predict: 0.0\n",
      "        Else (supervisor_experience > 0.5)\n",
      "         Predict: 1.0\n",
      "      Else (OHE_mh_family_history_Yes not in {0.0})\n",
      "       Predict: 1.0\n",
      "  Tree 4 (weight 1.0):\n",
      "    If (OHE_mh_family_history_Yes in {0.0})\n",
      "     If (supervisor_experience <= 0.5)\n",
      "      If (OHE_mh_family_history_I don't know in {0.0})\n",
      "       If (OHE_gender_new_male in {0.0})\n",
      "        If (OHE_gender_new_female in {0.0})\n",
      "         Predict: 1.0\n",
      "        Else (OHE_gender_new_female not in {0.0})\n",
      "         Predict: 0.0\n",
      "       Else (OHE_gender_new_male not in {0.0})\n",
      "        If (prev_supervisor_experience <= 0.5)\n",
      "         Predict: 0.0\n",
      "        Else (prev_supervisor_experience > 0.5)\n",
      "         Predict: 1.0\n",
      "      Else (OHE_mh_family_history_I don't know not in {0.0})\n",
      "       If (OHE_care_options_Yes in {1.0})\n",
      "        Predict: 1.0\n",
      "       Else (OHE_care_options_Yes not in {1.0})\n",
      "        If (coworkers_experience <= 0.5)\n",
      "         Predict: 0.0\n",
      "        Else (coworkers_experience > 0.5)\n",
      "         Predict: 1.0\n",
      "     Else (supervisor_experience > 0.5)\n",
      "      If (coworkers_experience <= 0.5)\n",
      "       If (OHE_care_options_No in {1.0})\n",
      "        If (OHE_mh_family_history_No in {0.0})\n",
      "         Predict: 0.0\n",
      "        Else (OHE_mh_family_history_No not in {0.0})\n",
      "         Predict: 1.0\n",
      "       Else (OHE_care_options_No not in {1.0})\n",
      "        If (OHE_mh_family_history_I don't know in {0.0})\n",
      "         Predict: 0.0\n",
      "        Else (OHE_mh_family_history_I don't know not in {0.0})\n",
      "         Predict: 1.0\n",
      "      Else (coworkers_experience > 0.5)\n",
      "       If (OHE_mh_family_history_No in {1.0})\n",
      "        If (age <= 40.5)\n",
      "         Predict: 1.0\n",
      "        Else (age > 40.5)\n",
      "         Predict: 0.0\n",
      "       Else (OHE_mh_family_history_No not in {1.0})\n",
      "        Predict: 1.0\n",
      "    Else (OHE_mh_family_history_Yes not in {0.0})\n",
      "     If (coworkers_experience <= 0.5)\n",
      "      If (OHE_gender_new_male in {0.0})\n",
      "       If (age <= 27.5)\n",
      "        If (supervisor_experience <= 0.5)\n",
      "         Predict: 0.0\n",
      "        Else (supervisor_experience > 0.5)\n",
      "         Predict: 1.0\n",
      "       Else (age > 27.5)\n",
      "        Predict: 1.0\n",
      "      Else (OHE_gender_new_male not in {0.0})\n",
      "       If (OHE_care_options_No in {1.0})\n",
      "        Predict: 0.0\n",
      "       Else (OHE_care_options_No not in {1.0})\n",
      "        Predict: 1.0\n",
      "     Else (coworkers_experience > 0.5)\n",
      "      If (supervisor_experience <= 0.5)\n",
      "       If (prev_supervisor_experience <= 0.5)\n",
      "        Predict: 1.0\n",
      "       Else (prev_supervisor_experience > 0.5)\n",
      "        If (age <= 25.5)\n",
      "         Predict: 0.0\n",
      "        Else (age > 25.5)\n",
      "         Predict: 1.0\n",
      "      Else (supervisor_experience > 0.5)\n",
      "       Predict: 1.0\n",
      "  Tree 5 (weight 1.0):\n",
      "    If (OHE_mh_family_history_Yes in {0.0})\n",
      "     If (coworkers_experience <= 0.5)\n",
      "      If (OHE_mh_family_history_No in {1.0})\n",
      "       If (supervisor_experience <= 0.5)\n",
      "        If (prev_supervisor_experience <= 0.5)\n",
      "         Predict: 0.0\n",
      "        Else (prev_supervisor_experience > 0.5)\n",
      "         Predict: 1.0\n",
      "       Else (supervisor_experience > 0.5)\n",
      "        If (OHE_care_options_No in {0.0})\n",
      "         Predict: 0.0\n",
      "        Else (OHE_care_options_No not in {0.0})\n",
      "         Predict: 1.0\n",
      "      Else (OHE_mh_family_history_No not in {1.0})\n",
      "       If (supervisor_experience <= 0.5)\n",
      "        If (age <= 31.5)\n",
      "         Predict: 1.0\n",
      "        Else (age > 31.5)\n",
      "         Predict: 0.0\n",
      "       Else (supervisor_experience > 0.5)\n",
      "        If (age <= 26.5)\n",
      "         Predict: 0.0\n",
      "        Else (age > 26.5)\n",
      "         Predict: 1.0\n",
      "     Else (coworkers_experience > 0.5)\n",
      "      If (OHE_care_options_No in {0.0})\n",
      "       If (age <= 43.5)\n",
      "        Predict: 1.0\n",
      "       Else (age > 43.5)\n",
      "        Predict: 0.0\n",
      "      Else (OHE_care_options_No not in {0.0})\n",
      "       If (OHE_gender_new_non-binary in {1.0})\n",
      "        Predict: 1.0\n",
      "       Else (OHE_gender_new_non-binary not in {1.0})\n",
      "        If (prev_supervisor_experience <= 0.5)\n",
      "         Predict: 0.0\n",
      "        Else (prev_supervisor_experience > 0.5)\n",
      "         Predict: 1.0\n",
      "    Else (OHE_mh_family_history_Yes not in {0.0})\n",
      "     If (OHE_care_options_No in {1.0})\n",
      "      If (prev_supervisor_experience <= 0.5)\n",
      "       Predict: 1.0\n",
      "      Else (prev_supervisor_experience > 0.5)\n",
      "       If (coworkers_experience <= 0.5)\n",
      "        If (OHE_gender_new_non-binary in {1.0})\n",
      "         Predict: 0.0\n",
      "        Else (OHE_gender_new_non-binary not in {1.0})\n",
      "         Predict: 1.0\n",
      "       Else (coworkers_experience > 0.5)\n",
      "        If (age <= 25.5)\n",
      "         Predict: 0.0\n",
      "        Else (age > 25.5)\n",
      "         Predict: 1.0\n",
      "     Else (OHE_care_options_No not in {1.0})\n",
      "      If (prev_supervisor_experience <= 0.5)\n",
      "       If (age <= 38.5)\n",
      "        Predict: 1.0\n",
      "       Else (age > 38.5)\n",
      "        If (age <= 41.5)\n",
      "         Predict: 0.0\n",
      "        Else (age > 41.5)\n",
      "         Predict: 1.0\n",
      "      Else (prev_supervisor_experience > 0.5)\n",
      "       Predict: 1.0\n",
      "  Tree 6 (weight 1.0):\n",
      "    If (coworkers_experience <= 0.5)\n",
      "     If (OHE_mh_family_history_Yes in {0.0})\n",
      "      If (age <= 39.5)\n",
      "       If (OHE_mh_family_history_I don't know in {0.0})\n",
      "        If (prev_supervisor_experience <= 0.5)\n",
      "         Predict: 0.0\n",
      "        Else (prev_supervisor_experience > 0.5)\n",
      "         Predict: 1.0\n",
      "       Else (OHE_mh_family_history_I don't know not in {0.0})\n",
      "        Predict: 0.0\n",
      "      Else (age > 39.5)\n",
      "       If (OHE_mh_family_history_No in {1.0})\n",
      "        Predict: 0.0\n",
      "       Else (OHE_mh_family_history_No not in {1.0})\n",
      "        If (age <= 42.5)\n",
      "         Predict: 1.0\n",
      "        Else (age > 42.5)\n",
      "         Predict: 0.0\n",
      "     Else (OHE_mh_family_history_Yes not in {0.0})\n",
      "      If (prev_supervisor_experience <= 0.5)\n",
      "       If (OHE_gender_new_female in {1.0})\n",
      "        Predict: 1.0\n",
      "       Else (OHE_gender_new_female not in {1.0})\n",
      "        If (OHE_care_options_No in {1.0})\n",
      "         Predict: 0.0\n",
      "        Else (OHE_care_options_No not in {1.0})\n",
      "         Predict: 1.0\n",
      "      Else (prev_supervisor_experience > 0.5)\n",
      "       If (OHE_gender_new_non-binary in {1.0})\n",
      "        Predict: 0.0\n",
      "       Else (OHE_gender_new_non-binary not in {1.0})\n",
      "        Predict: 1.0\n",
      "    Else (coworkers_experience > 0.5)\n",
      "     If (OHE_mh_family_history_No in {1.0})\n",
      "      If (age <= 47.5)\n",
      "       If (age <= 32.5)\n",
      "        If (OHE_gender_new_male in {0.0})\n",
      "         Predict: 1.0\n",
      "        Else (OHE_gender_new_male not in {0.0})\n",
      "         Predict: 0.0\n",
      "       Else (age > 32.5)\n",
      "        If (OHE_gender_new_female in {1.0})\n",
      "         Predict: 0.0\n",
      "        Else (OHE_gender_new_female not in {1.0})\n",
      "         Predict: 1.0\n",
      "      Else (age > 47.5)\n",
      "       Predict: 1.0\n",
      "     Else (OHE_mh_family_history_No not in {1.0})\n",
      "      If (prev_supervisor_experience <= 0.5)\n",
      "       Predict: 1.0\n",
      "      Else (prev_supervisor_experience > 0.5)\n",
      "       If (age <= 25.5)\n",
      "        If (OHE_care_options_Yes in {0.0})\n",
      "         Predict: 0.0\n",
      "        Else (OHE_care_options_Yes not in {0.0})\n",
      "         Predict: 1.0\n",
      "       Else (age > 25.5)\n",
      "        Predict: 1.0\n",
      "  Tree 7 (weight 1.0):\n",
      "    If (OHE_mh_family_history_No in {1.0})\n",
      "     If (OHE_gender_new_male in {0.0})\n",
      "      If (age <= 45.5)\n",
      "       If (OHE_gender_new_female in {0.0})\n",
      "        Predict: 1.0\n",
      "       Else (OHE_gender_new_female not in {0.0})\n",
      "        If (age <= 37.5)\n",
      "         Predict: 0.0\n",
      "        Else (age > 37.5)\n",
      "         Predict: 1.0\n",
      "      Else (age > 45.5)\n",
      "       Predict: 0.0\n",
      "     Else (OHE_gender_new_male not in {0.0})\n",
      "      If (age <= 47.5)\n",
      "       If (coworkers_experience <= 0.5)\n",
      "        If (prev_supervisor_experience <= 0.5)\n",
      "         Predict: 0.0\n",
      "        Else (prev_supervisor_experience > 0.5)\n",
      "         Predict: 1.0\n",
      "       Else (coworkers_experience > 0.5)\n",
      "        If (prev_supervisor_experience <= 0.5)\n",
      "         Predict: 0.0\n",
      "        Else (prev_supervisor_experience > 0.5)\n",
      "         Predict: 1.0\n",
      "      Else (age > 47.5)\n",
      "       If (prev_supervisor_experience <= 0.5)\n",
      "        Predict: 0.0\n",
      "       Else (prev_supervisor_experience > 0.5)\n",
      "        Predict: 1.0\n",
      "    Else (OHE_mh_family_history_No not in {1.0})\n",
      "     If (prev_supervisor_experience <= 0.5)\n",
      "      If (OHE_care_options_No in {1.0})\n",
      "       If (coworkers_experience <= 0.5)\n",
      "        If (OHE_gender_new_male in {0.0})\n",
      "         Predict: 1.0\n",
      "        Else (OHE_gender_new_male not in {0.0})\n",
      "         Predict: 0.0\n",
      "       Else (coworkers_experience > 0.5)\n",
      "        If (OHE_gender_new_female in {1.0})\n",
      "         Predict: 0.0\n",
      "        Else (OHE_gender_new_female not in {1.0})\n",
      "         Predict: 1.0\n",
      "      Else (OHE_care_options_No not in {1.0})\n",
      "       Predict: 1.0\n",
      "     Else (prev_supervisor_experience > 0.5)\n",
      "      If (coworkers_experience <= 0.5)\n",
      "       If (OHE_gender_new_female in {1.0})\n",
      "        Predict: 1.0\n",
      "       Else (OHE_gender_new_female not in {1.0})\n",
      "        If (OHE_gender_new_non-binary in {1.0})\n",
      "         Predict: 0.0\n",
      "        Else (OHE_gender_new_non-binary not in {1.0})\n",
      "         Predict: 1.0\n",
      "      Else (coworkers_experience > 0.5)\n",
      "       Predict: 1.0\n",
      "  Tree 8 (weight 1.0):\n",
      "    If (OHE_gender_new_male in {0.0})\n",
      "     If (OHE_mh_family_history_No in {1.0})\n",
      "      If (age <= 45.5)\n",
      "       If (supervisor_experience <= 0.5)\n",
      "        Predict: 0.0\n",
      "       Else (supervisor_experience > 0.5)\n",
      "        Predict: 1.0\n",
      "      Else (age > 45.5)\n",
      "       Predict: 0.0\n",
      "     Else (OHE_mh_family_history_No not in {1.0})\n",
      "      If (OHE_gender_new_female in {0.0})\n",
      "       If (age <= 36.5)\n",
      "        Predict: 1.0\n",
      "       Else (age > 36.5)\n",
      "        If (OHE_care_options_No in {1.0})\n",
      "         Predict: 0.0\n",
      "        Else (OHE_care_options_No not in {1.0})\n",
      "         Predict: 1.0\n",
      "      Else (OHE_gender_new_female not in {0.0})\n",
      "       Predict: 1.0\n",
      "    Else (OHE_gender_new_male not in {0.0})\n",
      "     If (coworkers_experience <= 0.5)\n",
      "      If (OHE_mh_family_history_I don't know in {1.0})\n",
      "       Predict: 1.0\n",
      "      Else (OHE_mh_family_history_I don't know not in {1.0})\n",
      "       If (OHE_care_options_Yes in {0.0})\n",
      "        Predict: 0.0\n",
      "       Else (OHE_care_options_Yes not in {0.0})\n",
      "        If (OHE_mh_family_history_No in {1.0})\n",
      "         Predict: 0.0\n",
      "        Else (OHE_mh_family_history_No not in {1.0})\n",
      "         Predict: 1.0\n",
      "     Else (coworkers_experience > 0.5)\n",
      "      If (OHE_care_options_No in {1.0})\n",
      "       If (prev_supervisor_experience <= 0.5)\n",
      "        If (OHE_mh_family_history_No in {1.0})\n",
      "         Predict: 0.0\n",
      "        Else (OHE_mh_family_history_No not in {1.0})\n",
      "         Predict: 1.0\n",
      "       Else (prev_supervisor_experience > 0.5)\n",
      "        Predict: 1.0\n",
      "      Else (OHE_care_options_No not in {1.0})\n",
      "       If (age <= 40.5)\n",
      "        Predict: 1.0\n",
      "       Else (age > 40.5)\n",
      "        If (prev_supervisor_experience <= 0.5)\n",
      "         Predict: 1.0\n",
      "        Else (prev_supervisor_experience > 0.5)\n",
      "         Predict: 0.0\n",
      "  Tree 9 (weight 1.0):\n",
      "    If (coworkers_experience <= 0.5)\n",
      "     If (OHE_gender_new_male in {0.0})\n",
      "      If (age <= 24.5)\n",
      "       Predict: 0.0\n",
      "      Else (age > 24.5)\n",
      "       If (OHE_mh_family_history_Yes in {0.0})\n",
      "        If (OHE_mh_family_history_I don't know in {0.0})\n",
      "         Predict: 0.0\n",
      "        Else (OHE_mh_family_history_I don't know not in {0.0})\n",
      "         Predict: 1.0\n",
      "       Else (OHE_mh_family_history_Yes not in {0.0})\n",
      "        Predict: 1.0\n",
      "     Else (OHE_gender_new_male not in {0.0})\n",
      "      If (OHE_mh_family_history_No in {1.0})\n",
      "       Predict: 0.0\n",
      "      Else (OHE_mh_family_history_No not in {1.0})\n",
      "       Predict: 1.0\n",
      "    Else (coworkers_experience > 0.5)\n",
      "     If (supervisor_experience <= 0.5)\n",
      "      If (OHE_mh_family_history_I don't know in {1.0})\n",
      "       If (age <= 38.5)\n",
      "        Predict: 1.0\n",
      "       Else (age > 38.5)\n",
      "        If (OHE_care_options_Yes in {1.0})\n",
      "         Predict: 0.0\n",
      "        Else (OHE_care_options_Yes not in {1.0})\n",
      "         Predict: 1.0\n",
      "      Else (OHE_mh_family_history_I don't know not in {1.0})\n",
      "       If (OHE_gender_new_female in {1.0})\n",
      "        Predict: 1.0\n",
      "       Else (OHE_gender_new_female not in {1.0})\n",
      "        If (OHE_mh_family_history_Yes in {0.0})\n",
      "         Predict: 0.0\n",
      "        Else (OHE_mh_family_history_Yes not in {0.0})\n",
      "         Predict: 1.0\n",
      "     Else (supervisor_experience > 0.5)\n",
      "      If (prev_supervisor_experience <= 0.5)\n",
      "       Predict: 1.0\n",
      "      Else (prev_supervisor_experience > 0.5)\n",
      "       If (age <= 44.5)\n",
      "        Predict: 1.0\n",
      "       Else (age > 44.5)\n",
      "        If (age <= 47.5)\n",
      "         Predict: 0.0\n",
      "        Else (age > 47.5)\n",
      "         Predict: 1.0\n",
      "  Tree 10 (weight 1.0):\n",
      "    If (coworkers_experience <= 0.5)\n",
      "     If (OHE_gender_new_female in {1.0})\n",
      "      If (OHE_mh_family_history_Yes in {0.0})\n",
      "       If (supervisor_experience <= 0.5)\n",
      "        If (OHE_care_options_Yes in {1.0})\n",
      "         Predict: 0.0\n",
      "        Else (OHE_care_options_Yes not in {1.0})\n",
      "         Predict: 1.0\n",
      "       Else (supervisor_experience > 0.5)\n",
      "        Predict: 1.0\n",
      "      Else (OHE_mh_family_history_Yes not in {0.0})\n",
      "       Predict: 1.0\n",
      "     Else (OHE_gender_new_female not in {1.0})\n",
      "      If (OHE_care_options_No in {0.0})\n",
      "       If (OHE_mh_family_history_Yes in {1.0})\n",
      "        If (OHE_gender_new_male in {0.0})\n",
      "         Predict: 0.0\n",
      "        Else (OHE_gender_new_male not in {0.0})\n",
      "         Predict: 1.0\n",
      "       Else (OHE_mh_family_history_Yes not in {1.0})\n",
      "        If (prev_supervisor_experience <= 0.5)\n",
      "         Predict: 0.0\n",
      "        Else (prev_supervisor_experience > 0.5)\n",
      "         Predict: 1.0\n",
      "      Else (OHE_care_options_No not in {0.0})\n",
      "       If (age <= 40.5)\n",
      "        If (OHE_mh_family_history_Yes in {1.0})\n",
      "         Predict: 1.0\n",
      "        Else (OHE_mh_family_history_Yes not in {1.0})\n",
      "         Predict: 0.0\n",
      "       Else (age > 40.5)\n",
      "        Predict: 0.0\n",
      "    Else (coworkers_experience > 0.5)\n",
      "     If (age <= 50.5)\n",
      "      If (OHE_care_options_No in {1.0})\n",
      "       Predict: 1.0\n",
      "      Else (OHE_care_options_No not in {1.0})\n",
      "       If (OHE_gender_new_female in {1.0})\n",
      "        Predict: 1.0\n",
      "       Else (OHE_gender_new_female not in {1.0})\n",
      "        If (OHE_mh_family_history_No in {1.0})\n",
      "         Predict: 0.0\n",
      "        Else (OHE_mh_family_history_No not in {1.0})\n",
      "         Predict: 1.0\n",
      "     Else (age > 50.5)\n",
      "      Predict: 1.0\n",
      "  Tree 11 (weight 1.0):\n",
      "    If (OHE_mh_family_history_No in {1.0})\n",
      "     If (coworkers_experience <= 0.5)\n",
      "      If (OHE_gender_new_non-binary in {1.0})\n",
      "       Predict: 1.0\n",
      "      Else (OHE_gender_new_non-binary not in {1.0})\n",
      "       Predict: 0.0\n",
      "     Else (coworkers_experience > 0.5)\n",
      "      If (OHE_gender_new_female in {1.0})\n",
      "       If (supervisor_experience <= 0.5)\n",
      "        Predict: 0.0\n",
      "       Else (supervisor_experience > 0.5)\n",
      "        Predict: 1.0\n",
      "      Else (OHE_gender_new_female not in {1.0})\n",
      "       If (prev_supervisor_experience <= 0.5)\n",
      "        Predict: 0.0\n",
      "       Else (prev_supervisor_experience > 0.5)\n",
      "        If (age <= 29.5)\n",
      "         Predict: 1.0\n",
      "        Else (age > 29.5)\n",
      "         Predict: 0.0\n",
      "    Else (OHE_mh_family_history_No not in {1.0})\n",
      "     If (OHE_care_options_No in {1.0})\n",
      "      If (OHE_gender_new_male in {0.0})\n",
      "       Predict: 1.0\n",
      "      Else (OHE_gender_new_male not in {0.0})\n",
      "       If (prev_supervisor_experience <= 0.5)\n",
      "        If (age <= 37.5)\n",
      "         Predict: 0.0\n",
      "        Else (age > 37.5)\n",
      "         Predict: 1.0\n",
      "       Else (prev_supervisor_experience > 0.5)\n",
      "        Predict: 1.0\n",
      "     Else (OHE_care_options_No not in {1.0})\n",
      "      Predict: 1.0\n",
      "  Tree 12 (weight 1.0):\n",
      "    If (OHE_mh_family_history_No in {1.0})\n",
      "     If (supervisor_experience <= 0.5)\n",
      "      If (age <= 24.5)\n",
      "       If (OHE_gender_new_male in {0.0})\n",
      "        Predict: 0.0\n",
      "       Else (OHE_gender_new_male not in {0.0})\n",
      "        Predict: 1.0\n",
      "      Else (age > 24.5)\n",
      "       If (OHE_gender_new_non-binary in {1.0})\n",
      "        Predict: 1.0\n",
      "       Else (OHE_gender_new_non-binary not in {1.0})\n",
      "        Predict: 0.0\n",
      "     Else (supervisor_experience > 0.5)\n",
      "      If (OHE_gender_new_male in {0.0})\n",
      "       Predict: 0.0\n",
      "      Else (OHE_gender_new_male not in {0.0})\n",
      "       Predict: 1.0\n",
      "    Else (OHE_mh_family_history_No not in {1.0})\n",
      "     If (OHE_care_options_Yes in {0.0})\n",
      "      If (OHE_gender_new_male in {0.0})\n",
      "       If (age <= 41.5)\n",
      "        Predict: 1.0\n",
      "       Else (age > 41.5)\n",
      "        If (prev_supervisor_experience <= 0.5)\n",
      "         Predict: 0.0\n",
      "        Else (prev_supervisor_experience > 0.5)\n",
      "         Predict: 1.0\n",
      "      Else (OHE_gender_new_male not in {0.0})\n",
      "       If (OHE_mh_family_history_I don't know in {1.0})\n",
      "        If (coworkers_experience <= 0.5)\n",
      "         Predict: 0.0\n",
      "        Else (coworkers_experience > 0.5)\n",
      "         Predict: 1.0\n",
      "       Else (OHE_mh_family_history_I don't know not in {1.0})\n",
      "        If (age <= 32.5)\n",
      "         Predict: 1.0\n",
      "        Else (age > 32.5)\n",
      "         Predict: 0.0\n",
      "     Else (OHE_care_options_Yes not in {0.0})\n",
      "      Predict: 1.0\n",
      "  Tree 13 (weight 1.0):\n",
      "    If (coworkers_experience <= 0.5)\n",
      "     If (OHE_mh_family_history_No in {1.0})\n",
      "      If (OHE_gender_new_male in {0.0})\n",
      "       If (OHE_care_options_No in {1.0})\n",
      "        Predict: 0.0\n",
      "       Else (OHE_care_options_No not in {1.0})\n",
      "        If (OHE_gender_new_female in {0.0})\n",
      "         Predict: 1.0\n",
      "        Else (OHE_gender_new_female not in {0.0})\n",
      "         Predict: 0.0\n",
      "      Else (OHE_gender_new_male not in {0.0})\n",
      "       If (prev_supervisor_experience <= 0.5)\n",
      "        Predict: 0.0\n",
      "       Else (prev_supervisor_experience > 0.5)\n",
      "        Predict: 1.0\n",
      "     Else (OHE_mh_family_history_No not in {1.0})\n",
      "      If (OHE_care_options_No in {1.0})\n",
      "       If (prev_supervisor_experience <= 0.5)\n",
      "        If (OHE_mh_family_history_I don't know in {1.0})\n",
      "         Predict: 0.0\n",
      "        Else (OHE_mh_family_history_I don't know not in {1.0})\n",
      "         Predict: 1.0\n",
      "       Else (prev_supervisor_experience > 0.5)\n",
      "        If (supervisor_experience <= 0.5)\n",
      "         Predict: 1.0\n",
      "        Else (supervisor_experience > 0.5)\n",
      "         Predict: 0.0\n",
      "      Else (OHE_care_options_No not in {1.0})\n",
      "       If (prev_supervisor_experience <= 0.5)\n",
      "        Predict: 1.0\n",
      "       Else (prev_supervisor_experience > 0.5)\n",
      "        If (age <= 28.5)\n",
      "         Predict: 0.0\n",
      "        Else (age > 28.5)\n",
      "         Predict: 1.0\n",
      "    Else (coworkers_experience > 0.5)\n",
      "     If (supervisor_experience <= 0.5)\n",
      "      If (age <= 37.5)\n",
      "       Predict: 1.0\n",
      "      Else (age > 37.5)\n",
      "       If (OHE_gender_new_non-binary in {1.0})\n",
      "        Predict: 1.0\n",
      "       Else (OHE_gender_new_non-binary not in {1.0})\n",
      "        If (OHE_care_options_Yes in {1.0})\n",
      "         Predict: 1.0\n",
      "        Else (OHE_care_options_Yes not in {1.0})\n",
      "         Predict: 0.0\n",
      "     Else (supervisor_experience > 0.5)\n",
      "      If (OHE_care_options_No in {1.0})\n",
      "       If (OHE_gender_new_female in {1.0})\n",
      "        If (age <= 44.5)\n",
      "         Predict: 1.0\n",
      "        Else (age > 44.5)\n",
      "         Predict: 0.0\n",
      "       Else (OHE_gender_new_female not in {1.0})\n",
      "        Predict: 1.0\n",
      "      Else (OHE_care_options_No not in {1.0})\n",
      "       Predict: 1.0\n",
      "  Tree 14 (weight 1.0):\n",
      "    If (prev_supervisor_experience <= 0.5)\n",
      "     If (OHE_care_options_Yes in {0.0})\n",
      "      If (coworkers_experience <= 0.5)\n",
      "       If (OHE_gender_new_female in {1.0})\n",
      "        Predict: 0.0\n",
      "       Else (OHE_gender_new_female not in {1.0})\n",
      "        If (OHE_gender_new_non-binary in {1.0})\n",
      "         Predict: 1.0\n",
      "        Else (OHE_gender_new_non-binary not in {1.0})\n",
      "         Predict: 0.0\n",
      "      Else (coworkers_experience > 0.5)\n",
      "       Predict: 1.0\n",
      "     Else (OHE_care_options_Yes not in {0.0})\n",
      "      If (age <= 35.5)\n",
      "       If (OHE_mh_family_history_No in {1.0})\n",
      "        If (OHE_gender_new_female in {0.0})\n",
      "         Predict: 0.0\n",
      "        Else (OHE_gender_new_female not in {0.0})\n",
      "         Predict: 1.0\n",
      "       Else (OHE_mh_family_history_No not in {1.0})\n",
      "        Predict: 1.0\n",
      "      Else (age > 35.5)\n",
      "       If (coworkers_experience <= 0.5)\n",
      "        If (OHE_mh_family_history_No in {1.0})\n",
      "         Predict: 0.0\n",
      "        Else (OHE_mh_family_history_No not in {1.0})\n",
      "         Predict: 1.0\n",
      "       Else (coworkers_experience > 0.5)\n",
      "        Predict: 1.0\n",
      "    Else (prev_supervisor_experience > 0.5)\n",
      "     If (OHE_care_options_Yes in {0.0})\n",
      "      If (OHE_mh_family_history_No in {1.0})\n",
      "       If (supervisor_experience <= 0.5)\n",
      "        Predict: 0.0\n",
      "       Else (supervisor_experience > 0.5)\n",
      "        Predict: 1.0\n",
      "      Else (OHE_mh_family_history_No not in {1.0})\n",
      "       Predict: 1.0\n",
      "     Else (OHE_care_options_Yes not in {0.0})\n",
      "      If (coworkers_experience <= 0.5)\n",
      "       If (OHE_gender_new_male in {0.0})\n",
      "        If (age <= 29.5)\n",
      "         Predict: 0.0\n",
      "        Else (age > 29.5)\n",
      "         Predict: 1.0\n",
      "       Else (OHE_gender_new_male not in {0.0})\n",
      "        If (age <= 42.5)\n",
      "         Predict: 1.0\n",
      "        Else (age > 42.5)\n",
      "         Predict: 0.0\n",
      "      Else (coworkers_experience > 0.5)\n",
      "       If (age <= 33.5)\n",
      "        If (age <= 32.5)\n",
      "         Predict: 1.0\n",
      "        Else (age > 32.5)\n",
      "         Predict: 0.0\n",
      "       Else (age > 33.5)\n",
      "        Predict: 1.0\n",
      "  Tree 15 (weight 1.0):\n",
      "    If (OHE_mh_family_history_No in {1.0})\n",
      "     If (prev_supervisor_experience <= 0.5)\n",
      "      If (coworkers_experience <= 0.5)\n",
      "       If (OHE_gender_new_male in {0.0})\n",
      "        If (OHE_gender_new_non-binary in {1.0})\n",
      "         Predict: 1.0\n",
      "        Else (OHE_gender_new_non-binary not in {1.0})\n",
      "         Predict: 0.0\n",
      "       Else (OHE_gender_new_male not in {0.0})\n",
      "        Predict: 0.0\n",
      "      Else (coworkers_experience > 0.5)\n",
      "       If (OHE_gender_new_female in {1.0})\n",
      "        If (age <= 28.5)\n",
      "         Predict: 1.0\n",
      "        Else (age > 28.5)\n",
      "         Predict: 0.0\n",
      "       Else (OHE_gender_new_female not in {1.0})\n",
      "        If (supervisor_experience <= 0.5)\n",
      "         Predict: 0.0\n",
      "        Else (supervisor_experience > 0.5)\n",
      "         Predict: 1.0\n",
      "     Else (prev_supervisor_experience > 0.5)\n",
      "      If (OHE_gender_new_female in {1.0})\n",
      "       If (OHE_care_options_Yes in {1.0})\n",
      "        Predict: 0.0\n",
      "       Else (OHE_care_options_Yes not in {1.0})\n",
      "        If (supervisor_experience <= 0.5)\n",
      "         Predict: 1.0\n",
      "        Else (supervisor_experience > 0.5)\n",
      "         Predict: 0.0\n",
      "      Else (OHE_gender_new_female not in {1.0})\n",
      "       If (coworkers_experience <= 0.5)\n",
      "        If (OHE_care_options_No in {1.0})\n",
      "         Predict: 0.0\n",
      "        Else (OHE_care_options_No not in {1.0})\n",
      "         Predict: 1.0\n",
      "       Else (coworkers_experience > 0.5)\n",
      "        Predict: 1.0\n",
      "    Else (OHE_mh_family_history_No not in {1.0})\n",
      "     If (OHE_care_options_No in {1.0})\n",
      "      If (prev_supervisor_experience <= 0.5)\n",
      "       If (OHE_mh_family_history_I don't know in {1.0})\n",
      "        Predict: 0.0\n",
      "       Else (OHE_mh_family_history_I don't know not in {1.0})\n",
      "        If (OHE_gender_new_female in {1.0})\n",
      "         Predict: 1.0\n",
      "        Else (OHE_gender_new_female not in {1.0})\n",
      "         Predict: 0.0\n",
      "      Else (prev_supervisor_experience > 0.5)\n",
      "       If (age <= 32.5)\n",
      "        Predict: 1.0\n",
      "       Else (age > 32.5)\n",
      "        If (OHE_gender_new_non-binary in {1.0})\n",
      "         Predict: 0.0\n",
      "        Else (OHE_gender_new_non-binary not in {1.0})\n",
      "         Predict: 1.0\n",
      "     Else (OHE_care_options_No not in {1.0})\n",
      "      If (prev_supervisor_experience <= 0.5)\n",
      "       Predict: 1.0\n",
      "      Else (prev_supervisor_experience > 0.5)\n",
      "       If (OHE_gender_new_non-binary in {1.0})\n",
      "        If (coworkers_experience <= 0.5)\n",
      "         Predict: 0.0\n",
      "        Else (coworkers_experience > 0.5)\n",
      "         Predict: 1.0\n",
      "       Else (OHE_gender_new_non-binary not in {1.0})\n",
      "        Predict: 1.0\n",
      "  Tree 16 (weight 1.0):\n",
      "    If (coworkers_experience <= 0.5)\n",
      "     If (OHE_care_options_No in {1.0})\n",
      "      If (OHE_mh_family_history_No in {1.0})\n",
      "       If (supervisor_experience <= 0.5)\n",
      "        Predict: 0.0\n",
      "       Else (supervisor_experience > 0.5)\n",
      "        If (age <= 26.5)\n",
      "         Predict: 0.0\n",
      "        Else (age > 26.5)\n",
      "         Predict: 1.0\n",
      "      Else (OHE_mh_family_history_No not in {1.0})\n",
      "       If (OHE_gender_new_female in {1.0})\n",
      "        Predict: 1.0\n",
      "       Else (OHE_gender_new_female not in {1.0})\n",
      "        If (OHE_mh_family_history_Yes in {1.0})\n",
      "         Predict: 0.0\n",
      "        Else (OHE_mh_family_history_Yes not in {1.0})\n",
      "         Predict: 1.0\n",
      "     Else (OHE_care_options_No not in {1.0})\n",
      "      If (prev_supervisor_experience <= 0.5)\n",
      "       If (OHE_mh_family_history_Yes in {0.0})\n",
      "        If (OHE_mh_family_history_No in {1.0})\n",
      "         Predict: 0.0\n",
      "        Else (OHE_mh_family_history_No not in {1.0})\n",
      "         Predict: 1.0\n",
      "       Else (OHE_mh_family_history_Yes not in {0.0})\n",
      "        Predict: 1.0\n",
      "      Else (prev_supervisor_experience > 0.5)\n",
      "       If (age <= 46.5)\n",
      "        Predict: 1.0\n",
      "       Else (age > 46.5)\n",
      "        Predict: 0.0\n",
      "    Else (coworkers_experience > 0.5)\n",
      "     If (OHE_mh_family_history_No in {1.0})\n",
      "      If (age <= 47.5)\n",
      "       If (age <= 41.5)\n",
      "        If (supervisor_experience <= 0.5)\n",
      "         Predict: 0.0\n",
      "        Else (supervisor_experience > 0.5)\n",
      "         Predict: 1.0\n",
      "       Else (age > 41.5)\n",
      "        If (OHE_gender_new_male in {1.0})\n",
      "         Predict: 0.0\n",
      "        Else (OHE_gender_new_male not in {1.0})\n",
      "         Predict: 1.0\n",
      "      Else (age > 47.5)\n",
      "       Predict: 1.0\n",
      "     Else (OHE_mh_family_history_No not in {1.0})\n",
      "      Predict: 1.0\n",
      "  Tree 17 (weight 1.0):\n",
      "    If (coworkers_experience <= 0.5)\n",
      "     If (OHE_care_options_Yes in {0.0})\n",
      "      If (OHE_gender_new_female in {1.0})\n",
      "       If (OHE_mh_family_history_No in {1.0})\n",
      "        If (age <= 27.5)\n",
      "         Predict: 0.0\n",
      "        Else (age > 27.5)\n",
      "         Predict: 1.0\n",
      "       Else (OHE_mh_family_history_No not in {1.0})\n",
      "        Predict: 1.0\n",
      "      Else (OHE_gender_new_female not in {1.0})\n",
      "       If (supervisor_experience <= 0.5)\n",
      "        Predict: 0.0\n",
      "       Else (supervisor_experience > 0.5)\n",
      "        If (age <= 26.5)\n",
      "         Predict: 0.0\n",
      "        Else (age > 26.5)\n",
      "         Predict: 1.0\n",
      "     Else (OHE_care_options_Yes not in {0.0})\n",
      "      If (OHE_mh_family_history_Yes in {0.0})\n",
      "       If (OHE_mh_family_history_I don't know in {0.0})\n",
      "        If (OHE_gender_new_non-binary in {1.0})\n",
      "         Predict: 1.0\n",
      "        Else (OHE_gender_new_non-binary not in {1.0})\n",
      "         Predict: 0.0\n",
      "       Else (OHE_mh_family_history_I don't know not in {0.0})\n",
      "        If (age <= 26.5)\n",
      "         Predict: 0.0\n",
      "        Else (age > 26.5)\n",
      "         Predict: 1.0\n",
      "      Else (OHE_mh_family_history_Yes not in {0.0})\n",
      "       Predict: 1.0\n",
      "    Else (coworkers_experience > 0.5)\n",
      "     If (OHE_care_options_Yes in {0.0})\n",
      "      If (OHE_mh_family_history_Yes in {0.0})\n",
      "       If (OHE_gender_new_male in {0.0})\n",
      "        If (OHE_gender_new_female in {0.0})\n",
      "         Predict: 1.0\n",
      "        Else (OHE_gender_new_female not in {0.0})\n",
      "         Predict: 0.0\n",
      "       Else (OHE_gender_new_male not in {0.0})\n",
      "        If (age <= 38.5)\n",
      "         Predict: 0.0\n",
      "        Else (age > 38.5)\n",
      "         Predict: 1.0\n",
      "      Else (OHE_mh_family_history_Yes not in {0.0})\n",
      "       If (age <= 40.5)\n",
      "        If (age <= 38.5)\n",
      "         Predict: 1.0\n",
      "        Else (age > 38.5)\n",
      "         Predict: 0.0\n",
      "       Else (age > 40.5)\n",
      "        Predict: 1.0\n",
      "     Else (OHE_care_options_Yes not in {0.0})\n",
      "      If (OHE_mh_family_history_No in {1.0})\n",
      "       Predict: 0.0\n",
      "      Else (OHE_mh_family_history_No not in {1.0})\n",
      "       Predict: 1.0\n",
      "  Tree 18 (weight 1.0):\n",
      "    If (OHE_mh_family_history_Yes in {0.0})\n",
      "     If (prev_supervisor_experience <= 0.5)\n",
      "      If (coworkers_experience <= 0.5)\n",
      "       If (supervisor_experience <= 0.5)\n",
      "        Predict: 0.0\n",
      "       Else (supervisor_experience > 0.5)\n",
      "        If (age <= 26.5)\n",
      "         Predict: 0.0\n",
      "        Else (age > 26.5)\n",
      "         Predict: 1.0\n",
      "      Else (coworkers_experience > 0.5)\n",
      "       If (age <= 40.5)\n",
      "        Predict: 1.0\n",
      "       Else (age > 40.5)\n",
      "        If (age <= 47.5)\n",
      "         Predict: 0.0\n",
      "        Else (age > 47.5)\n",
      "         Predict: 1.0\n",
      "     Else (prev_supervisor_experience > 0.5)\n",
      "      If (age <= 30.5)\n",
      "       If (coworkers_experience <= 0.5)\n",
      "        If (OHE_mh_family_history_No in {1.0})\n",
      "         Predict: 0.0\n",
      "        Else (OHE_mh_family_history_No not in {1.0})\n",
      "         Predict: 1.0\n",
      "       Else (coworkers_experience > 0.5)\n",
      "        Predict: 1.0\n",
      "      Else (age > 30.5)\n",
      "       If (OHE_mh_family_history_No in {0.0})\n",
      "        If (age <= 33.5)\n",
      "         Predict: 0.0\n",
      "        Else (age > 33.5)\n",
      "         Predict: 1.0\n",
      "       Else (OHE_mh_family_history_No not in {0.0})\n",
      "        If (age <= 32.5)\n",
      "         Predict: 0.0\n",
      "        Else (age > 32.5)\n",
      "         Predict: 1.0\n",
      "    Else (OHE_mh_family_history_Yes not in {0.0})\n",
      "     If (OHE_care_options_No in {1.0})\n",
      "      If (supervisor_experience <= 0.5)\n",
      "       If (prev_supervisor_experience <= 0.5)\n",
      "        Predict: 0.0\n",
      "       Else (prev_supervisor_experience > 0.5)\n",
      "        Predict: 1.0\n",
      "      Else (supervisor_experience > 0.5)\n",
      "       If (OHE_gender_new_female in {1.0})\n",
      "        If (age <= 44.5)\n",
      "         Predict: 1.0\n",
      "        Else (age > 44.5)\n",
      "         Predict: 0.0\n",
      "       Else (OHE_gender_new_female not in {1.0})\n",
      "        If (coworkers_experience <= 0.5)\n",
      "         Predict: 0.0\n",
      "        Else (coworkers_experience > 0.5)\n",
      "         Predict: 1.0\n",
      "     Else (OHE_care_options_No not in {1.0})\n",
      "      If (OHE_gender_new_female in {1.0})\n",
      "       If (age <= 49.5)\n",
      "        Predict: 1.0\n",
      "       Else (age > 49.5)\n",
      "        Predict: 0.0\n",
      "      Else (OHE_gender_new_female not in {1.0})\n",
      "       Predict: 1.0\n",
      "  Tree 19 (weight 1.0):\n",
      "    If (prev_supervisor_experience <= 0.5)\n",
      "     If (OHE_mh_family_history_No in {1.0})\n",
      "      If (supervisor_experience <= 0.5)\n",
      "       If (OHE_care_options_Yes in {1.0})\n",
      "        Predict: 0.0\n",
      "       Else (OHE_care_options_Yes not in {1.0})\n",
      "        If (coworkers_experience <= 0.5)\n",
      "         Predict: 0.0\n",
      "        Else (coworkers_experience > 0.5)\n",
      "         Predict: 1.0\n",
      "      Else (supervisor_experience > 0.5)\n",
      "       Predict: 1.0\n",
      "     Else (OHE_mh_family_history_No not in {1.0})\n",
      "      If (OHE_care_options_No in {1.0})\n",
      "       If (OHE_gender_new_non-binary in {1.0})\n",
      "        Predict: 1.0\n",
      "       Else (OHE_gender_new_non-binary not in {1.0})\n",
      "        If (OHE_gender_new_male in {0.0})\n",
      "         Predict: 1.0\n",
      "        Else (OHE_gender_new_male not in {0.0})\n",
      "         Predict: 0.0\n",
      "      Else (OHE_care_options_No not in {1.0})\n",
      "       Predict: 1.0\n",
      "    Else (prev_supervisor_experience > 0.5)\n",
      "     If (OHE_gender_new_non-binary in {1.0})\n",
      "      If (OHE_care_options_No in {1.0})\n",
      "       Predict: 0.0\n",
      "      Else (OHE_care_options_No not in {1.0})\n",
      "       If (coworkers_experience <= 0.5)\n",
      "        Predict: 0.0\n",
      "       Else (coworkers_experience > 0.5)\n",
      "        Predict: 1.0\n",
      "     Else (OHE_gender_new_non-binary not in {1.0})\n",
      "      Predict: 1.0\n",
      "\n"
     ]
    }
   ],
   "source": [
    "numeric_metadata = output.select(\"features_3\").schema[0].metadata.get('ml_attr').get('attrs').get('numeric')\n",
    "binary_metadata = output.select(\"features_3\").schema[0].metadata.get('ml_attr').get('attrs').get('binary')\n",
    "\n",
    "merge_list = numeric_metadata + binary_metadata \n",
    "\n",
    "newlist = sorted(merge_list, key=lambda d: d['idx']) \n",
    "\n",
    "string = rfc_model.toDebugString\n",
    "\n",
    "input_cols =[i['name'] for  i in newlist]\n",
    "\n",
    "for i, feat in reversed(list(enumerate(input_cols))):\n",
    "    string = string.replace('feature ' + str(i), feat)\n",
    "print(string)"
   ]
  },
  {
   "cell_type": "code",
   "execution_count": 104,
   "id": "eeb7c506",
   "metadata": {},
   "outputs": [
    {
     "name": "stderr",
     "output_type": "stream",
     "text": [
      "/home/ubuntu/spark-3.2.1-bin-hadoop2.7/python/pyspark/sql/context.py:125: FutureWarning: Deprecated in 3.0.0. Use SparkSession.builder.getOrCreate() instead.\n",
      "  warnings.warn(\n"
     ]
    },
    {
     "data": {
      "image/png": "[encoded data removed]",
      "text/plain": [
       "<Figure size 432x288 with 1 Axes>"
      ]
     },
     "metadata": {
      "needs_background": "light"
     },
     "output_type": "display_data"
    },
    {
     "name": "stdout",
     "output_type": "stream",
     "text": [
      "Training set areaUnderROC: 0.8479355652722484\n"
     ]
    }
   ],
   "source": [
    "# Returns as a list (false positive rate, true positive rate)\n",
    "from pyspark.mllib.evaluation import BinaryClassificationMetrics\n",
    "trainingSummary = rfc_model.summary\n",
    "roc = trainingSummary.roc.toPandas()\n",
    "plt.plot(roc['FPR'],roc['TPR'])\n",
    "plt.ylabel('False Positive Rate')\n",
    "plt.xlabel('True Positive Rate')\n",
    "plt.title('ROC Curve')\n",
    "plt.show()\n",
    "print('Training set areaUnderROC: ' + str(trainingSummary.areaUnderROC))"
   ]
  },
  {
   "cell_type": "code",
   "execution_count": 105,
   "id": "47f0e850",
   "metadata": {},
   "outputs": [
    {
     "name": "stderr",
     "output_type": "stream",
     "text": [
      "/home/ubuntu/spark-3.2.1-bin-hadoop2.7/python/pyspark/sql/context.py:125: FutureWarning: Deprecated in 3.0.0. Use SparkSession.builder.getOrCreate() instead.\n",
      "  warnings.warn(\n"
     ]
    },
    {
     "name": "stdout",
     "output_type": "stream",
     "text": [
      "[[36. 25.]\n",
      " [12. 89.]]\n"
     ]
    }
   ],
   "source": [
    "from pyspark.mllib.evaluation import BinaryClassificationMetrics, MulticlassMetrics\n",
    "#select only prediction and label columns\n",
    "preds_and_labels = rfc_predictions.select(['prediction','mh_treatment'])\n",
    "\n",
    "metrics = MulticlassMetrics(preds_and_labels.rdd.map(tuple))\n",
    "\n",
    "print(metrics.confusionMatrix().toArray())"
   ]
  },
  {
   "cell_type": "code",
   "execution_count": 107,
   "id": "06fbeff8",
   "metadata": {},
   "outputs": [
    {
     "name": "stdout",
     "output_type": "stream",
     "text": [
      "GBT\n",
      "0.7469566628794027\n"
     ]
    }
   ],
   "source": [
    "#try gradient boosting\n",
    "gbt = GBTClassifier(labelCol='mh_treatment',featuresCol='features_3')\n",
    "\n",
    "gbt_model = gbt.fit(train_data)\n",
    "gbt_predictions = gbt_model.transform(test_data)\n",
    "\n",
    "my_binary_gbt_eval = BinaryClassificationEvaluator(labelCol='mh_treatment', rawPredictionCol='prediction')\n",
    "print(\"GBT\")\n",
    "print(my_binary_gbt_eval.evaluate(gbt_predictions))\n"
   ]
  },
  {
   "cell_type": "code",
   "execution_count": 109,
   "id": "9d79e9cd",
   "metadata": {},
   "outputs": [
    {
     "name": "stdout",
     "output_type": "stream",
     "text": [
      "RFC\n",
      "0.8630092517448467\n"
     ]
    }
   ],
   "source": [
    "#feature selection:\n",
    "cols_select = ['OHE_mh_family_history', 'prev_supervisor_experience','coworkers_experience',\n",
    "              'OHE_care_options', 'supervisor_experience','OHE_gender_new', 'age' ]\n",
    "\n",
    "# Combine all features into one vector named features.\n",
    "assembler = VectorAssembler(\n",
    "  inputCols=cols_select,\n",
    "outputCol=\"features_3\")\n",
    "\n",
    "# Let's transform the data. \n",
    "output = assembler.transform(df2)\n",
    "\n",
    "# Train/test split. \n",
    "final_data = output.select(\"features_3\",'mh_treatment')\n",
    "train_data,test_data = final_data.randomSplit([0.8,0.2],18)\n",
    "\n",
    "rfc = RandomForestClassifier(labelCol='mh_treatment',featuresCol='features_3', maxDepth= 6)\n",
    "\n",
    "\n",
    "\n",
    "rfc_model = rfc.fit(train_data)\n",
    "\n",
    "\n",
    "rfc_predictions = rfc_model.transform(test_data)\n",
    "\n",
    "print(\"RFC\")\n",
    "print(my_binary_eval.evaluate(rfc_predictions))"
   ]
  },
  {
   "cell_type": "code",
   "execution_count": 132,
   "id": "ba152177",
   "metadata": {},
   "outputs": [],
   "source": [
    "from pyspark.ml import Pipeline\n",
    "from pyspark.ml.classification import RandomForestClassifier\n",
    "from pyspark.ml.evaluation import BinaryClassificationEvaluator\n",
    "from pyspark.ml.tuning import CrossValidator, ParamGridBuilder\n",
    "\n",
    "rfc = RandomForestClassifier(labelCol='mh_treatment',featuresCol='features_3', maxDepth= 6)\n",
    "stages = []\n",
    "stages += [rfc]\n",
    "\n",
    "parameters = {\"maxDepth\" : [3, 5, 6, 7, 8,10, 15], \"maxBins\" : [6, 12, 24, 32], \"numTrees\" : [3, 5, 10,15,20]}\n",
    "\n",
    "paramGrid = ParamGridBuilder()\n",
    "\n",
    "for key, value in parameters.items():\n",
    "    paramGrid.addGrid(rfc.getParam(key), value)\n",
    "estimatorParamMaps = (paramGrid.build())\n",
    "\n",
    "pipeline = Pipeline(stages=stages)\n",
    "\n",
    "crossValidator = CrossValidator(estimator=pipeline, estimatorParamMaps=estimatorParamMaps, evaluator=MulticlassClassificationEvaluator(labelCol='mh_treatment', predictionCol='prediction', metricName='f1'), numFolds=3)\n",
    "\n",
    "pipelineModel = crossValidator.fit(train_data)\n",
    "\n",
    "predictions = pipelineModel.transform(test_data)\n"
   ]
  },
  {
   "cell_type": "code",
   "execution_count": 133,
   "id": "f23d870f",
   "metadata": {},
   "outputs": [
    {
     "data": {
      "text/plain": [
       "{Param(parent='RandomForestClassifier_6ecd79823184', name='maxDepth', doc='Maximum depth of the tree. (>= 0) E.g., depth 0 means 1 leaf node; depth 1 means 1 internal node + 2 leaf nodes. Must be in range [0, 30].'): 7,\n",
       " Param(parent='RandomForestClassifier_6ecd79823184', name='maxBins', doc='Max number of bins for discretizing continuous features.  Must be >=2 and >= number of categories for any categorical feature.'): 32,\n",
       " Param(parent='RandomForestClassifier_6ecd79823184', name='numTrees', doc='Number of trees to train (>= 1).'): 10}"
      ]
     },
     "execution_count": 133,
     "metadata": {},
     "output_type": "execute_result"
    }
   ],
   "source": [
    "pipelineModel.getEstimatorParamMaps()[ np.argmax(pipelineModel.avgMetrics) ]"
   ]
  },
  {
   "cell_type": "code",
   "execution_count": 161,
   "id": "04d11b42",
   "metadata": {},
   "outputs": [
    {
     "name": "stdout",
     "output_type": "stream",
     "text": [
      "RFC\n",
      "0.8630092517448467\n"
     ]
    }
   ],
   "source": [
    "#feature selection:\n",
    "cols_select = ['OHE_mh_family_history', 'prev_supervisor_experience','coworkers_experience',\n",
    "              'OHE_care_options', 'supervisor_experience','OHE_gender_new', 'age' ]\n",
    "\n",
    "# Combine all features into one vector named features.\n",
    "assembler = VectorAssembler(\n",
    "  inputCols=cols_select,\n",
    "outputCol=\"features_3\")\n",
    "\n",
    "# Let's transform the data. \n",
    "output = assembler.transform(df2)\n",
    "\n",
    "# Train/test split. \n",
    "final_data = output.select(\"features_3\",'mh_treatment')\n",
    "train_data,test_data = final_data.randomSplit([0.8,0.2],18)\n",
    "\n",
    "rfc = RandomForestClassifier(labelCol='mh_treatment',featuresCol='features_3', maxDepth= 6,maxBins=32, numTrees = 20)\n",
    "\n",
    "\n",
    "\n",
    "rfc_model = rfc.fit(train_data)\n",
    "\n",
    "\n",
    "rfc_predictions = rfc_model.transform(test_data)\n",
    "\n",
    "print(\"RFC\")\n",
    "print(my_binary_eval.evaluate(rfc_predictions))"
   ]
  },
  {
   "cell_type": "code",
   "execution_count": null,
   "id": "197b2fd7",
   "metadata": {},
   "outputs": [],
   "source": []
  }
 ],
 "metadata": {
  "kernelspec": {
   "display_name": "Python 3 (ipykernel)",
   "language": "python",
   "name": "python3"
  },
  "language_info": {
   "codemirror_mode": {
    "name": "ipython",
    "version": 3
   },
   "file_extension": ".py",
   "mimetype": "text/x-python",
   "name": "python",
   "nbconvert_exporter": "python",
   "pygments_lexer": "ipython3",
   "version": "3.10.4"
  }
 },
 "nbformat": 4,
 "nbformat_minor": 5
}
